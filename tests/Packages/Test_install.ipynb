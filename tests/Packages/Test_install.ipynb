{
 "cells": [
  {
   "cell_type": "markdown",
   "metadata": {},
   "source": [
    "General installation from github\n",
    "pip install \"Package\" @ git+\"URL of the repository#subdirectory=path\""
   ]
  },
  {
   "cell_type": "code",
   "execution_count": 1,
   "metadata": {},
   "outputs": [],
   "source": [
    "import sys"
   ]
  },
  {
   "cell_type": "markdown",
   "metadata": {},
   "source": [
    "This can take a while to install....2min or so"
   ]
  },
  {
   "cell_type": "code",
   "execution_count": 2,
   "metadata": {},
   "outputs": [
    {
     "name": "stdout",
     "output_type": "stream",
     "text": [
      "Collecting arenz_group_python@ git+https://github.com/Guswib/Arenz_Group_Python\n",
      "  Cloning https://github.com/Guswib/Arenz_Group_Python to c:\\users\\gustav.wiberg\\appdata\\local\\temp\\pip-install-hj9cjevc\\arenz-group-python_a7f0c7edbe8242d09cf188bddbb04040\n",
      "  Resolved https://github.com/Guswib/Arenz_Group_Python to commit a361a01ed428da3e40c26712654059e38bbb441f\n",
      "  Preparing metadata (setup.py): started\n",
      "  Preparing metadata (setup.py): finished with status 'done'\n",
      "Collecting nptdms (from arenz_group_python@ git+https://github.com/Guswib/Arenz_Group_Python)\n",
      "  Using cached npTDMS-1.9.0-py3-none-any.whl\n",
      "Collecting matplotlib (from arenz_group_python@ git+https://github.com/Guswib/Arenz_Group_Python)\n",
      "  Using cached matplotlib-3.9.1-cp311-cp311-win_amd64.whl.metadata (11 kB)\n",
      "Collecting pathlib (from arenz_group_python@ git+https://github.com/Guswib/Arenz_Group_Python)\n",
      "  Using cached pathlib-1.0.1-py3-none-any.whl.metadata (5.1 kB)\n",
      "Collecting contourpy>=1.0.1 (from matplotlib->arenz_group_python@ git+https://github.com/Guswib/Arenz_Group_Python)\n",
      "  Using cached contourpy-1.2.1-cp311-cp311-win_amd64.whl.metadata (5.8 kB)\n",
      "Collecting cycler>=0.10 (from matplotlib->arenz_group_python@ git+https://github.com/Guswib/Arenz_Group_Python)\n",
      "  Using cached cycler-0.12.1-py3-none-any.whl.metadata (3.8 kB)\n",
      "Collecting fonttools>=4.22.0 (from matplotlib->arenz_group_python@ git+https://github.com/Guswib/Arenz_Group_Python)\n",
      "  Using cached fonttools-4.53.0-cp311-cp311-win_amd64.whl.metadata (165 kB)\n",
      "Collecting kiwisolver>=1.3.1 (from matplotlib->arenz_group_python@ git+https://github.com/Guswib/Arenz_Group_Python)\n",
      "  Using cached kiwisolver-1.4.5-cp311-cp311-win_amd64.whl.metadata (6.5 kB)\n",
      "Collecting numpy>=1.23 (from matplotlib->arenz_group_python@ git+https://github.com/Guswib/Arenz_Group_Python)\n",
      "  Using cached numpy-2.0.0-cp311-cp311-win_amd64.whl.metadata (60 kB)\n",
      "Requirement already satisfied: packaging>=20.0 in c:\\users\\gustav.wiberg\\documents\\github\\python\\arenz_group_python\\.conda\\lib\\site-packages (from matplotlib->arenz_group_python@ git+https://github.com/Guswib/Arenz_Group_Python) (24.1)\n",
      "Collecting pillow>=8 (from matplotlib->arenz_group_python@ git+https://github.com/Guswib/Arenz_Group_Python)\n",
      "  Using cached pillow-10.4.0-cp311-cp311-win_amd64.whl.metadata (9.3 kB)\n",
      "Collecting pyparsing>=2.3.1 (from matplotlib->arenz_group_python@ git+https://github.com/Guswib/Arenz_Group_Python)\n",
      "  Using cached pyparsing-3.1.2-py3-none-any.whl.metadata (5.1 kB)\n",
      "Requirement already satisfied: python-dateutil>=2.7 in c:\\users\\gustav.wiberg\\documents\\github\\python\\arenz_group_python\\.conda\\lib\\site-packages (from matplotlib->arenz_group_python@ git+https://github.com/Guswib/Arenz_Group_Python) (2.9.0)\n",
      "Requirement already satisfied: six>=1.5 in c:\\users\\gustav.wiberg\\documents\\github\\python\\arenz_group_python\\.conda\\lib\\site-packages (from python-dateutil>=2.7->matplotlib->arenz_group_python@ git+https://github.com/Guswib/Arenz_Group_Python) (1.16.0)\n",
      "Using cached matplotlib-3.9.1-cp311-cp311-win_amd64.whl (8.0 MB)\n",
      "Using cached pathlib-1.0.1-py3-none-any.whl (14 kB)\n",
      "Using cached contourpy-1.2.1-cp311-cp311-win_amd64.whl (188 kB)\n",
      "Using cached cycler-0.12.1-py3-none-any.whl (8.3 kB)\n",
      "Using cached fonttools-4.53.0-cp311-cp311-win_amd64.whl (2.2 MB)\n",
      "Using cached kiwisolver-1.4.5-cp311-cp311-win_amd64.whl (56 kB)\n",
      "Using cached numpy-2.0.0-cp311-cp311-win_amd64.whl (16.5 MB)\n",
      "Using cached pillow-10.4.0-cp311-cp311-win_amd64.whl (2.6 MB)\n",
      "Using cached pyparsing-3.1.2-py3-none-any.whl (103 kB)\n",
      "Building wheels for collected packages: arenz_group_python\n",
      "  Building wheel for arenz_group_python (setup.py): started\n",
      "  Building wheel for arenz_group_python (setup.py): finished with status 'done'\n",
      "  Created wheel for arenz_group_python: filename=Arenz_Group_Python-0.0.2-py3-none-any.whl size=4530 sha256=25c7d5cd92746508aca15feb32e7d918920ad97296b27537d2dd27d98a909fd7\n",
      "  Stored in directory: C:\\Users\\gustav.wiberg\\AppData\\Local\\Temp\\pip-ephem-wheel-cache-ldulcwmo\\wheels\\e7\\50\\a9\\3224467eb40352eec80bb2ec0ca2b0ceabb74154f19cf4d783\n",
      "Successfully built arenz_group_python\n",
      "Installing collected packages: pathlib, pyparsing, pillow, numpy, kiwisolver, fonttools, cycler, nptdms, contourpy, matplotlib, arenz_group_python\n",
      "Successfully installed arenz_group_python-0.0.2 contourpy-1.2.1 cycler-0.12.1 fonttools-4.53.0 kiwisolver-1.4.5 matplotlib-3.9.1 nptdms-1.9.0 numpy-2.0.0 pathlib-1.0.1 pillow-10.4.0 pyparsing-3.1.2\n"
     ]
    },
    {
     "name": "stderr",
     "output_type": "stream",
     "text": [
      "  Running command git clone --filter=blob:none --quiet https://github.com/Guswib/Arenz_Group_Python 'C:\\Users\\gustav.wiberg\\AppData\\Local\\Temp\\pip-install-hj9cjevc\\arenz-group-python_a7f0c7edbe8242d09cf188bddbb04040'\n"
     ]
    }
   ],
   "source": [
    "!{sys.executable} -m pip install arenz_group_python@git+https://github.com/Guswib/Arenz_Group_Python"
   ]
  },
  {
   "cell_type": "code",
   "execution_count": 3,
   "metadata": {},
   "outputs": [
    {
     "name": "stdout",
     "output_type": "stream",
     "text": [
      "\n",
      "Please wait a moment while I gather a list of all available modules...\n",
      "\n",
      "loading arenz_group_python\n",
      "['c:\\\\Users\\\\gustav.wiberg\\\\Documents\\\\GitHub\\\\Python\\\\Arenz_Group_Python\\\\.conda\\\\Lib\\\\site-packages\\\\arenz_group_python\\\\contents']\n"
     ]
    },
    {
     "name": "stderr",
     "output_type": "stream",
     "text": [
      "c:\\Users\\gustav.wiberg\\Documents\\GitHub\\Python\\Arenz_Group_Python\\.conda\\Lib\\site-packages\\_distutils_hack\\__init__.py:26: UserWarning: Setuptools is replacing distutils.\n",
      "  warnings.warn(\"Setuptools is replacing distutils.\")\n"
     ]
    },
    {
     "name": "stdout",
     "output_type": "stream",
     "text": [
      "IPython             atexit              matplotlib          symtable\n",
      "PIL                 audioop             matplotlib_inline   sys\n",
      "__future__          base64              mimetypes           sysconfig\n",
      "__hello__           bdb                 mmap                tabnanny\n",
      "__phello__          binascii            mmapfile            tarfile\n",
      "_abc                bisect              mmsystem            telnetlib\n",
      "_aix_support        builtins            modulefinder        tempfile\n",
      "_ast                bz2                 mpl_toolkits        test\n",
      "_asyncio            cProfile            msilib              textwrap\n",
      "_bisect             calendar            msvcrt              this\n",
      "_blake2             cgi                 multiprocessing     threading\n",
      "_bootsubprocess     cgitb               nest_asyncio        time\n",
      "_bz2                chunk               netbios             timeit\n",
      "_codecs             cmath               netrc               timer\n",
      "_codecs_cn          cmd                 nntplib             tkinter\n",
      "_codecs_hk          code                nptdms              token\n",
      "_codecs_iso2022     codecs              nt                  tokenize\n",
      "_codecs_jp          codeop              ntpath              tomllib\n",
      "_codecs_kr          collections         ntsecuritycon       tornado\n",
      "_codecs_tw          colorama            nturl2path          trace\n",
      "_collections        colorsys            numbers             traceback\n",
      "_collections_abc    comm                numpy               tracemalloc\n",
      "_compat_pickle      commctrl            odbc                traitlets\n",
      "_compression        compileall          opcode              tty\n",
      "_contextvars        concurrent          operator            turtle\n",
      "_csv                configparser        optparse            turtledemo\n",
      "_ctypes             contextlib          os                  types\n",
      "_ctypes_test        contextvars         packaging           typing\n",
      "_datetime           contourpy           parso               typing_extensions\n",
      "_decimal            copy                pathlib             unicodedata\n",
      "_distutils_hack     copyreg             pdb                 unittest\n",
      "_elementtree        crypt               perfmon             urllib\n",
      "_functools          csv                 pickle              uu\n",
      "_hashlib            ctypes              pickleshare         uuid\n",
      "_heapq              curses              pickletools         venv\n",
      "_imp                cycler              pip                 warnings\n",
      "_io                 dataclasses         pipes               wave\n",
      "_json               datetime            pkg_resources       wcwidth\n",
      "_locale             dateutil            pkgutil             weakref\n",
      "_lsprof             dbi                 platform            webbrowser\n",
      "_lzma               dbm                 platformdirs        wheel\n",
      "_markupbase         dde                 plistlib            win2kras\n",
      "_md5                debugpy             poplib              win32api\n",
      "_msi                decimal             posixpath           win32clipboard\n",
      "_multibytecodec     decorator           pprint              win32com\n",
      "_multiprocessing    difflib             profile             win32con\n",
      "_opcode             dis                 prompt_toolkit      win32console\n",
      "_operator           distutils           pstats              win32cred\n",
      "_osx_support        doctest             psutil              win32crypt\n",
      "_overlapped         email               pty                 win32cryptcon\n",
      "_pickle             encodings           pure_eval           win32event\n",
      "_py_abc             ensurepip           py_compile          win32evtlog\n",
      "_pydecimal          enum                pyclbr              win32evtlogutil\n",
      "_pyio               errno               pydoc               win32file\n",
      "_queue              exceptiongroup      pydoc_data          win32gui\n",
      "_random             executing           pyexpat             win32gui_struct\n",
      "_sha1               faulthandler        pygments            win32help\n",
      "_sha256             filecmp             pylab               win32inet\n",
      "_sha3               fileinput           pyparsing           win32inetcon\n",
      "_sha512             fnmatch             pythoncom           win32job\n",
      "_signal             fontTools           pywin               win32lz\n",
      "_sitebuiltins       fractions           pywin32_bootstrap   win32net\n",
      "_socket             ftplib              pywin32_testutil    win32netcon\n",
      "_sqlite3            functools           pywintypes          win32pdh\n",
      "_sre                gc                  queue               win32pdhquery\n",
      "_ssl                genericpath         quopri              win32pdhutil\n",
      "_stat               getopt              random              win32pipe\n",
      "_statistics         getpass             rasutil             win32print\n",
      "_string             gettext             re                  win32process\n",
      "_strptime           glob                regcheck            win32profile\n",
      "_struct             graphlib            regutil             win32ras\n",
      "_symtable           gzip                reprlib             win32rcparser\n",
      "_testbuffer         hashlib             rlcompleter         win32security\n",
      "_testcapi           heapq               runpy               win32service\n",
      "_testconsole        hmac                sched               win32serviceutil\n",
      "_testimportmultiple html                secrets             win32timezone\n",
      "_testinternalcapi   http                select              win32trace\n",
      "_testmultiphase     idlelib             selectors           win32traceutil\n",
      "_thread             imaplib             servicemanager      win32transaction\n",
      "_threading_local    imghdr              setuptools          win32ts\n",
      "_tkinter            imp                 shelve              win32ui\n",
      "_tokenize           importlib           shlex               win32uiole\n",
      "_tracemalloc        importlib_metadata  shutil              win32verstamp\n",
      "_typing             inspect             signal              win32wnet\n",
      "_uuid               io                  site                winerror\n",
      "_warnings           ipaddress           six                 winioctlcon\n",
      "_weakref            ipykernel           smtpd               winnt\n",
      "_weakrefset         ipykernel_launcher  smtplib             winperf\n",
      "_win32sysloader     isapi               sndhdr              winreg\n",
      "_winapi             itertools           socket              winsound\n",
      "_winxptheme         jedi                socketserver        winxpgui\n",
      "_xxsubinterpreters  json                sqlite3             winxptheme\n",
      "_zoneinfo           jupyter             sre_compile         wsgiref\n",
      "abc                 jupyter_client      sre_constants       xdrlib\n",
      "adodbapi            jupyter_core        sre_parse           xml\n",
      "afxres              keyword             ssl                 xmlrpc\n",
      "aifc                kiwisolver          sspi                xxlimited\n",
      "antigravity         lib2to3             sspicon             xxlimited_35\n",
      "arenz_group_python  linecache           stack_data          xxsubtype\n",
      "argparse            locale              stat                zipapp\n",
      "array               logging             statistics          zipfile\n",
      "ast                 lzma                string              zipimport\n",
      "asttokens           mailbox             stringprep          zipp\n",
      "asynchat            mailcap             struct              zlib\n",
      "asyncio             marshal             subprocess          zmq\n",
      "asyncore            math                sunau               zoneinfo\n",
      "\n",
      "Enter any module name to get more help.  Or, type \"modules spam\" to search\n",
      "for modules whose name or summary contain the string \"spam\".\n",
      "\n"
     ]
    }
   ],
   "source": [
    "help('modules')"
   ]
  }
 ],
 "metadata": {
  "kernelspec": {
   "display_name": "Python 3",
   "language": "python",
   "name": "python3"
  },
  "language_info": {
   "codemirror_mode": {
    "name": "ipython",
    "version": 3
   },
   "file_extension": ".py",
   "mimetype": "text/x-python",
   "name": "python",
   "nbconvert_exporter": "python",
   "pygments_lexer": "ipython3",
   "version": "3.11.9"
  }
 },
 "nbformat": 4,
 "nbformat_minor": 2
}
