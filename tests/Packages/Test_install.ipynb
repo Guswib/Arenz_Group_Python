{
 "cells": [
  {
   "cell_type": "markdown",
   "metadata": {},
   "source": [
    "General installation from github\n",
    "pip install \"Package\" @ git+\"URL of the repository#subdirectory=path\""
   ]
  },
  {
   "cell_type": "code",
   "execution_count": 5,
   "metadata": {},
   "outputs": [],
   "source": [
    "import sys"
   ]
  },
  {
   "cell_type": "code",
   "execution_count": 6,
   "metadata": {},
   "outputs": [
    {
     "name": "stdout",
     "output_type": "stream",
     "text": [
      "Collecting arenz_group_python@ git+https://github.com/Guswib/Arenz_Group_Python\n",
      "  Cloning https://github.com/Guswib/Arenz_Group_Python to c:\\users\\gustav.wiberg\\appdata\\local\\temp\\pip-install-5r0sk9y2\\arenz-group-python_4b99764b8cd1401088774c728b7ad63a\n",
      "  Resolved https://github.com/Guswib/Arenz_Group_Python to commit f8e0ef880b6d92a8a54b4547d3968a8f6a0d2f20\n",
      "  Installing build dependencies: started\n",
      "  Installing build dependencies: finished with status 'done'\n",
      "  Getting requirements to build wheel: started\n",
      "  Getting requirements to build wheel: finished with status 'done'\n",
      "  Preparing metadata (pyproject.toml): started\n",
      "  Preparing metadata (pyproject.toml): finished with status 'done'\n",
      "Requirement already satisfied: nptdms in c:\\users\\gustav.wiberg\\documents\\github\\python\\arenz_group_python\\.venv\\lib\\site-packages (from arenz_group_python@ git+https://github.com/Guswib/Arenz_Group_Python) (1.9.0)\n",
      "Requirement already satisfied: matplotlib in c:\\users\\gustav.wiberg\\documents\\github\\python\\arenz_group_python\\.venv\\lib\\site-packages (from arenz_group_python@ git+https://github.com/Guswib/Arenz_Group_Python) (3.9.1)\n",
      "Requirement already satisfied: pathlib in c:\\users\\gustav.wiberg\\documents\\github\\python\\arenz_group_python\\.venv\\lib\\site-packages (from arenz_group_python@ git+https://github.com/Guswib/Arenz_Group_Python) (1.0.1)\n",
      "Requirement already satisfied: contourpy>=1.0.1 in c:\\users\\gustav.wiberg\\documents\\github\\python\\arenz_group_python\\.venv\\lib\\site-packages (from matplotlib->arenz_group_python@ git+https://github.com/Guswib/Arenz_Group_Python) (1.2.1)\n",
      "Requirement already satisfied: cycler>=0.10 in c:\\users\\gustav.wiberg\\documents\\github\\python\\arenz_group_python\\.venv\\lib\\site-packages (from matplotlib->arenz_group_python@ git+https://github.com/Guswib/Arenz_Group_Python) (0.12.1)\n",
      "Requirement already satisfied: fonttools>=4.22.0 in c:\\users\\gustav.wiberg\\documents\\github\\python\\arenz_group_python\\.venv\\lib\\site-packages (from matplotlib->arenz_group_python@ git+https://github.com/Guswib/Arenz_Group_Python) (4.53.0)\n",
      "Requirement already satisfied: kiwisolver>=1.3.1 in c:\\users\\gustav.wiberg\\documents\\github\\python\\arenz_group_python\\.venv\\lib\\site-packages (from matplotlib->arenz_group_python@ git+https://github.com/Guswib/Arenz_Group_Python) (1.4.5)\n",
      "Requirement already satisfied: numpy>=1.23 in c:\\users\\gustav.wiberg\\documents\\github\\python\\arenz_group_python\\.venv\\lib\\site-packages (from matplotlib->arenz_group_python@ git+https://github.com/Guswib/Arenz_Group_Python) (2.0.0)\n",
      "Requirement already satisfied: packaging>=20.0 in c:\\users\\gustav.wiberg\\documents\\github\\python\\arenz_group_python\\.venv\\lib\\site-packages (from matplotlib->arenz_group_python@ git+https://github.com/Guswib/Arenz_Group_Python) (24.1)\n",
      "Requirement already satisfied: pillow>=8 in c:\\users\\gustav.wiberg\\documents\\github\\python\\arenz_group_python\\.venv\\lib\\site-packages (from matplotlib->arenz_group_python@ git+https://github.com/Guswib/Arenz_Group_Python) (10.4.0)\n",
      "Requirement already satisfied: pyparsing>=2.3.1 in c:\\users\\gustav.wiberg\\documents\\github\\python\\arenz_group_python\\.venv\\lib\\site-packages (from matplotlib->arenz_group_python@ git+https://github.com/Guswib/Arenz_Group_Python) (3.1.2)\n",
      "Requirement already satisfied: python-dateutil>=2.7 in c:\\users\\gustav.wiberg\\documents\\github\\python\\arenz_group_python\\.venv\\lib\\site-packages (from matplotlib->arenz_group_python@ git+https://github.com/Guswib/Arenz_Group_Python) (2.9.0.post0)\n",
      "Requirement already satisfied: six>=1.5 in c:\\users\\gustav.wiberg\\documents\\github\\python\\arenz_group_python\\.venv\\lib\\site-packages (from python-dateutil>=2.7->matplotlib->arenz_group_python@ git+https://github.com/Guswib/Arenz_Group_Python) (1.16.0)\n"
     ]
    },
    {
     "name": "stderr",
     "output_type": "stream",
     "text": [
      "  Running command git clone --filter=blob:none --quiet https://github.com/Guswib/Arenz_Group_Python 'C:\\Users\\gustav.wiberg\\AppData\\Local\\Temp\\pip-install-5r0sk9y2\\arenz-group-python_4b99764b8cd1401088774c728b7ad63a'\n"
     ]
    }
   ],
   "source": [
    "!{sys.executable} -m pip install arenz_group_python@git+https://github.com/Guswib/Arenz_Group_Python"
   ]
  },
  {
   "cell_type": "code",
   "execution_count": 3,
   "metadata": {},
   "outputs": [
    {
     "name": "stdout",
     "output_type": "stream",
     "text": [
      "\n",
      "Please wait a moment while I gather a list of all available modules...\n",
      "\n",
      "test_sqlite3: testing with version '2.6.0', sqlite_version '3.42.0'\n",
      "loading arenz_group_python\n",
      "['c:\\\\Users\\\\gustav.wiberg\\\\Documents\\\\GitHub\\\\Python\\\\Arenz_Group_Python\\\\.venv\\\\Lib\\\\site-packages\\\\arenz_group_python\\\\contents']\n"
     ]
    },
    {
     "name": "stderr",
     "output_type": "stream",
     "text": [
      "c:\\Users\\gustav.wiberg\\Documents\\GitHub\\Python\\Arenz_Group_Python\\.venv\\Lib\\site-packages\\_distutils_hack\\__init__.py:33: UserWarning: Setuptools is replacing distutils.\n",
      "  warnings.warn(\"Setuptools is replacing distutils.\")\n"
     ]
    },
    {
     "name": "stdout",
     "output_type": "stream",
     "text": [
      "IPython             asyncore            matplotlib          sunau\n",
      "PIL                 atexit              matplotlib_inline   symtable\n",
      "__future__          audioop             mimetypes           sys\n",
      "__hello__           base64              mmap                sysconfig\n",
      "__phello__          bdb                 mmapfile            tabnanny\n",
      "_abc                binascii            mmsystem            tarfile\n",
      "_aix_support        bisect              modulefinder        telnetlib\n",
      "_ast                builtins            mpl_toolkits        tempfile\n",
      "_asyncio            bz2                 msilib              test\n",
      "_bisect             cProfile            msvcrt              textwrap\n",
      "_blake2             calendar            multiprocessing     this\n",
      "_bootsubprocess     cgi                 nest_asyncio        threading\n",
      "_bz2                cgitb               netbios             time\n",
      "_codecs             chunk               netrc               timeit\n",
      "_codecs_cn          cmath               nntplib             timer\n",
      "_codecs_hk          cmd                 nptdms              tkinter\n",
      "_codecs_iso2022     code                nt                  token\n",
      "_codecs_jp          codecs              ntpath              tokenize\n",
      "_codecs_kr          codeop              ntsecuritycon       tomllib\n",
      "_codecs_tw          collections         nturl2path          tornado\n",
      "_collections        colorama            numbers             trace\n",
      "_collections_abc    colorsys            numpy               traceback\n",
      "_compat_pickle      comm                odbc                tracemalloc\n",
      "_compression        commctrl            opcode              traitlets\n",
      "_contextvars        compileall          operator            tty\n",
      "_csv                concurrent          optparse            turtle\n",
      "_ctypes             configparser        os                  turtledemo\n",
      "_ctypes_test        contextlib          packaging           types\n",
      "_datetime           contextvars         parso               typing\n",
      "_decimal            contourpy           pathlib             typing_extensions\n",
      "_distutils_hack     copy                pdb                 unicodedata\n",
      "_elementtree        copyreg             perfmon             unittest\n",
      "_functools          crypt               pickle              urllib\n",
      "_hashlib            csv                 pickletools         uu\n",
      "_heapq              ctypes              pip                 uuid\n",
      "_imp                curses              pipes               venv\n",
      "_io                 cycler              pkg_resources       warnings\n",
      "_json               dataclasses         pkgutil             wave\n",
      "_locale             datetime            platform            wcwidth\n",
      "_lsprof             dateutil            platformdirs        weakref\n",
      "_lzma               dbi                 plistlib            webbrowser\n",
      "_markupbase         dbm                 poplib              win2kras\n",
      "_md5                dde                 posixpath           win32api\n",
      "_msi                debugpy             pprint              win32clipboard\n",
      "_multibytecodec     decimal             profile             win32com\n",
      "_multiprocessing    decorator           prompt_toolkit      win32con\n",
      "_opcode             difflib             pstats              win32console\n",
      "_operator           dis                 psutil              win32cred\n",
      "_osx_support        distutils           pty                 win32crypt\n",
      "_overlapped         doctest             pure_eval           win32cryptcon\n",
      "_pickle             email               py_compile          win32event\n",
      "_py_abc             encodings           pyclbr              win32evtlog\n",
      "_pydecimal          ensurepip           pydoc               win32evtlogutil\n",
      "_pyio               enum                pydoc_data          win32file\n",
      "_queue              errno               pyexpat             win32gui\n",
      "_random             executing           pygments            win32gui_struct\n",
      "_sha1               faulthandler        pylab               win32help\n",
      "_sha256             filecmp             pyparsing           win32inet\n",
      "_sha3               fileinput           pythoncom           win32inetcon\n",
      "_sha512             fnmatch             pywin               win32job\n",
      "_signal             fontTools           pywin32_bootstrap   win32lz\n",
      "_sitebuiltins       fractions           pywin32_testutil    win32net\n",
      "_socket             ftplib              pywintypes          win32netcon\n",
      "_sqlite3            functools           queue               win32pdh\n",
      "_sre                gc                  quopri              win32pdhquery\n",
      "_ssl                genericpath         random              win32pdhutil\n",
      "_stat               getopt              rasutil             win32pipe\n",
      "_statistics         getpass             re                  win32print\n",
      "_string             gettext             regcheck            win32process\n",
      "_strptime           glob                regutil             win32profile\n",
      "_struct             graphlib            reprlib             win32ras\n",
      "_symtable           gzip                rlcompleter         win32rcparser\n",
      "_testbuffer         hashlib             runpy               win32security\n",
      "_testcapi           heapq               sched               win32service\n",
      "_testconsole        hmac                secrets             win32serviceutil\n",
      "_testimportmultiple html                select              win32timezone\n",
      "_testinternalcapi   http                selectors           win32trace\n",
      "_testmultiphase     idlelib             servicemanager      win32traceutil\n",
      "_thread             imaplib             setuptools          win32transaction\n",
      "_threading_local    imghdr              shelve              win32ts\n",
      "_tkinter            imp                 shlex               win32ui\n",
      "_tokenize           importlib           shutil              win32uiole\n",
      "_tracemalloc        inspect             signal              win32verstamp\n",
      "_typing             io                  site                win32wnet\n",
      "_uuid               ipaddress           six                 winerror\n",
      "_warnings           ipykernel           smtpd               winioctlcon\n",
      "_weakref            ipykernel_launcher  smtplib             winnt\n",
      "_weakrefset         isapi               sndhdr              winperf\n",
      "_win32sysloader     itertools           socket              winreg\n",
      "_winapi             jedi                socketserver        winsound\n",
      "_winxptheme         json                sqlite3             winxpgui\n",
      "_xxsubinterpreters  jupyter             sre_compile         winxptheme\n",
      "_zoneinfo           jupyter_client      sre_constants       wsgiref\n",
      "abc                 jupyter_core        sre_parse           xdrlib\n",
      "adodbapi            keyword             ssl                 xml\n",
      "afxres              kiwisolver          sspi                xmlrpc\n",
      "aifc                lib2to3             sspicon             xxsubtype\n",
      "antigravity         linecache           stack_data          zipapp\n",
      "arenz_group_python  locale              start_pythonwin     zipfile\n",
      "argparse            logging             stat                zipimport\n",
      "array               lzma                statistics          zlib\n",
      "ast                 mailbox             string              zmq\n",
      "asttokens           mailcap             stringprep          zoneinfo\n",
      "asynchat            marshal             struct              \n",
      "asyncio             math                subprocess          \n",
      "\n",
      "Enter any module name to get more help.  Or, type \"modules spam\" to search\n",
      "for modules whose name or summary contain the string \"spam\".\n",
      "\n"
     ]
    }
   ],
   "source": [
    "help('modules')"
   ]
  }
 ],
 "metadata": {
  "kernelspec": {
   "display_name": "Python 3",
   "language": "python",
   "name": "python3"
  },
  "language_info": {
   "codemirror_mode": {
    "name": "ipython",
    "version": 3
   },
   "file_extension": ".py",
   "mimetype": "text/x-python",
   "name": "python",
   "nbconvert_exporter": "python",
   "pygments_lexer": "ipython3",
   "version": "3.11.5"
  }
 },
 "nbformat": 4,
 "nbformat_minor": 2
}
