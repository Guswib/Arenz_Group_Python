{
 "cells": [
  {
   "cell_type": "code",
   "execution_count": null,
   "metadata": {},
   "outputs": [],
   "source": [
    "pip install \"Package\" @ git+\"URL of the repository#subdirectory=path\"\n"
   ]
  },
  {
   "cell_type": "code",
   "execution_count": 3,
   "metadata": {},
   "outputs": [],
   "source": [
    "import sys"
   ]
  },
  {
   "cell_type": "code",
   "execution_count": 4,
   "metadata": {},
   "outputs": [
    {
     "name": "stdout",
     "output_type": "stream",
     "text": [
      "Collecting arenz_group_python@ git+https://github.com/Guswib/Arenz_Group_Python\n",
      "  Cloning https://github.com/Guswib/Arenz_Group_Python to c:\\users\\gusta\\appdata\\local\\temp\\pip-install-loslnk9g\\arenz-group-python_3432246241594cedb8e19c740225a924\n",
      "  Resolved https://github.com/Guswib/Arenz_Group_Python to commit 44b84891bac365239bbd899b9a08de116f51310f\n",
      "  Installing build dependencies: started\n",
      "  Installing build dependencies: finished with status 'done'\n",
      "  Getting requirements to build wheel: started\n",
      "  Getting requirements to build wheel: finished with status 'done'\n",
      "  Preparing metadata (pyproject.toml): started\n",
      "  Preparing metadata (pyproject.toml): finished with status 'done'\n",
      "Requirement already satisfied: nptdms in c:\\users\\gusta\\documents\\github\\arenz_group_python\\.venv\\lib\\site-packages (from arenz_group_python@ git+https://github.com/Guswib/Arenz_Group_Python) (1.9.0)\n",
      "Requirement already satisfied: matplotlib in c:\\users\\gusta\\documents\\github\\arenz_group_python\\.venv\\lib\\site-packages (from arenz_group_python@ git+https://github.com/Guswib/Arenz_Group_Python) (3.9.1)\n",
      "Requirement already satisfied: pathlib in c:\\users\\gusta\\documents\\github\\arenz_group_python\\.venv\\lib\\site-packages (from arenz_group_python@ git+https://github.com/Guswib/Arenz_Group_Python) (1.0.1)\n",
      "Requirement already satisfied: contourpy>=1.0.1 in c:\\users\\gusta\\documents\\github\\arenz_group_python\\.venv\\lib\\site-packages (from matplotlib->arenz_group_python@ git+https://github.com/Guswib/Arenz_Group_Python) (1.2.1)\n",
      "Requirement already satisfied: cycler>=0.10 in c:\\users\\gusta\\documents\\github\\arenz_group_python\\.venv\\lib\\site-packages (from matplotlib->arenz_group_python@ git+https://github.com/Guswib/Arenz_Group_Python) (0.12.1)\n",
      "Requirement already satisfied: fonttools>=4.22.0 in c:\\users\\gusta\\documents\\github\\arenz_group_python\\.venv\\lib\\site-packages (from matplotlib->arenz_group_python@ git+https://github.com/Guswib/Arenz_Group_Python) (4.53.0)\n",
      "Requirement already satisfied: kiwisolver>=1.3.1 in c:\\users\\gusta\\documents\\github\\arenz_group_python\\.venv\\lib\\site-packages (from matplotlib->arenz_group_python@ git+https://github.com/Guswib/Arenz_Group_Python) (1.4.5)\n",
      "Requirement already satisfied: numpy>=1.23 in c:\\users\\gusta\\documents\\github\\arenz_group_python\\.venv\\lib\\site-packages (from matplotlib->arenz_group_python@ git+https://github.com/Guswib/Arenz_Group_Python) (2.0.0)\n",
      "Requirement already satisfied: packaging>=20.0 in c:\\users\\gusta\\documents\\github\\arenz_group_python\\.venv\\lib\\site-packages (from matplotlib->arenz_group_python@ git+https://github.com/Guswib/Arenz_Group_Python) (24.1)\n",
      "Requirement already satisfied: pillow>=8 in c:\\users\\gusta\\documents\\github\\arenz_group_python\\.venv\\lib\\site-packages (from matplotlib->arenz_group_python@ git+https://github.com/Guswib/Arenz_Group_Python) (10.4.0)\n",
      "Requirement already satisfied: pyparsing>=2.3.1 in c:\\users\\gusta\\documents\\github\\arenz_group_python\\.venv\\lib\\site-packages (from matplotlib->arenz_group_python@ git+https://github.com/Guswib/Arenz_Group_Python) (3.1.2)\n",
      "Requirement already satisfied: python-dateutil>=2.7 in c:\\users\\gusta\\documents\\github\\arenz_group_python\\.venv\\lib\\site-packages (from matplotlib->arenz_group_python@ git+https://github.com/Guswib/Arenz_Group_Python) (2.9.0.post0)\n",
      "Requirement already satisfied: six>=1.5 in c:\\users\\gusta\\documents\\github\\arenz_group_python\\.venv\\lib\\site-packages (from python-dateutil>=2.7->matplotlib->arenz_group_python@ git+https://github.com/Guswib/Arenz_Group_Python) (1.16.0)\n",
      "Building wheels for collected packages: arenz_group_python\n",
      "  Building wheel for arenz_group_python (pyproject.toml): started\n",
      "  Building wheel for arenz_group_python (pyproject.toml): finished with status 'done'\n",
      "  Created wheel for arenz_group_python: filename=Arenz_Group_Python-0.0.1-py3-none-any.whl size=4617 sha256=5189c32a7fd3309456efe34a9d1d9a634c3a8d0c8ff6a6e4fe9832d70cb0e79f\n",
      "  Stored in directory: C:\\Users\\gusta\\AppData\\Local\\Temp\\pip-ephem-wheel-cache-umjbyr98\\wheels\\e7\\50\\a9\\3224467eb40352eec80bb2ec0ca2b0ceabb74154f19cf4d783\n",
      "Successfully built arenz_group_python\n",
      "Installing collected packages: arenz_group_python\n",
      "Successfully installed arenz_group_python-0.0.1\n"
     ]
    },
    {
     "name": "stderr",
     "output_type": "stream",
     "text": [
      "  Running command git clone --filter=blob:none --quiet https://github.com/Guswib/Arenz_Group_Python 'C:\\Users\\gusta\\AppData\\Local\\Temp\\pip-install-loslnk9g\\arenz-group-python_3432246241594cedb8e19c740225a924'\n"
     ]
    }
   ],
   "source": [
    "!{sys.executable} -m pip install arenz_group_python@git+https://github.com/Guswib/Arenz_Group_Python"
   ]
  },
  {
   "cell_type": "code",
   "execution_count": 5,
   "metadata": {},
   "outputs": [
    {
     "name": "stdout",
     "output_type": "stream",
     "text": [
      "\n",
      "Please wait a moment while I gather a list of all available modules...\n",
      "\n",
      "loading arenz_group_python\n",
      "['c:\\\\Users\\\\gusta\\\\Documents\\\\GitHub\\\\Arenz_Group_Python\\\\.venv\\\\Lib\\\\site-packages\\\\arenz_group_python\\\\contents']\n",
      "IPython             atexit              mimetypes           symtable\n",
      "PIL                 audioop             mmap                sys\n",
      "__future__          base64              mmapfile            sysconfig\n",
      "__hello__           bdb                 mmsystem            tabnanny\n",
      "__phello__          binascii            modulefinder        tarfile\n",
      "_abc                bisect              mpl_toolkits        telnetlib\n",
      "_aix_support        builtins            msilib              tempfile\n",
      "_ast                bz2                 msvcrt              test\n",
      "_asyncio            cProfile            multiprocessing     textwrap\n",
      "_bisect             calendar            nest_asyncio        this\n",
      "_blake2             cgi                 netbios             threading\n",
      "_bootsubprocess     cgitb               netrc               time\n",
      "_bz2                chunk               nntplib             timeit\n",
      "_codecs             cmath               nptdms              timer\n",
      "_codecs_cn          cmd                 nt                  tkinter\n",
      "_codecs_hk          code                ntpath              token\n",
      "_codecs_iso2022     codecs              ntsecuritycon       tokenize\n",
      "_codecs_jp          codeop              nturl2path          tomllib\n",
      "_codecs_kr          collections         numbers             tornado\n",
      "_codecs_tw          colorama            numpy               trace\n",
      "_collections        colorsys            odbc                traceback\n",
      "_collections_abc    comm                opcode              tracemalloc\n",
      "_compat_pickle      commctrl            operator            traitlets\n",
      "_compression        compileall          optparse            tty\n",
      "_contextvars        concurrent          os                  turtle\n",
      "_csv                configparser        packaging           turtledemo\n",
      "_ctypes             contextlib          pandas              types\n",
      "_ctypes_test        contextvars         parso               typing\n",
      "_datetime           contourpy           pathlib             typing_extensions\n",
      "_decimal            copy                pdb                 tzdata\n",
      "_distutils_hack     copyreg             perfmon             unicodedata\n",
      "_elementtree        crypt               pickle              unittest\n",
      "_functools          csv                 pickletools         urllib\n",
      "_hashlib            ctypes              pip                 uu\n",
      "_heapq              curses              pipes               uuid\n",
      "_imp                cycler              pkg_resources       venv\n",
      "_io                 dataclasses         pkgutil             warnings\n",
      "_json               datetime            platform            wave\n",
      "_locale             dateutil            platformdirs        wcwidth\n",
      "_lsprof             dbi                 plistlib            weakref\n",
      "_lzma               dbm                 poplib              webbrowser\n",
      "_markupbase         dde                 posixpath           win2kras\n",
      "_md5                debugpy             pprint              win32api\n",
      "_msi                decimal             profile             win32clipboard\n",
      "_multibytecodec     decorator           prompt_toolkit      win32com\n",
      "_multiprocessing    difflib             pstats              win32con\n",
      "_opcode             dis                 psutil              win32console\n",
      "_operator           distutils           pty                 win32cred\n",
      "_osx_support        doctest             pure_eval           win32crypt\n",
      "_overlapped         email               py_compile          win32cryptcon\n",
      "_pickle             encodings           pyclbr              win32event\n",
      "_py_abc             ensurepip           pydoc               win32evtlog\n",
      "_pydecimal          enum                pydoc_data          win32evtlogutil\n",
      "_pyio               errno               pyexpat             win32file\n",
      "_queue              executing           pygments            win32gui\n",
      "_random             faulthandler        pylab               win32gui_struct\n",
      "_sha1               filecmp             pyparsing           win32help\n",
      "_sha256             fileinput           pythoncom           win32inet\n",
      "_sha3               fnmatch             pytz                win32inetcon\n",
      "_sha512             fontTools           pywin               win32job\n",
      "_signal             fractions           pywin32_bootstrap   win32lz\n",
      "_sitebuiltins       ftplib              pywin32_testutil    win32net\n",
      "_socket             functools           pywintypes          win32netcon\n",
      "_sqlite3            gc                  queue               win32pdh\n",
      "_sre                genericpath         quopri              win32pdhquery\n",
      "_ssl                getopt              random              win32pdhutil\n",
      "_stat               getpass             rasutil             win32pipe\n",
      "_statistics         gettext             re                  win32print\n",
      "_string             glob                regcheck            win32process\n",
      "_strptime           graphlib            regutil             win32profile\n",
      "_struct             gzip                reprlib             win32ras\n",
      "_symtable           hashlib             rlcompleter         win32rcparser\n",
      "_testbuffer         heapq               runpy               win32security\n",
      "_testcapi           hmac                sched               win32service\n",
      "_testconsole        html                secrets             win32serviceutil\n",
      "_testimportmultiple http                select              win32timezone\n",
      "_testinternalcapi   idlelib             selectors           win32trace\n",
      "_testmultiphase     imaplib             servicemanager      win32traceutil\n",
      "_thread             imghdr              setuptools          win32transaction\n",
      "_threading_local    imp                 shelve              win32ts\n",
      "_tkinter            importlib           shlex               win32ui\n",
      "_tokenize           inspect             shutil              win32uiole\n",
      "_tracemalloc        io                  signal              win32verstamp\n",
      "_typing             ipaddress           site                win32wnet\n",
      "_uuid               ipykernel           six                 winerror\n",
      "_warnings           ipykernel_launcher  smtpd               winioctlcon\n",
      "_weakref            isapi               smtplib             winnt\n",
      "_weakrefset         itertools           sndhdr              winperf\n",
      "_win32sysloader     jedi                socket              winreg\n",
      "_winapi             json                socketserver        winsound\n",
      "_winxptheme         jupyter             sqlite3             winxpgui\n",
      "_xxsubinterpreters  jupyter_client      sre_compile         winxptheme\n",
      "_zoneinfo           jupyter_core        sre_constants       wsgiref\n",
      "abc                 keyword             sre_parse           xdrlib\n",
      "adodbapi            kiwisolver          ssl                 xml\n",
      "afxres              lib2to3             sspi                xmlrpc\n",
      "aifc                linecache           sspicon             xxsubtype\n",
      "antigravity         locale              stack_data          zipapp\n",
      "arenz_group_python  logging             start_pythonwin     zipfile\n",
      "argparse            lzma                stat                zipimport\n",
      "array               mailbox             statistics          zlib\n",
      "ast                 mailcap             string              zmq\n",
      "asttokens           marshal             stringprep          zoneinfo\n",
      "asynchat            math                struct              \n",
      "asyncio             matplotlib          subprocess          \n",
      "asyncore            matplotlib_inline   sunau               \n",
      "\n",
      "Enter any module name to get more help.  Or, type \"modules spam\" to search\n",
      "for modules whose name or summary contain the string \"spam\".\n",
      "\n"
     ]
    }
   ],
   "source": [
    "help('modules')"
   ]
  }
 ],
 "metadata": {
  "kernelspec": {
   "display_name": "Python 3",
   "language": "python",
   "name": "python3"
  },
  "language_info": {
   "codemirror_mode": {
    "name": "ipython",
    "version": 3
   },
   "file_extension": ".py",
   "mimetype": "text/x-python",
   "name": "python",
   "nbconvert_exporter": "python",
   "pygments_lexer": "ipython3",
   "version": "3.11.5"
  }
 },
 "nbformat": 4,
 "nbformat_minor": 2
}
