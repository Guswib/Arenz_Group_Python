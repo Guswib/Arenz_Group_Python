{
 "cells": [
  {
   "cell_type": "markdown",
   "metadata": {},
   "source": [
    "Run this notebook to install most common packages to a python kernal.\n",
    "\n",
    "Start by placing this file in the root of a project. \n",
    "If you are using vscode, create a new venv, before starting. "
   ]
  },
  {
   "cell_type": "code",
   "execution_count": 1,
   "metadata": {},
   "outputs": [],
   "source": [
    "import sys\n"
   ]
  },
  {
   "cell_type": "code",
   "execution_count": null,
   "metadata": {},
   "outputs": [],
   "source": [
    "#req_packages = [\"pandas\",\"numpy\",\"nptdms\",\"matplotlib\",\"pathlib\"]\n",
    "\n",
    "!{sys.executable} -m pip install numpy\n",
    "!{sys.executable} -m pip install pandas\n",
    "!{sys.executable} -m pip install nptdms\n",
    "!{sys.executable} -m pip install matplotlib\n",
    "!{sys.executable} -m pip install pathlib\n"
   ]
  },
  {
   "cell_type": "markdown",
   "metadata": {},
   "source": [
    "Check which modules that are installed:"
   ]
  },
  {
   "cell_type": "code",
   "execution_count": 6,
   "metadata": {},
   "outputs": [
    {
     "name": "stdout",
     "output_type": "stream",
     "text": [
      "\n",
      "Please wait a moment while I gather a list of all available modules...\n",
      "\n",
      "IPython             atexit              matplotlib_inline   subprocess\n",
      "PIL                 audioop             mimetypes           sunau\n",
      "__future__          base64              mmap                symtable\n",
      "__hello__           bdb                 mmapfile            sys\n",
      "__phello__          binascii            mmsystem            sysconfig\n",
      "_abc                bisect              modulefinder        tabnanny\n",
      "_aix_support        builtins            mpl_toolkits        tarfile\n",
      "_ast                bz2                 msilib              telnetlib\n",
      "_asyncio            cProfile            msvcrt              tempfile\n",
      "_bisect             calendar            multiprocessing     test\n",
      "_blake2             cgi                 nest_asyncio        textwrap\n",
      "_bootsubprocess     cgitb               netbios             this\n",
      "_bz2                chunk               netrc               threading\n",
      "_codecs             cmath               nntplib             time\n",
      "_codecs_cn          cmd                 nptdms              timeit\n",
      "_codecs_hk          code                nt                  timer\n",
      "_codecs_iso2022     codecs              ntpath              tkinter\n",
      "_codecs_jp          codeop              ntsecuritycon       token\n",
      "_codecs_kr          collections         nturl2path          tokenize\n",
      "_codecs_tw          colorama            numbers             tomllib\n",
      "_collections        colorsys            numpy               tornado\n",
      "_collections_abc    comm                odbc                trace\n",
      "_compat_pickle      commctrl            opcode              traceback\n",
      "_compression        compileall          operator            tracemalloc\n",
      "_contextvars        concurrent          optparse            traitlets\n",
      "_csv                configparser        os                  tty\n",
      "_ctypes             contextlib          packaging           turtle\n",
      "_ctypes_test        contextvars         pandas              turtledemo\n",
      "_datetime           contourpy           parso               types\n",
      "_decimal            copy                pathlib             typing\n",
      "_distutils_hack     copyreg             pdb                 typing_extensions\n",
      "_elementtree        crypt               perfmon             tzdata\n",
      "_functools          csv                 pickle              unicodedata\n",
      "_hashlib            ctypes              pickletools         unittest\n",
      "_heapq              curses              pip                 urllib\n",
      "_imp                cycler              pipes               uu\n",
      "_io                 dataclasses         pkg_resources       uuid\n",
      "_json               datetime            pkgutil             venv\n",
      "_locale             dateutil            platform            warnings\n",
      "_lsprof             dbi                 platformdirs        wave\n",
      "_lzma               dbm                 plistlib            wcwidth\n",
      "_markupbase         dde                 poplib              weakref\n",
      "_md5                debugpy             posixpath           webbrowser\n",
      "_msi                decimal             pprint              win2kras\n",
      "_multibytecodec     decorator           profile             win32api\n",
      "_multiprocessing    difflib             prompt_toolkit      win32clipboard\n",
      "_opcode             dis                 pstats              win32com\n",
      "_operator           distutils           psutil              win32con\n",
      "_osx_support        doctest             pty                 win32console\n",
      "_overlapped         email               pure_eval           win32cred\n",
      "_pickle             encodings           py_compile          win32crypt\n",
      "_py_abc             ensurepip           pyclbr              win32cryptcon\n",
      "_pydecimal          enum                pydoc               win32event\n",
      "_pyio               errno               pydoc_data          win32evtlog\n",
      "_queue              executing           pyexpat             win32evtlogutil\n",
      "_random             faulthandler        pygments            win32file\n",
      "_sha1               filecmp             pylab               win32gui\n",
      "_sha256             fileinput           pyparsing           win32gui_struct\n",
      "_sha3               fnmatch             pythoncom           win32help\n",
      "_sha512             fontTools           pytz                win32inet\n",
      "_signal             fractions           pywin               win32inetcon\n",
      "_sitebuiltins       ftplib              pywin32_bootstrap   win32job\n",
      "_socket             functools           pywin32_testutil    win32lz\n",
      "_sqlite3            gc                  pywintypes          win32net\n",
      "_sre                genericpath         queue               win32netcon\n",
      "_ssl                getopt              quopri              win32pdh\n",
      "_stat               getpass             random              win32pdhquery\n",
      "_statistics         gettext             rasutil             win32pdhutil\n",
      "_string             glob                re                  win32pipe\n",
      "_strptime           graphlib            regcheck            win32print\n",
      "_struct             gzip                regutil             win32process\n",
      "_symtable           hashlib             reprlib             win32profile\n",
      "_testbuffer         heapq               rlcompleter         win32ras\n",
      "_testcapi           hmac                runpy               win32rcparser\n",
      "_testconsole        html                sched               win32security\n",
      "_testimportmultiple http                secrets             win32service\n",
      "_testinternalcapi   idlelib             select              win32serviceutil\n",
      "_testmultiphase     imaplib             selectors           win32timezone\n",
      "_thread             imghdr              servicemanager      win32trace\n",
      "_threading_local    imp                 setuptools          win32traceutil\n",
      "_tkinter            importlib           shelve              win32transaction\n",
      "_tokenize           inspect             shlex               win32ts\n",
      "_tracemalloc        io                  shutil              win32ui\n",
      "_typing             ipaddress           signal              win32uiole\n",
      "_uuid               ipykernel           site                win32verstamp\n",
      "_warnings           ipykernel_launcher  six                 win32wnet\n",
      "_weakref            isapi               smtpd               winerror\n",
      "_weakrefset         itertools           smtplib             winioctlcon\n",
      "_win32sysloader     jedi                sndhdr              winnt\n",
      "_winapi             json                socket              winperf\n",
      "_winxptheme         jupyter             socketserver        winreg\n",
      "_xxsubinterpreters  jupyter_client      sqlite3             winsound\n",
      "_zoneinfo           jupyter_core        sre_compile         winxpgui\n",
      "abc                 keyword             sre_constants       winxptheme\n",
      "adodbapi            kiwisolver          sre_parse           wsgiref\n",
      "afxres              lib2to3             ssl                 xdrlib\n",
      "aifc                linecache           sspi                xml\n",
      "antigravity         locale              sspicon             xmlrpc\n",
      "argparse            logging             stack_data          xxsubtype\n",
      "array               lzma                start_pythonwin     zipapp\n",
      "ast                 mailbox             stat                zipfile\n",
      "asttokens           mailcap             statistics          zipimport\n",
      "asynchat            marshal             string              zlib\n",
      "asyncio             math                stringprep          zmq\n",
      "asyncore            matplotlib          struct              zoneinfo\n",
      "\n",
      "Enter any module name to get more help.  Or, type \"modules spam\" to search\n",
      "for modules whose name or summary contain the string \"spam\".\n",
      "\n"
     ]
    }
   ],
   "source": [
    "help('modules')"
   ]
  },
  {
   "cell_type": "code",
   "execution_count": null,
   "metadata": {},
   "outputs": [],
   "source": []
  }
 ],
 "metadata": {
  "kernelspec": {
   "display_name": "Python 3",
   "language": "python",
   "name": "python3"
  },
  "language_info": {
   "codemirror_mode": {
    "name": "ipython",
    "version": 3
   },
   "file_extension": ".py",
   "mimetype": "text/x-python",
   "name": "python",
   "nbconvert_exporter": "python",
   "pygments_lexer": "ipython3",
   "version": "3.11.5"
  }
 },
 "nbformat": 4,
 "nbformat_minor": 2
}
