{
 "cells": [
  {
   "cell_type": "markdown",
   "metadata": {},
   "source": [
    "# Install Common Packages\n",
    "Run this notebook to install most common packages to a python kernal.\n",
    "\n",
    "Start by placing this file in the root of a project. \n",
    "If you are using vscode, create a new venv, before starting. \n",
    "\n",
    "### Conda env\n",
    "if you are using a conda venv, you might get an error message: \n",
    "\n",
    "\"Running cells with '.conda (Python 3.11.9)' requires the ipykernel package.....\"\n",
    "\n",
    "then open the terminal (View menu and then select terminal)\n",
    "and then run the code suggested code:. \n",
    "Remember to add \" \" around the path to the venv.\n",
    "\n",
    "'conda install -p \"\\<long Path\\>\\\\.conda\" ipykernel --update-deps --force-reinstall'"
   ]
  },
  {
   "cell_type": "code",
   "execution_count": 2,
   "metadata": {},
   "outputs": [],
   "source": [
    "import sys\n",
    "path_to_executable = \"\\\"\" + str(sys.executable) +  \"\\\"\"\n",
    "print(path_to_executable)"
   ]
  },
  {
   "cell_type": "markdown",
   "metadata": {},
   "source": []
  },
  {
   "cell_type": "code",
   "execution_count": null,
   "metadata": {},
   "outputs": [
    {
     "ename": "",
     "evalue": "",
     "output_type": "error",
     "traceback": [
      "\u001b[1;31mThe Kernel crashed while executing code in the current cell or a previous cell. \n",
      "\u001b[1;31mPlease review the code in the cell(s) to identify a possible cause of the failure. \n",
      "\u001b[1;31mClick <a href='https://aka.ms/vscodeJupyterKernelCrash'>here</a> for more info. \n",
      "\u001b[1;31mView Jupyter <a href='command:jupyter.viewOutput'>log</a> for further details."
     ]
    }
   ],
   "source": [
    "#req_packages = [\"pandas\",\"numpy\",\"nptdms\",\"matplotlib\",\"pathlib\"]\n",
    "\n",
    "!{path_to_executable} -m pip install numpy\n",
    "!{path_to_executable} -m pip install pandas\n",
    "!{path_to_executable} -m pip install nptdms\n",
    "!{path_to_executable} -m pip install matplotlib\n",
    "!{path_to_executable} -m pip install pathlib\n",
    "!{path_to_executable} -m pip install scipy\n",
    "\n"
   ]
  },
  {
   "cell_type": "markdown",
   "metadata": {},
   "source": [
    "Check which modules that are installed:"
   ]
  },
  {
   "cell_type": "code",
   "execution_count": null,
   "metadata": {},
   "outputs": [],
   "source": [
    "help('modules')"
   ]
  },
  {
   "cell_type": "code",
   "execution_count": null,
   "metadata": {},
   "outputs": [],
   "source": []
  }
 ],
 "metadata": {
  "kernelspec": {
   "display_name": "Python 3",
   "language": "python",
   "name": "python3"
  },
  "language_info": {
   "codemirror_mode": {
    "name": "ipython",
    "version": 3
   },
   "file_extension": ".py",
   "mimetype": "text/x-python",
   "name": "python",
   "nbconvert_exporter": "python",
   "pygments_lexer": "ipython3",
   "version": "3.11.5"
  }
 },
 "nbformat": 4,
 "nbformat_minor": 2
}
