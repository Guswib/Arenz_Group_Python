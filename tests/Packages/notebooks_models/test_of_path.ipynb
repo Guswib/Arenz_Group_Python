{
 "cells": [
  {
   "cell_type": "code",
   "execution_count": 1,
   "metadata": {},
   "outputs": [
    {
     "name": "stdout",
     "output_type": "stream",
     "text": [
      "c:\\Users\\gusta\\Documents\\GitHub\\Arenz_Group_Python\\tests\\Packages\\notebooks_models\n",
      "c:\\Users\\gusta\\Documents\\GitHub\\Arenz_Group_Python\\src\n",
      "c:\\Users\\gusta\\Documents\\GitHub\\Arenz_Group_Python\\src\n",
      "loading arenz_group_python\n",
      "['c:\\\\Users\\\\gusta\\\\Documents\\\\GitHub\\\\Arenz_Group_Python\\\\src\\\\arenz_group_python']\n",
      "['c:\\\\Users\\\\gusta\\\\Documents\\\\GitHub\\\\Arenz_Group_Python\\\\src\\\\arenz_group_python']\n",
      "c:\\Users\\gusta\\Documents\\GitHub\\Arenz_Group_Python\\tests\\Packages\\notebooks_models\n"
     ]
    }
   ],
   "source": [
    "from pathlib import Path\n",
    "import sys\n",
    "nb_path = Path.cwd()\n",
    "p = Path.cwd()\n",
    "print(p)\n",
    "for p in Path.cwd().parents:\n",
    "    pa = p / \"src\"\n",
    "    if pa.exists():\n",
    "        print(pa)\n",
    "        sys.path.insert(0,str(pa))\n",
    "        break\n",
    "print(pa)\n",
    "#add\n",
    "#sys.path.insert(0,str(pa))\n",
    "import arenz_group_python\n",
    "print(arenz_group_python.__path__)\n",
    "\n",
    "\n",
    "from arenz_group_python import CV_Datas\n",
    "from arenz_group_python import Project_Paths\n",
    "#from arenz_group_python.util_paths import PROJECT_FOLDERS\n",
    "print(nb_path)\n",
    "pp= Project_Paths()"
   ]
  },
  {
   "cell_type": "code",
   "execution_count": 2,
   "metadata": {},
   "outputs": [
    {
     "name": "stdout",
     "output_type": "stream",
     "text": [
      "AAAA\n",
      "data_raw\n",
      "c:\\Users\\gusta\\Documents\\GitHub\\Arenz_Group_Python\\tests\\Packages\\data_raw\n"
     ]
    }
   ],
   "source": [
    "pp._find_dir(pp.cwd, \"data_raw\")\n",
    "print(\"AAAA\")\n",
    "print(pp.rawdata_path)\n",
    "pp.create_project_structure\n"
   ]
  },
  {
   "cell_type": "code",
   "execution_count": 3,
   "metadata": {},
   "outputs": [],
   "source": [
    "\n",
    "def find_dirs_with_tags( server_dir: Path, dirID: str , fileID:str ):\n",
    "    pp = Project_Paths()\n",
    "    #rawdata_path = pp.rawdata_path\n",
    "    dirs_with_tags =[]\n",
    "    fileID = fileID + \".tag\"\n",
    "    str_match = \"*\" + dirID + \"*/\" + fileID\n",
    "    print(str_match)\n",
    "    if server_dir.is_dir:\n",
    "        print(\"dir ok\", server_dir)\n",
    "        for root,dirs,files in server_dir.walk(on_error=print):\n",
    "            p = root.relative_to(server_dir)\n",
    "            for file in files: #look for tags\n",
    "                file_p = root / file\n",
    "                if file_p.match(str_match):\n",
    "                    #print(file_p,\"found tag\")\n",
    "                    if root not in dirs_with_tags:\n",
    "                        dirs_with_tags.append(root)\n",
    "    for i in dirs_with_tags:\n",
    "        print(i)\n",
    "    return dirs_with_tags    \n",
    "            "
   ]
  },
  {
   "cell_type": "code",
   "execution_count": 4,
   "metadata": {},
   "outputs": [],
   "source": [
    "def listing(server_dir: Path, dest: Path, dirs):\n",
    "    print(\"destination: \", dest, \" exists: \", dest.exists())\n",
    "    if not dest.exists: return\n",
    "    for dir in dirs:\n",
    "        dest_f = dest / dir.relative_to(server_dir)\n",
    "        if not dest_f.exists():\n",
    "            print(dest_f, dest_f.exists())\n",
    "            print (dir.parent)\n",
    "            if not dest_f.exists():\n",
    "                ppp =[]\n",
    "                for i in range(5):\n",
    "                    if dest_f.parents[i].exists(): \n",
    "                        break\n",
    "                    else:\n",
    "                        ppp.insert(0,dest_f.parents[i])\n",
    "                for parent in ppp:\n",
    "                    dest_fp = dest / parent\n",
    "                    dest_fp.mkdir()\n",
    "                    print(\"\\tmake a tree\", dest_fp, dest_fp.exists())\n",
    "            try:\n",
    "                dest_f.mkdir()\n",
    "            except FileNotFoundError:\n",
    "                print(f\"parent does not exist for {dest_f}\")\n",
    "        else:\n",
    "            print(dest_f, \"found\")\n",
    "\n",
    "\n"
   ]
  },
  {
   "cell_type": "code",
   "execution_count": 5,
   "metadata": {},
   "outputs": [
    {
     "name": "stdout",
     "output_type": "stream",
     "text": [
      "c:\\Users\\gusta\\Documents\\GitHub\\Arenz_Group_Python\\tests\n",
      "**/p1.tag\n",
      "dir ok c:\\Users\\gusta\\Documents\\GitHub\\Arenz_Group_Python\\tests\n",
      "c:\\Users\\gusta\\Documents\\GitHub\\Arenz_Group_Python\\tests\\Packages\\data\n"
     ]
    }
   ],
   "source": [
    "print(pp.cwd.parent.parent)\n",
    "dirs = find_dirs_with_tags(pp.cwd.parent.parent,\"\",\"p1\")\n",
    "\n",
    "#listing(pp.cwd.parent.parent, pp.rawdata_path, dirs)\n",
    " \n"
   ]
  },
  {
   "cell_type": "code",
   "execution_count": 6,
   "metadata": {},
   "outputs": [
    {
     "name": "stdout",
     "output_type": "stream",
     "text": [
      "data_raw\n",
      "destination:  c:\\Users\\gusta\\Documents\\GitHub\\Arenz_Group_Python\\tests\\Packages\\data_raw  exists:  True\n",
      "c:\\Users\\gusta\\Documents\\GitHub\\Arenz_Group_Python\\tests\\Packages\\data_raw\\Packages\\data found\n"
     ]
    }
   ],
   "source": [
    "listing(pp.cwd.parent.parent, pp.rawdata_path, dirs)"
   ]
  },
  {
   "cell_type": "code",
   "execution_count": 7,
   "metadata": {},
   "outputs": [
    {
     "name": "stdout",
     "output_type": "stream",
     "text": [
      "c:\\Users\\gusta\\Documents\\GitHub\\Arenz_Group_Python\\tests\n",
      "**/p1.tag\n",
      "dir ok c:\\Users\\gusta\\Documents\\GitHub\\Arenz_Group_Python\\tests\n",
      "c:\\Users\\gusta\\Documents\\GitHub\\Arenz_Group_Python\\tests\\Packages\\data\n",
      "[]\n"
     ]
    }
   ],
   "source": [
    "print(pp.cwd.parent.parent)\n",
    "dirs = find_dirs_with_tags(pp.cwd.parent.parent,\"\",\"p1\")\n",
    "for root,dirs,files in dirs[0].walk(on_error=print):\n",
    "    print(dirs)"
   ]
  },
  {
   "cell_type": "code",
   "execution_count": 8,
   "metadata": {},
   "outputs": [
    {
     "name": "stdout",
     "output_type": "stream",
     "text": [
      "c:\\Users\\gusta\\Documents\\GitHub\\Arenz_Group_Python\\tests consumes 1557687 bytes in 10 non-directory files\n",
      "c:\\Users\\gusta\\Documents\\GitHub\\Arenz_Group_Python\\tests\\data consumes 46461026 bytes in 5 non-directory files\n",
      "c:\\Users\\gusta\\Documents\\GitHub\\Arenz_Group_Python\\tests\\data\\autoclave consumes 14481633 bytes in 3 non-directory files\n",
      "c:\\Users\\gusta\\Documents\\GitHub\\Arenz_Group_Python\\tests\\data\\set1 consumes 1524538 bytes in 27 non-directory files\n",
      "c:\\Users\\gusta\\Documents\\GitHub\\Arenz_Group_Python\\tests\\Packages consumes 49389 bytes in 4 non-directory files\n",
      "c:\\Users\\gusta\\Documents\\GitHub\\Arenz_Group_Python\\tests\\Packages\\data consumes 635 bytes in 5 non-directory files\n",
      "c:\\Users\\gusta\\Documents\\GitHub\\Arenz_Group_Python\\tests\\Packages\\data_raw consumes 18763 bytes in 3 non-directory files\n",
      "c:\\Users\\gusta\\Documents\\GitHub\\Arenz_Group_Python\\tests\\Packages\\data_raw\\Packages consumes 0 bytes in 0 non-directory files\n",
      "c:\\Users\\gusta\\Documents\\GitHub\\Arenz_Group_Python\\tests\\Packages\\data_raw\\Packages\\data consumes 0 bytes in 0 non-directory files\n",
      "c:\\Users\\gusta\\Documents\\GitHub\\Arenz_Group_Python\\tests\\Packages\\notebooks_exploration_cleaning consumes 53133 bytes in 2 non-directory files\n",
      "c:\\Users\\gusta\\Documents\\GitHub\\Arenz_Group_Python\\tests\\Packages\\notebooks_exploration_cleaning\\extra consumes 11168 bytes in 1 non-directory files\n",
      "c:\\Users\\gusta\\Documents\\GitHub\\Arenz_Group_Python\\tests\\Packages\\notebooks_exploration_cleaning\\extra\\data consumes 194 bytes in 2 non-directory files\n",
      "c:\\Users\\gusta\\Documents\\GitHub\\Arenz_Group_Python\\tests\\Packages\\notebooks_exploration_cleaning\\extra\\notebooks_exploration_cleaning consumes 3790 bytes in 1 non-directory files\n",
      "c:\\Users\\gusta\\Documents\\GitHub\\Arenz_Group_Python\\tests\\Packages\\notebooks_exploration_cleaning\\extra\\notebooks_models consumes 0 bytes in 1 non-directory files\n",
      "c:\\Users\\gusta\\Documents\\GitHub\\Arenz_Group_Python\\tests\\Packages\\notebooks_exploration_cleaning\\extra\\py_scripts consumes 196 bytes in 2 non-directory files\n",
      "c:\\Users\\gusta\\Documents\\GitHub\\Arenz_Group_Python\\tests\\Packages\\notebooks_exploration_cleaning\\extra\\rawdata consumes 66 bytes in 1 non-directory files\n",
      "c:\\Users\\gusta\\Documents\\GitHub\\Arenz_Group_Python\\tests\\Packages\\notebooks_models consumes 10820 bytes in 2 non-directory files\n",
      "c:\\Users\\gusta\\Documents\\GitHub\\Arenz_Group_Python\\tests\\Packages\\notebooks_models\\Packages consumes 0 bytes in 0 non-directory files\n",
      "c:\\Users\\gusta\\Documents\\GitHub\\Arenz_Group_Python\\tests\\Packages\\notebooks_models\\Packages\\data consumes 0 bytes in 0 non-directory files\n",
      "c:\\Users\\gusta\\Documents\\GitHub\\Arenz_Group_Python\\tests\\Packages\\py_scripts consumes 196 bytes in 2 non-directory files\n",
      "c:\\Users\\gusta\\Documents\\GitHub\\Arenz_Group_Python\\tests\\Project_Setup consumes 4211 bytes in 2 non-directory files\n"
     ]
    }
   ],
   "source": [
    "for root, dirs, files in Path(pp.cwd.parent.parent).walk(on_error=print):\n",
    "  print(\n",
    "      root,\n",
    "      \"consumes\",\n",
    "      sum((root / file).stat().st_size for file in files),\n",
    "      \"bytes in\",\n",
    "      len(files),\n",
    "      \"non-directory files\"\n",
    "  )\n",
    "  if '__pycache__' in dirs:\n",
    "        dirs.remove('__pycache__')"
   ]
  },
  {
   "cell_type": "code",
   "execution_count": 9,
   "metadata": {},
   "outputs": [
    {
     "data": {
      "text/plain": [
       "[WindowsPath('modelData.ipynb'), WindowsPath('test_of_path.ipynb')]"
      ]
     },
     "execution_count": 9,
     "metadata": {},
     "output_type": "execute_result"
    }
   ],
   "source": [
    "list(Path(\".\").parent.parent.glob(\"**/*.*\"))"
   ]
  }
 ],
 "metadata": {
  "kernelspec": {
   "display_name": "Python 3",
   "language": "python",
   "name": "python3"
  },
  "language_info": {
   "codemirror_mode": {
    "name": "ipython",
    "version": 3
   },
   "file_extension": ".py",
   "mimetype": "text/x-python",
   "name": "python",
   "nbconvert_exporter": "python",
   "pygments_lexer": "ipython3",
   "version": "3.12.1"
  }
 },
 "nbformat": 4,
 "nbformat_minor": 2
}
