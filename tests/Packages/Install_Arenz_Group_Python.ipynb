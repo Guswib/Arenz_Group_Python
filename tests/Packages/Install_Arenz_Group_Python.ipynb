{
 "cells": [
  {
   "cell_type": "markdown",
   "metadata": {},
   "source": [
    "# General installation from github\n",
    "pip install \"Package\" @ git+\"URL of the repository#subdirectory=path\"\n",
    "\n",
    "Here, we want to install Arenz_Group Python package."
   ]
  },
  {
   "cell_type": "code",
   "execution_count": 4,
   "metadata": {},
   "outputs": [],
   "source": [
    "import sys\n",
    "path_to_executable = \"\\\"\" + str(sys.executable) +  \"\\\"\" #must be used if there are any spaces in the path"
   ]
  },
  {
   "cell_type": "markdown",
   "metadata": {},
   "source": [
    "This can take a while to install....2min or so"
   ]
  },
  {
   "cell_type": "code",
   "execution_count": 5,
   "metadata": {},
   "outputs": [
    {
     "name": "stdout",
     "output_type": "stream",
     "text": [
      "Collecting arenz_group_python@ git+https://github.com/Guswib/Arenz_Group_Python"
     ]
    },
    {
     "name": "stderr",
     "output_type": "stream",
     "text": [
      "  Running command git clone --filter=blob:none --quiet https://github.com/Guswib/Arenz_Group_Python 'C:\\Users\\gusta\\AppData\\Local\\Temp\\pip-install-9p9h4g2j\\arenz-group-python_fab3bebf20dc4b35baceaa459aff0232'\n",
      "\n",
      "[notice] A new release of pip is available: 24.1.1 -> 24.1.2\n",
      "[notice] To update, run: python.exe -m pip install --upgrade pip\n"
     ]
    },
    {
     "name": "stdout",
     "output_type": "stream",
     "text": [
      "\n",
      "  Cloning https://github.com/Guswib/Arenz_Group_Python to c:\\users\\gusta\\appdata\\local\\temp\\pip-install-9p9h4g2j\\arenz-group-python_fab3bebf20dc4b35baceaa459aff0232\n",
      "  Resolved https://github.com/Guswib/Arenz_Group_Python to commit 92d2c8ac63b695fcc7c4430cbdbf078a8deb6d78\n",
      "  Installing build dependencies: started\n",
      "  Installing build dependencies: finished with status 'done'\n",
      "  Getting requirements to build wheel: started\n",
      "  Getting requirements to build wheel: finished with status 'done'\n",
      "  Preparing metadata (pyproject.toml): started\n",
      "  Preparing metadata (pyproject.toml): finished with status 'done'\n",
      "Requirement already satisfied: nptdms in c:\\users\\gusta\\documents\\github\\arenz_group_python\\.venv\\lib\\site-packages (from arenz_group_python@ git+https://github.com/Guswib/Arenz_Group_Python) (1.9.0)\n",
      "Requirement already satisfied: matplotlib in c:\\users\\gusta\\documents\\github\\arenz_group_python\\.venv\\lib\\site-packages (from arenz_group_python@ git+https://github.com/Guswib/Arenz_Group_Python) (3.9.1)\n",
      "Requirement already satisfied: pathlib in c:\\users\\gusta\\documents\\github\\arenz_group_python\\.venv\\lib\\site-packages (from arenz_group_python@ git+https://github.com/Guswib/Arenz_Group_Python) (1.0.1)\n",
      "Requirement already satisfied: scipy in c:\\users\\gusta\\documents\\github\\arenz_group_python\\.venv\\lib\\site-packages (from arenz_group_python@ git+https://github.com/Guswib/Arenz_Group_Python) (1.14.0)\n",
      "Requirement already satisfied: contourpy>=1.0.1 in c:\\users\\gusta\\documents\\github\\arenz_group_python\\.venv\\lib\\site-packages (from matplotlib->arenz_group_python@ git+https://github.com/Guswib/Arenz_Group_Python) (1.2.1)\n",
      "Requirement already satisfied: cycler>=0.10 in c:\\users\\gusta\\documents\\github\\arenz_group_python\\.venv\\lib\\site-packages (from matplotlib->arenz_group_python@ git+https://github.com/Guswib/Arenz_Group_Python) (0.12.1)\n",
      "Requirement already satisfied: fonttools>=4.22.0 in c:\\users\\gusta\\documents\\github\\arenz_group_python\\.venv\\lib\\site-packages (from matplotlib->arenz_group_python@ git+https://github.com/Guswib/Arenz_Group_Python) (4.53.0)\n",
      "Requirement already satisfied: kiwisolver>=1.3.1 in c:\\users\\gusta\\documents\\github\\arenz_group_python\\.venv\\lib\\site-packages (from matplotlib->arenz_group_python@ git+https://github.com/Guswib/Arenz_Group_Python) (1.4.5)\n",
      "Requirement already satisfied: numpy>=1.23 in c:\\users\\gusta\\documents\\github\\arenz_group_python\\.venv\\lib\\site-packages (from matplotlib->arenz_group_python@ git+https://github.com/Guswib/Arenz_Group_Python) (2.0.0)\n",
      "Requirement already satisfied: packaging>=20.0 in c:\\users\\gusta\\documents\\github\\arenz_group_python\\.venv\\lib\\site-packages (from matplotlib->arenz_group_python@ git+https://github.com/Guswib/Arenz_Group_Python) (24.1)\n",
      "Requirement already satisfied: pillow>=8 in c:\\users\\gusta\\documents\\github\\arenz_group_python\\.venv\\lib\\site-packages (from matplotlib->arenz_group_python@ git+https://github.com/Guswib/Arenz_Group_Python) (10.4.0)\n",
      "Requirement already satisfied: pyparsing>=2.3.1 in c:\\users\\gusta\\documents\\github\\arenz_group_python\\.venv\\lib\\site-packages (from matplotlib->arenz_group_python@ git+https://github.com/Guswib/Arenz_Group_Python) (3.1.2)\n",
      "Requirement already satisfied: python-dateutil>=2.7 in c:\\users\\gusta\\documents\\github\\arenz_group_python\\.venv\\lib\\site-packages (from matplotlib->arenz_group_python@ git+https://github.com/Guswib/Arenz_Group_Python) (2.9.0.post0)\n",
      "Requirement already satisfied: six>=1.5 in c:\\users\\gusta\\documents\\github\\arenz_group_python\\.venv\\lib\\site-packages (from python-dateutil>=2.7->matplotlib->arenz_group_python@ git+https://github.com/Guswib/Arenz_Group_Python) (1.16.0)\n"
     ]
    }
   ],
   "source": [
    "#works for most venv.\n",
    "\n",
    "!{path_to_executable} -m pip install arenz_group_python@git+https://github.com/Guswib/Arenz_Group_Python"
   ]
  },
  {
   "cell_type": "markdown",
   "metadata": {},
   "source": [
    "If you donot have pip or git installed in your conda env., run:\n",
    "conda install pip\n",
    "conda install git"
   ]
  },
  {
   "cell_type": "code",
   "execution_count": 6,
   "metadata": {},
   "outputs": [
    {
     "name": "stdout",
     "output_type": "stream",
     "text": [
      "\n",
      "Please wait a moment while I gather a list of all available modules...\n",
      "\n"
     ]
    },
    {
     "name": "stdout",
     "output_type": "stream",
     "text": [
      "IPython             atexit              mimetypes           subprocess\n",
      "PIL                 audioop             mmap                sunau\n",
      "__future__          base64              mmapfile            symtable\n",
      "__hello__           bdb                 mmsystem            sys\n",
      "__phello__          binascii            modulefinder        sysconfig\n",
      "_abc                bisect              mpl_toolkits        tabnanny\n",
      "_aix_support        builtins            msilib              tarfile\n",
      "_ast                bz2                 msvcrt              telnetlib\n",
      "_asyncio            cProfile            multiprocessing     tempfile\n",
      "_bisect             calendar            nest_asyncio        test\n",
      "_blake2             cgi                 netbios             textwrap\n",
      "_bootsubprocess     cgitb               netrc               this\n",
      "_bz2                chunk               nntplib             threading\n",
      "_codecs             cmath               nptdms              time\n",
      "_codecs_cn          cmd                 nt                  timeit\n",
      "_codecs_hk          code                ntpath              timer\n",
      "_codecs_iso2022     codecs              ntsecuritycon       tkinter\n",
      "_codecs_jp          codeop              nturl2path          token\n",
      "_codecs_kr          collections         numbers             tokenize\n",
      "_codecs_tw          colorama            numpy               tomllib\n",
      "_collections        colorsys            odbc                tornado\n",
      "_collections_abc    comm                opcode              trace\n",
      "_compat_pickle      commctrl            operator            traceback\n",
      "_compression        compileall          optparse            tracemalloc\n",
      "_contextvars        concurrent          os                  traitlets\n",
      "_csv                configparser        packaging           tty\n",
      "_ctypes             contextlib          pandas              turtle\n",
      "_ctypes_test        contextvars         parso               turtledemo\n",
      "_datetime           contourpy           pathlib             types\n",
      "_decimal            copy                pdb                 typing\n",
      "_distutils_hack     copyreg             perfmon             typing_extensions\n",
      "_elementtree        crypt               pickle              tzdata\n",
      "_functools          csv                 pickletools         unicodedata\n",
      "_hashlib            ctypes              pip                 unittest\n",
      "_heapq              curses              pipes               urllib\n",
      "_imp                cycler              pkg_resources       uu\n",
      "_io                 dataclasses         pkgutil             uuid\n",
      "_json               datetime            platform            venv\n",
      "_locale             dateutil            platformdirs        warnings\n",
      "_lsprof             dbi                 plistlib            wave\n",
      "_lzma               dbm                 poplib              wcwidth\n",
      "_markupbase         dde                 posixpath           weakref\n",
      "_md5                debugpy             pprint              webbrowser\n",
      "_msi                decimal             profile             win2kras\n",
      "_multibytecodec     decorator           prompt_toolkit      win32api\n",
      "_multiprocessing    difflib             pstats              win32clipboard\n",
      "_opcode             dis                 psutil              win32com\n",
      "_operator           distutils           pty                 win32con\n",
      "_osx_support        doctest             pure_eval           win32console\n",
      "_overlapped         email               py_compile          win32cred\n",
      "_pickle             encodings           py_scripts          win32crypt\n",
      "_py_abc             ensurepip           pyclbr              win32cryptcon\n",
      "_pydecimal          enum                pydoc               win32event\n",
      "_pyio               errno               pydoc_data          win32evtlog\n",
      "_queue              executing           pyexpat             win32evtlogutil\n",
      "_random             faulthandler        pygments            win32file\n",
      "_sha1               filecmp             pylab               win32gui\n",
      "_sha256             fileinput           pyparsing           win32gui_struct\n",
      "_sha3               fnmatch             pythoncom           win32help\n",
      "_sha512             fontTools           pytz                win32inet\n",
      "_signal             fractions           pywin               win32inetcon\n",
      "_sitebuiltins       ftplib              pywin32_bootstrap   win32job\n",
      "_socket             functools           pywin32_testutil    win32lz\n",
      "_sqlite3            gc                  pywintypes          win32net\n",
      "_sre                genericpath         queue               win32netcon\n",
      "_ssl                getopt              quopri              win32pdh\n",
      "_stat               getpass             random              win32pdhquery\n",
      "_statistics         gettext             rasutil             win32pdhutil\n",
      "_string             glob                re                  win32pipe\n",
      "_strptime           graphlib            regcheck            win32print\n",
      "_struct             gzip                regutil             win32process\n",
      "_symtable           hashlib             reprlib             win32profile\n",
      "_testbuffer         heapq               rlcompleter         win32ras\n",
      "_testcapi           hmac                runpy               win32rcparser\n",
      "_testconsole        html                sched               win32security\n",
      "_testimportmultiple http                scipy               win32service\n",
      "_testinternalcapi   idlelib             secrets             win32serviceutil\n",
      "_testmultiphase     imaplib             select              win32timezone\n",
      "_thread             imghdr              selectors           win32trace\n",
      "_threading_local    imp                 servicemanager      win32traceutil\n",
      "_tkinter            importlib           setuptools          win32transaction\n",
      "_tokenize           inspect             shelve              win32ts\n",
      "_tracemalloc        io                  shlex               win32ui\n",
      "_typing             ipaddress           shutil              win32uiole\n",
      "_uuid               ipykernel           signal              win32verstamp\n",
      "_warnings           ipykernel_launcher  site                win32wnet\n",
      "_weakref            isapi               six                 winerror\n",
      "_weakrefset         itertools           smtpd               winioctlcon\n",
      "_win32sysloader     jedi                smtplib             winnt\n",
      "_winapi             json                sndhdr              winperf\n",
      "_winxptheme         jupyter             socket              winreg\n",
      "_xxsubinterpreters  jupyter_client      socketserver        winsound\n",
      "_zoneinfo           jupyter_core        sqlite3             winxpgui\n",
      "abc                 keyword             sre_compile         winxptheme\n",
      "adodbapi            kiwisolver          sre_constants       wsgiref\n",
      "afxres              lib2to3             sre_parse           xdrlib\n",
      "aifc                linecache           ssl                 xml\n",
      "antigravity         locale              sspi                xmlrpc\n",
      "arenz_group_python  logging             sspicon             xxsubtype\n",
      "argparse            lzma                stack_data          zipapp\n",
      "array               mailbox             start_pythonwin     zipfile\n",
      "ast                 mailcap             stat                zipimport\n",
      "asttokens           marshal             statistics          zlib\n",
      "asynchat            math                string              zmq\n",
      "asyncio             matplotlib          stringprep          zoneinfo\n",
      "asyncore            matplotlib_inline   struct              \n",
      "\n",
      "Enter any module name to get more help.  Or, type \"modules spam\" to search\n",
      "for modules whose name or summary contain the string \"spam\".\n",
      "\n"
     ]
    }
   ],
   "source": [
    "\n",
    "help('modules')"
   ]
  }
 ],
 "metadata": {
  "kernelspec": {
   "display_name": "Python 3",
   "language": "python",
   "name": "python3"
  },
  "language_info": {
   "codemirror_mode": {
    "name": "ipython",
    "version": 3
   },
   "file_extension": ".py",
   "mimetype": "text/x-python",
   "name": "python",
   "nbconvert_exporter": "python",
   "pygments_lexer": "ipython3",
   "version": "3.11.5"
  }
 },
 "nbformat": 4,
 "nbformat_minor": 2
}
