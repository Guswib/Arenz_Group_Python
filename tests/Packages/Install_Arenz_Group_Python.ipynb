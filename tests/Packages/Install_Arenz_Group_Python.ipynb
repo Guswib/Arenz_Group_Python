{
 "cells": [
  {
   "cell_type": "markdown",
   "metadata": {},
   "source": [
    "# General installation from github\n",
    "pip install \"Package\" @ git+\"URL of the repository#subdirectory=path\"\n",
    "\n",
    "Here, we want to install Arenz_Group Python package."
   ]
  },
  {
   "cell_type": "code",
   "execution_count": 4,
   "metadata": {},
   "outputs": [],
   "source": [
    "import sys\n",
    "path_to_executable = \"\\\"\" + str(sys.executable) +  \"\\\"\" #must be used if there are any spaces in the path"
   ]
  },
  {
   "cell_type": "markdown",
   "metadata": {},
   "source": [
    "This can take a while to install....2min or so"
   ]
  },
  {
   "cell_type": "code",
   "execution_count": 7,
   "metadata": {},
   "outputs": [
    {
     "name": "stdout",
     "output_type": "stream",
     "text": [
      "Collecting arenz_group_python@ git+https://github.com/Guswib/Arenz_Group_Python\n",
      "  Cloning https://github.com/Guswib/Arenz_Group_Python to c:\\users\\gustav.wiberg\\appdata\\local\\temp\\pip-install-gjtjyhqq\\arenz-group-python_d5ac79a2fd004ee6bda21719edfdab38\n",
      "  Resolved https://github.com/Guswib/Arenz_Group_Python to commit a84952c65026b084f475bf016baf20a0c3c4181a\n",
      "  Preparing metadata (setup.py): started\n",
      "  Preparing metadata (setup.py): finished with status 'done'\n",
      "Requirement already satisfied: nptdms in c:\\users\\gustav.wiberg\\documents\\github\\python\\arenz_group_python\\.conda\\lib\\site-packages (from arenz_group_python@ git+https://github.com/Guswib/Arenz_Group_Python) (1.9.0)\n",
      "Requirement already satisfied: matplotlib in c:\\users\\gustav.wiberg\\documents\\github\\python\\arenz_group_python\\.conda\\lib\\site-packages (from arenz_group_python@ git+https://github.com/Guswib/Arenz_Group_Python) (3.9.1)\n",
      "Requirement already satisfied: pathlib in c:\\users\\gustav.wiberg\\documents\\github\\python\\arenz_group_python\\.conda\\lib\\site-packages (from arenz_group_python@ git+https://github.com/Guswib/Arenz_Group_Python) (1.0.1)\n",
      "Requirement already satisfied: scipy in c:\\users\\gustav.wiberg\\documents\\github\\python\\arenz_group_python\\.conda\\lib\\site-packages (from arenz_group_python@ git+https://github.com/Guswib/Arenz_Group_Python) (1.14.0)\n",
      "Requirement already satisfied: contourpy>=1.0.1 in c:\\users\\gustav.wiberg\\documents\\github\\python\\arenz_group_python\\.conda\\lib\\site-packages (from matplotlib->arenz_group_python@ git+https://github.com/Guswib/Arenz_Group_Python) (1.2.1)\n",
      "Requirement already satisfied: cycler>=0.10 in c:\\users\\gustav.wiberg\\documents\\github\\python\\arenz_group_python\\.conda\\lib\\site-packages (from matplotlib->arenz_group_python@ git+https://github.com/Guswib/Arenz_Group_Python) (0.12.1)\n",
      "Requirement already satisfied: fonttools>=4.22.0 in c:\\users\\gustav.wiberg\\documents\\github\\python\\arenz_group_python\\.conda\\lib\\site-packages (from matplotlib->arenz_group_python@ git+https://github.com/Guswib/Arenz_Group_Python) (4.53.0)\n",
      "Requirement already satisfied: kiwisolver>=1.3.1 in c:\\users\\gustav.wiberg\\documents\\github\\python\\arenz_group_python\\.conda\\lib\\site-packages (from matplotlib->arenz_group_python@ git+https://github.com/Guswib/Arenz_Group_Python) (1.4.5)\n",
      "Requirement already satisfied: numpy>=1.23 in c:\\users\\gustav.wiberg\\documents\\github\\python\\arenz_group_python\\.conda\\lib\\site-packages (from matplotlib->arenz_group_python@ git+https://github.com/Guswib/Arenz_Group_Python) (2.0.0)\n",
      "Requirement already satisfied: packaging>=20.0 in c:\\users\\gustav.wiberg\\documents\\github\\python\\arenz_group_python\\.conda\\lib\\site-packages (from matplotlib->arenz_group_python@ git+https://github.com/Guswib/Arenz_Group_Python) (24.1)\n",
      "Requirement already satisfied: pillow>=8 in c:\\users\\gustav.wiberg\\documents\\github\\python\\arenz_group_python\\.conda\\lib\\site-packages (from matplotlib->arenz_group_python@ git+https://github.com/Guswib/Arenz_Group_Python) (10.4.0)\n",
      "Requirement already satisfied: pyparsing>=2.3.1 in c:\\users\\gustav.wiberg\\documents\\github\\python\\arenz_group_python\\.conda\\lib\\site-packages (from matplotlib->arenz_group_python@ git+https://github.com/Guswib/Arenz_Group_Python) (3.1.2)\n",
      "Requirement already satisfied: python-dateutil>=2.7 in c:\\users\\gustav.wiberg\\documents\\github\\python\\arenz_group_python\\.conda\\lib\\site-packages (from matplotlib->arenz_group_python@ git+https://github.com/Guswib/Arenz_Group_Python) (2.9.0)\n",
      "Requirement already satisfied: six>=1.5 in c:\\users\\gustav.wiberg\\documents\\github\\python\\arenz_group_python\\.conda\\lib\\site-packages (from python-dateutil>=2.7->matplotlib->arenz_group_python@ git+https://github.com/Guswib/Arenz_Group_Python) (1.16.0)\n"
     ]
    },
    {
     "name": "stderr",
     "output_type": "stream",
     "text": [
      "  Running command git clone --filter=blob:none --quiet https://github.com/Guswib/Arenz_Group_Python 'C:\\Users\\gustav.wiberg\\AppData\\Local\\Temp\\pip-install-gjtjyhqq\\arenz-group-python_d5ac79a2fd004ee6bda21719edfdab38'\n"
     ]
    }
   ],
   "source": [
    "#works for most venv.\n",
    "\n",
    "!{path_to_executable} -m pip install arenz_group_python@git+https://github.com/Guswib/Arenz_Group_Python"
   ]
  },
  {
   "cell_type": "markdown",
   "metadata": {},
   "source": [
    "If you donot have pip or git installed in your conda env., run:\n",
    "conda install pip\n",
    "conda install git"
   ]
  },
  {
   "cell_type": "code",
   "execution_count": 6,
   "metadata": {},
   "outputs": [
    {
     "name": "stdout",
     "output_type": "stream",
     "text": [
      "\n",
      "Please wait a moment while I gather a list of all available modules...\n",
      "\n",
      "IPython             base64              mmapfile            sysconfig\n",
      "PIL                 bdb                 mmsystem            tabnanny\n",
      "__future__          binascii            modulefinder        tarfile\n",
      "__hello__           bisect              mpl_toolkits        telnetlib\n",
      "__phello__          builtins            msilib              tempfile\n",
      "_abc                bz2                 msvcrt              test\n",
      "_aix_support        cProfile            multiprocessing     textwrap\n",
      "_ast                calendar            nest_asyncio        this\n",
      "_asyncio            cgi                 netbios             threading\n",
      "_bisect             cgitb               netrc               time\n",
      "_blake2             chunk               nntplib             timeit\n",
      "_bootsubprocess     cmath               nptdms              timer\n",
      "_bz2                cmd                 nt                  tkinter\n",
      "_codecs             code                ntpath              token\n",
      "_codecs_cn          codecs              ntsecuritycon       tokenize\n",
      "_codecs_hk          codeop              nturl2path          tomllib\n",
      "_codecs_iso2022     collections         numbers             tornado\n",
      "_codecs_jp          colorama            numpy               trace\n",
      "_codecs_kr          colorsys            odbc                traceback\n",
      "_codecs_tw          comm                opcode              tracemalloc\n",
      "_collections        commctrl            operator            traitlets\n",
      "_collections_abc    compileall          optparse            tty\n",
      "_compat_pickle      concurrent          os                  turtle\n",
      "_compression        configparser        packaging           turtledemo\n",
      "_contextvars        contextlib          pandas              types\n",
      "_csv                contextvars         parso               typing\n",
      "_ctypes             contourpy           pathlib             typing_extensions\n",
      "_ctypes_test        copy                pdb                 tzdata\n",
      "_datetime           copyreg             perfmon             unicodedata\n",
      "_decimal            crypt               pickle              unittest\n",
      "_distutils_hack     csv                 pickleshare         urllib\n",
      "_elementtree        ctypes              pickletools         uu\n",
      "_functools          curses              pip                 uuid\n",
      "_hashlib            cycler              pipes               venv\n",
      "_heapq              dataclasses         pkg_resources       warnings\n",
      "_imp                datetime            pkgutil             wave\n",
      "_io                 dateutil            platform            wcwidth\n",
      "_json               dbi                 platformdirs        weakref\n",
      "_locale             dbm                 plistlib            webbrowser\n",
      "_lsprof             dde                 poplib              wheel\n",
      "_lzma               debugpy             posixpath           win2kras\n",
      "_markupbase         decimal             pprint              win32api\n",
      "_md5                decorator           profile             win32clipboard\n",
      "_msi                difflib             prompt_toolkit      win32com\n",
      "_multibytecodec     dis                 pstats              win32con\n",
      "_multiprocessing    distutils           psutil              win32console\n",
      "_opcode             doctest             pty                 win32cred\n",
      "_operator           email               pure_eval           win32crypt\n",
      "_osx_support        encodings           py_compile          win32cryptcon\n",
      "_overlapped         ensurepip           py_scripts          win32event\n",
      "_pickle             enum                pyclbr              win32evtlog\n",
      "_py_abc             errno               pydoc               win32evtlogutil\n",
      "_pydecimal          exceptiongroup      pydoc_data          win32file\n",
      "_pyio               executing           pyexpat             win32gui\n",
      "_queue              faulthandler        pygments            win32gui_struct\n",
      "_random             filecmp             pylab               win32help\n",
      "_sha1               fileinput           pyparsing           win32inet\n",
      "_sha256             fnmatch             pythoncom           win32inetcon\n",
      "_sha3               fontTools           pytz                win32job\n",
      "_sha512             fractions           pywin               win32lz\n",
      "_signal             ftplib              pywin32_bootstrap   win32net\n",
      "_sitebuiltins       functools           pywin32_testutil    win32netcon\n",
      "_socket             gc                  pywintypes          win32pdh\n",
      "_sqlite3            genericpath         queue               win32pdhquery\n",
      "_sre                getopt              quopri              win32pdhutil\n",
      "_ssl                getpass             random              win32pipe\n",
      "_stat               gettext             rasutil             win32print\n",
      "_statistics         glob                re                  win32process\n",
      "_string             graphlib            regcheck            win32profile\n",
      "_strptime           gzip                regutil             win32ras\n",
      "_struct             hashlib             reprlib             win32rcparser\n",
      "_symtable           heapq               rlcompleter         win32security\n",
      "_testbuffer         hmac                runpy               win32service\n",
      "_testcapi           html                sched               win32serviceutil\n",
      "_testconsole        http                scipy               win32timezone\n",
      "_testimportmultiple idlelib             secrets             win32trace\n",
      "_testinternalcapi   imaplib             select              win32traceutil\n",
      "_testmultiphase     imghdr              selectors           win32transaction\n",
      "_thread             imp                 servicemanager      win32ts\n",
      "_threading_local    importlib           setuptools          win32ui\n",
      "_tkinter            importlib_metadata  shelve              win32uiole\n",
      "_tokenize           inspect             shlex               win32verstamp\n",
      "_tracemalloc        io                  shutil              win32wnet\n",
      "_typing             ipaddress           signal              winerror\n",
      "_uuid               ipykernel           site                winioctlcon\n",
      "_warnings           ipykernel_launcher  six                 winnt\n",
      "_weakref            isapi               smtpd               winperf\n",
      "_weakrefset         itertools           smtplib             winreg\n",
      "_win32sysloader     jedi                sndhdr              winsound\n",
      "_winapi             json                socket              winxpgui\n",
      "_winxptheme         jupyter             socketserver        winxptheme\n",
      "_xxsubinterpreters  jupyter_client      sqlite3             wsgiref\n",
      "_zoneinfo           jupyter_core        sre_compile         xdrlib\n",
      "abc                 keyword             sre_constants       xml\n",
      "adodbapi            kiwisolver          sre_parse           xmlrpc\n",
      "afxres              lib2to3             ssl                 xxlimited\n",
      "aifc                linecache           sspi                xxlimited_35\n",
      "antigravity         locale              sspicon             xxsubtype\n",
      "arenz_group_python  logging             stack_data          zipapp\n",
      "argparse            lzma                stat                zipfile\n",
      "array               mailbox             statistics          zipimport\n",
      "ast                 mailcap             string              zipp\n",
      "asttokens           marshal             stringprep          zlib\n",
      "asynchat            math                struct              zmq\n",
      "asyncio             matplotlib          subprocess          zoneinfo\n",
      "asyncore            matplotlib_inline   sunau               \n",
      "atexit              mimetypes           symtable            \n",
      "audioop             mmap                sys                 \n",
      "\n",
      "Enter any module name to get more help.  Or, type \"modules spam\" to search\n",
      "for modules whose name or summary contain the string \"spam\".\n",
      "\n"
     ]
    }
   ],
   "source": [
    "\n",
    "help('modules')"
   ]
  }
 ],
 "metadata": {
  "kernelspec": {
   "display_name": "Python 3",
   "language": "python",
   "name": "python3"
  },
  "language_info": {
   "codemirror_mode": {
    "name": "ipython",
    "version": 3
   },
   "file_extension": ".py",
   "mimetype": "text/x-python",
   "name": "python",
   "nbconvert_exporter": "python",
   "pygments_lexer": "ipython3",
   "version": "3.11.9"
  }
 },
 "nbformat": 4,
 "nbformat_minor": 2
}
