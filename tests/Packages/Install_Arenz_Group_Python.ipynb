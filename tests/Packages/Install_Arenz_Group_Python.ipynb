{
 "cells": [
  {
   "cell_type": "markdown",
   "metadata": {},
   "source": [
    "# General installation from github\n",
    "pip install \"Package\" @ git+\"URL of the repository#subdirectory=path\"\n",
    "\n",
    "Here, we want to install Arenz_Group Python package."
   ]
  },
  {
   "cell_type": "code",
   "execution_count": 1,
   "metadata": {},
   "outputs": [],
   "source": [
    "import sys\n",
    "path_to_executable = \"\\\"\" + str(sys.executable) +  \"\\\"\" #must be used if there are any spaces in the path"
   ]
  },
  {
   "cell_type": "markdown",
   "metadata": {},
   "source": [
    "This can take a while to install....2min or so"
   ]
  },
  {
   "cell_type": "code",
   "execution_count": 2,
   "metadata": {},
   "outputs": [
    {
     "name": "stdout",
     "output_type": "stream",
     "text": [
      "Collecting arenz_group_python@ git+https://github.com/Guswib/Arenz_Group_Python\n",
      "  Cloning https://github.com/Guswib/Arenz_Group_Python to c:\\users\\gustav.wiberg\\appdata\\local\\temp\\pip-install-qc62cb2g\\arenz-group-python_635d0f97a5444b02961ab825ee5bd8a9\n",
      "  Resolved https://github.com/Guswib/Arenz_Group_Python to commit 2ba21c39d59cf815973cb474cc552051a362e82d\n",
      "  Installing build dependencies: started\n",
      "  Installing build dependencies: finished with status 'done'\n",
      "  Getting requirements to build wheel: started\n",
      "  Getting requirements to build wheel: finished with status 'done'\n",
      "  Preparing metadata (pyproject.toml): started\n",
      "  Preparing metadata (pyproject.toml): finished with status 'done'\n",
      "Requirement already satisfied: nptdms in c:\\users\\gustav.wiberg\\documents\\github\\python\\arenz_group_python\\.venv\\lib\\site-packages (from arenz_group_python@ git+https://github.com/Guswib/Arenz_Group_Python) (1.9.0)\n",
      "Requirement already satisfied: matplotlib in c:\\users\\gustav.wiberg\\documents\\github\\python\\arenz_group_python\\.venv\\lib\\site-packages (from arenz_group_python@ git+https://github.com/Guswib/Arenz_Group_Python) (3.9.1)\n",
      "Requirement already satisfied: pathlib in c:\\users\\gustav.wiberg\\documents\\github\\python\\arenz_group_python\\.venv\\lib\\site-packages (from arenz_group_python@ git+https://github.com/Guswib/Arenz_Group_Python) (1.0.1)\n",
      "Collecting scipy (from arenz_group_python@ git+https://github.com/Guswib/Arenz_Group_Python)\n",
      "  Using cached scipy-1.14.0-cp311-cp311-win_amd64.whl.metadata (60 kB)\n",
      "Requirement already satisfied: contourpy>=1.0.1 in c:\\users\\gustav.wiberg\\documents\\github\\python\\arenz_group_python\\.venv\\lib\\site-packages (from matplotlib->arenz_group_python@ git+https://github.com/Guswib/Arenz_Group_Python) (1.2.1)\n",
      "Requirement already satisfied: cycler>=0.10 in c:\\users\\gustav.wiberg\\documents\\github\\python\\arenz_group_python\\.venv\\lib\\site-packages (from matplotlib->arenz_group_python@ git+https://github.com/Guswib/Arenz_Group_Python) (0.12.1)\n",
      "Requirement already satisfied: fonttools>=4.22.0 in c:\\users\\gustav.wiberg\\documents\\github\\python\\arenz_group_python\\.venv\\lib\\site-packages (from matplotlib->arenz_group_python@ git+https://github.com/Guswib/Arenz_Group_Python) (4.53.0)\n",
      "Requirement already satisfied: kiwisolver>=1.3.1 in c:\\users\\gustav.wiberg\\documents\\github\\python\\arenz_group_python\\.venv\\lib\\site-packages (from matplotlib->arenz_group_python@ git+https://github.com/Guswib/Arenz_Group_Python) (1.4.5)\n",
      "Requirement already satisfied: numpy>=1.23 in c:\\users\\gustav.wiberg\\documents\\github\\python\\arenz_group_python\\.venv\\lib\\site-packages (from matplotlib->arenz_group_python@ git+https://github.com/Guswib/Arenz_Group_Python) (2.0.0)\n",
      "Requirement already satisfied: packaging>=20.0 in c:\\users\\gustav.wiberg\\documents\\github\\python\\arenz_group_python\\.venv\\lib\\site-packages (from matplotlib->arenz_group_python@ git+https://github.com/Guswib/Arenz_Group_Python) (24.1)\n",
      "Requirement already satisfied: pillow>=8 in c:\\users\\gustav.wiberg\\documents\\github\\python\\arenz_group_python\\.venv\\lib\\site-packages (from matplotlib->arenz_group_python@ git+https://github.com/Guswib/Arenz_Group_Python) (10.4.0)\n",
      "Requirement already satisfied: pyparsing>=2.3.1 in c:\\users\\gustav.wiberg\\documents\\github\\python\\arenz_group_python\\.venv\\lib\\site-packages (from matplotlib->arenz_group_python@ git+https://github.com/Guswib/Arenz_Group_Python) (3.1.2)\n",
      "Requirement already satisfied: python-dateutil>=2.7 in c:\\users\\gustav.wiberg\\documents\\github\\python\\arenz_group_python\\.venv\\lib\\site-packages (from matplotlib->arenz_group_python@ git+https://github.com/Guswib/Arenz_Group_Python) (2.9.0.post0)\n",
      "Requirement already satisfied: six>=1.5 in c:\\users\\gustav.wiberg\\documents\\github\\python\\arenz_group_python\\.venv\\lib\\site-packages (from python-dateutil>=2.7->matplotlib->arenz_group_python@ git+https://github.com/Guswib/Arenz_Group_Python) (1.16.0)\n",
      "Using cached scipy-1.14.0-cp311-cp311-win_amd64.whl (44.7 MB)\n",
      "Building wheels for collected packages: arenz_group_python\n",
      "  Building wheel for arenz_group_python (pyproject.toml): started\n",
      "  Building wheel for arenz_group_python (pyproject.toml): finished with status 'done'\n",
      "  Created wheel for arenz_group_python: filename=Arenz_Group_Python-0.0.10-py3-none-any.whl size=5703 sha256=440cd38f981d3edd8ba9d357ef91c86660f26ccec420a105cbc49ffbb46ad024\n",
      "  Stored in directory: C:\\Users\\gustav.wiberg\\AppData\\Local\\Temp\\pip-ephem-wheel-cache-xw9delek\\wheels\\e7\\50\\a9\\3224467eb40352eec80bb2ec0ca2b0ceabb74154f19cf4d783\n",
      "Successfully built arenz_group_python\n",
      "Installing collected packages: scipy, arenz_group_python\n",
      "  Attempting uninstall: arenz_group_python\n",
      "    Found existing installation: Arenz_Group_Python 0.0.1\n",
      "    Uninstalling Arenz_Group_Python-0.0.1:\n",
      "      Successfully uninstalled Arenz_Group_Python-0.0.1\n",
      "Successfully installed arenz_group_python-0.0.10 scipy-1.14.0\n"
     ]
    },
    {
     "name": "stderr",
     "output_type": "stream",
     "text": [
      "  Running command git clone --filter=blob:none --quiet https://github.com/Guswib/Arenz_Group_Python 'C:\\Users\\gustav.wiberg\\AppData\\Local\\Temp\\pip-install-qc62cb2g\\arenz-group-python_635d0f97a5444b02961ab825ee5bd8a9'\n"
     ]
    }
   ],
   "source": [
    "#works for most venv.\n",
    "\n",
    "!{path_to_executable} -m pip install arenz_group_python@git+https://github.com/Guswib/Arenz_Group_Python"
   ]
  },
  {
   "cell_type": "markdown",
   "metadata": {},
   "source": [
    "If you donot have pip or git installed in your conda env., run:\n",
    "conda install pip\n",
    "conda install git"
   ]
  },
  {
   "cell_type": "code",
   "execution_count": 3,
   "metadata": {},
   "outputs": [
    {
     "name": "stdout",
     "output_type": "stream",
     "text": [
      "\n",
      "Please wait a moment while I gather a list of all available modules...\n",
      "\n",
      "test_sqlite3: testing with version '2.6.0', sqlite_version '3.42.0'\n"
     ]
    },
    {
     "name": "stderr",
     "output_type": "stream",
     "text": [
      "c:\\Users\\gustav.wiberg\\Documents\\GitHub\\Python\\Arenz_Group_Python\\.venv\\Lib\\site-packages\\_distutils_hack\\__init__.py:33: UserWarning: Setuptools is replacing distutils.\n",
      "  warnings.warn(\"Setuptools is replacing distutils.\")\n"
     ]
    },
    {
     "name": "stdout",
     "output_type": "stream",
     "text": [
      "IPython             asyncore            matplotlib          struct\n",
      "PIL                 atexit              matplotlib_inline   subprocess\n",
      "__future__          audioop             mimetypes           sunau\n",
      "__hello__           base64              mmap                symtable\n",
      "__phello__          bdb                 mmapfile            sys\n",
      "_abc                binascii            mmsystem            sysconfig\n",
      "_aix_support        bisect              modulefinder        tabnanny\n",
      "_ast                builtins            mpl_toolkits        tarfile\n",
      "_asyncio            bz2                 msilib              telnetlib\n",
      "_bisect             cProfile            msvcrt              tempfile\n",
      "_blake2             calendar            multiprocessing     test\n",
      "_bootsubprocess     cgi                 nest_asyncio        textwrap\n",
      "_bz2                cgitb               netbios             this\n",
      "_codecs             chunk               netrc               threading\n",
      "_codecs_cn          cmath               nntplib             time\n",
      "_codecs_hk          cmd                 nptdms              timeit\n",
      "_codecs_iso2022     code                nt                  timer\n",
      "_codecs_jp          codecs              ntpath              tkinter\n",
      "_codecs_kr          codeop              ntsecuritycon       token\n",
      "_codecs_tw          collections         nturl2path          tokenize\n",
      "_collections        colorama            numbers             tomllib\n",
      "_collections_abc    colorsys            numpy               tornado\n",
      "_compat_pickle      comm                odbc                trace\n",
      "_compression        commctrl            opcode              traceback\n",
      "_contextvars        compileall          operator            tracemalloc\n",
      "_csv                concurrent          optparse            traitlets\n",
      "_ctypes             configparser        os                  tty\n",
      "_ctypes_test        contextlib          packaging           turtle\n",
      "_datetime           contextvars         parso               turtledemo\n",
      "_decimal            contourpy           pathlib             types\n",
      "_distutils_hack     copy                pdb                 typing\n",
      "_elementtree        copyreg             perfmon             typing_extensions\n",
      "_functools          crypt               pickle              unicodedata\n",
      "_hashlib            csv                 pickletools         unittest\n",
      "_heapq              ctypes              pip                 urllib\n",
      "_imp                curses              pipes               uu\n",
      "_io                 cycler              pkg_resources       uuid\n",
      "_json               dataclasses         pkgutil             venv\n",
      "_locale             datetime            platform            warnings\n",
      "_lsprof             dateutil            platformdirs        wave\n",
      "_lzma               dbi                 plistlib            wcwidth\n",
      "_markupbase         dbm                 poplib              weakref\n",
      "_md5                dde                 posixpath           webbrowser\n",
      "_msi                debugpy             pprint              win2kras\n",
      "_multibytecodec     decimal             profile             win32api\n",
      "_multiprocessing    decorator           prompt_toolkit      win32clipboard\n",
      "_opcode             difflib             pstats              win32com\n",
      "_operator           dis                 psutil              win32con\n",
      "_osx_support        distutils           pty                 win32console\n",
      "_overlapped         doctest             pure_eval           win32cred\n",
      "_pickle             email               py_compile          win32crypt\n",
      "_py_abc             encodings           py_scripts          win32cryptcon\n",
      "_pydecimal          ensurepip           pyclbr              win32event\n",
      "_pyio               enum                pydoc               win32evtlog\n",
      "_queue              errno               pydoc_data          win32evtlogutil\n",
      "_random             executing           pyexpat             win32file\n",
      "_sha1               faulthandler        pygments            win32gui\n",
      "_sha256             filecmp             pylab               win32gui_struct\n",
      "_sha3               fileinput           pyparsing           win32help\n",
      "_sha512             fnmatch             pythoncom           win32inet\n",
      "_signal             fontTools           pywin               win32inetcon\n",
      "_sitebuiltins       fractions           pywin32_bootstrap   win32job\n",
      "_socket             ftplib              pywin32_testutil    win32lz\n",
      "_sqlite3            functools           pywintypes          win32net\n",
      "_sre                gc                  queue               win32netcon\n",
      "_ssl                genericpath         quopri              win32pdh\n",
      "_stat               getopt              random              win32pdhquery\n",
      "_statistics         getpass             rasutil             win32pdhutil\n",
      "_string             gettext             re                  win32pipe\n",
      "_strptime           glob                regcheck            win32print\n",
      "_struct             graphlib            regutil             win32process\n",
      "_symtable           gzip                reprlib             win32profile\n",
      "_testbuffer         hashlib             rlcompleter         win32ras\n",
      "_testcapi           heapq               runpy               win32rcparser\n",
      "_testconsole        hmac                sched               win32security\n",
      "_testimportmultiple html                scipy               win32service\n",
      "_testinternalcapi   http                secrets             win32serviceutil\n",
      "_testmultiphase     idlelib             select              win32timezone\n",
      "_thread             imaplib             selectors           win32trace\n",
      "_threading_local    imghdr              servicemanager      win32traceutil\n",
      "_tkinter            imp                 setuptools          win32transaction\n",
      "_tokenize           importlib           shelve              win32ts\n",
      "_tracemalloc        inspect             shlex               win32ui\n",
      "_typing             io                  shutil              win32uiole\n",
      "_uuid               ipaddress           signal              win32verstamp\n",
      "_warnings           ipykernel           site                win32wnet\n",
      "_weakref            ipykernel_launcher  six                 winerror\n",
      "_weakrefset         isapi               smtpd               winioctlcon\n",
      "_win32sysloader     itertools           smtplib             winnt\n",
      "_winapi             jedi                sndhdr              winperf\n",
      "_winxptheme         json                socket              winreg\n",
      "_xxsubinterpreters  jupyter             socketserver        winsound\n",
      "_zoneinfo           jupyter_client      sqlite3             winxpgui\n",
      "abc                 jupyter_core        sre_compile         winxptheme\n",
      "adodbapi            keyword             sre_constants       wsgiref\n",
      "afxres              kiwisolver          sre_parse           xdrlib\n",
      "aifc                lib2to3             ssl                 xml\n",
      "antigravity         linecache           sspi                xmlrpc\n",
      "arenz_group_python  locale              sspicon             xxsubtype\n",
      "argparse            logging             stack_data          zipapp\n",
      "array               lzma                start_pythonwin     zipfile\n",
      "ast                 mailbox             stat                zipimport\n",
      "asttokens           mailcap             statistics          zlib\n",
      "asynchat            marshal             string              zmq\n",
      "asyncio             math                stringprep          zoneinfo\n",
      "\n",
      "Enter any module name to get more help.  Or, type \"modules spam\" to search\n",
      "for modules whose name or summary contain the string \"spam\".\n",
      "\n"
     ]
    }
   ],
   "source": [
    "\n",
    "help('modules')"
   ]
  }
 ],
 "metadata": {
  "kernelspec": {
   "display_name": "Python 3",
   "language": "python",
   "name": "python3"
  },
  "language_info": {
   "codemirror_mode": {
    "name": "ipython",
    "version": 3
   },
   "file_extension": ".py",
   "mimetype": "text/x-python",
   "name": "python",
   "nbconvert_exporter": "python",
   "pygments_lexer": "ipython3",
   "version": "3.11.5"
  }
 },
 "nbformat": 4,
 "nbformat_minor": 2
}
