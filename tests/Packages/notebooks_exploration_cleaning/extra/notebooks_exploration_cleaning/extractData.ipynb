{
    "cells": [
    {
    "cell_type": "markdown",
    "metadata": {},
    "source": [
        "# Exploring the data",
        "use this notebook and others to extract data.",
        "To use with electrochemistry data, use the following import",
        "from arenz_group_python.ec_data import EC_Data"
    ]
    },
    {
    "cell_type": "code",
    "execution_count": null,
    "metadata": {},
    "outputs": [],
    "source": [
        "from arenz_group_python import EC_Data",
        "from arenz_group_python import Project_Paths",
        "from arenz_group_python import CV_Data",
        "",
        "#file1 = EC_Data('PATH_TO_FILE')",
        "#file1.plot("E","i") for a i vs E "
    ]
    }
    ],
    "metadata": {
    "kernelspec": {
    "display_name": "Python 3",
    "language": "python",
    "name": "python3"
    },
    "language_info": {
    "name": "python",
    "version": "3.11.5"
    }
    },
    "nbformat": 4,
    "nbformat_minor": 2
    }