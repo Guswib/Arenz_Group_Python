{
    "cells": [
        {
            "cell_type": "markdown",
            "metadata": {},
            "source": [
                "# Exploring the data\n",
                "use this notebook and others to extract data.\n",
                "\n",
                "To use with electrochemistry data, use the following import:\n",
                "\n",
                "from arenz_group_python import EC_Data"
            ]
        },
        {
            "cell_type": "code",
            "execution_count": null,
            "metadata": {},
            "outputs": [],
            "source": [
                "from arenz_group_python import EC_Data\n",
                "from arenz_group_python import Project_Paths\n",
                "from arenz_group_python import CV_Data\n",
                "\n",
                "#if there is a file in the rawdata folder:\n",
                "#PATH_TO_FILE = Project_Paths().rawdata_path / FILE_NAME\n",
                "#file1 = EC_Data('PATH_TO_FILE')\n",
                "#file1.plot('E','i') for a i vs E "
            ]
        }
    ],
    "metadata": {
        "kernelspec": {
            "display_name": "Python 3",
            "language": "python",
            "name": "python3"
        },
        "language_info": {
            "name": "python",
            "version": "3.11.5"
        }
    },
    "nbformat": 4,
    "nbformat_minor": 2
}
