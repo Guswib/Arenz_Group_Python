{
 "cells": [
  {
   "cell_type": "code",
   "execution_count": 11,
   "metadata": {},
   "outputs": [],
   "source": [
    "from pathlib import Path\n",
    " \n",
    "# importing sys\n",
    "import sys\n",
    "nb_path = Path.cwd()"
   ]
  },
  {
   "cell_type": "code",
   "execution_count": 12,
   "metadata": {},
   "outputs": [
    {
     "name": "stdout",
     "output_type": "stream",
     "text": [
      "c:\\Users\\gustav.wiberg\\Documents\\GitHub\\Python\\Arenz_Group_Python\\tests\\Packages\\notebooks_exploration_cleaning\n",
      "c:\\Users\\gustav.wiberg\\Documents\\GitHub\\Python\\Arenz_Group_Python\\src\n",
      "path existits: True\n"
     ]
    }
   ],
   "source": [
    "#Load in local copy of arenz group\n",
    "pack_path = Path()\n",
    "for x in nb_path.parents:\n",
    "    a= x / 'src'\n",
    "    \n",
    "    if a.is_dir():\n",
    "        pack_path = a\n",
    "        break\n",
    "sys.path.insert(0,str(pack_path))   \n",
    "\n",
    "#pack_path = nb_path.parent.parent.parent.parent / \"src\" #/\"arenz_group_python\"\n",
    "print(nb_path.parent)\n",
    "print(pack_path)\n",
    "print(f\"path existits: {pack_path.exists()}\")"
   ]
  },
  {
   "cell_type": "code",
   "execution_count": 13,
   "metadata": {},
   "outputs": [
    {
     "name": "stdout",
     "output_type": "stream",
     "text": [
      "['c:\\\\Users\\\\gustav.wiberg\\\\Documents\\\\GitHub\\\\Python\\\\Arenz_Group_Python\\\\src\\\\arenz_group_python']\n"
     ]
    }
   ],
   "source": [
    "#add\n",
    "sys.path.insert(0,str(pack_path))\n",
    "import arenz_group_python\n",
    "print(arenz_group_python.__path__)"
   ]
  },
  {
   "cell_type": "code",
   "execution_count": 14,
   "metadata": {},
   "outputs": [
    {
     "name": "stdout",
     "output_type": "stream",
     "text": [
      "['c:\\\\Users\\\\gustav.wiberg\\\\Documents\\\\GitHub\\\\Python\\\\Arenz_Group_Python\\\\src\\\\arenz_group_python\\\\data_treatment']\n"
     ]
    }
   ],
   "source": [
    "import arenz_group_python.data_treatment\n",
    "print(arenz_group_python.data_treatment.__path__)"
   ]
  },
  {
   "cell_type": "code",
   "execution_count": 15,
   "metadata": {},
   "outputs": [],
   "source": [
    "from arenz_group_python.data_treatment.ec_data import EC_Data\n",
    "from arenz_group_python import *\n",
    "from arenz_group_python import EC_Data\n",
    "from arenz_group_python import CV_Data\n",
    "from arenz_group_python import save_key_values\n",
    "from arenz_group_python import Project_Paths\n",
    "#from arenz_group_python.data_treatment.util_paths import path_util\n",
    "\n"
   ]
  },
  {
   "cell_type": "code",
   "execution_count": 16,
   "metadata": {},
   "outputs": [
    {
     "name": "stdout",
     "output_type": "stream",
     "text": [
      "c:\\Users\\gustav.wiberg\\Documents\\GitHub\\Python\\Arenz_Group_Python\\src\n"
     ]
    }
   ],
   "source": [
    "str_path = str(pack_path)\n",
    "#sys.path.append(\"C:/Users/gustav.wiberg/Documents/GitHub/Python/Arenz_Group_Python/src/ArenzGroupPython\")\n",
    "print(str_path)\n",
    "sys.path.append(str_path)\n",
    "#import ec_data\n",
    "#ec_data.reload()\n",
    " "
   ]
  },
  {
   "cell_type": "code",
   "execution_count": 17,
   "metadata": {},
   "outputs": [
    {
     "name": "stdout",
     "output_type": "stream",
     "text": [
      "False \t\t c:\\Users\\gustav.wiberg\\Documents\\GitHub\\Python\\Arenz_Group_Python\\tests\\Packages\\notebooks_exploration_cleaning\\rawdata\n",
      "True \t\t c:\\Users\\gustav.wiberg\\Documents\\GitHub\\Python\\Arenz_Group_Python\\tests\\Packages\\rawdata\n",
      "c:\\Users\\gustav.wiberg\\Documents\\GitHub\\Python\\Arenz_Group_Python\\tests\\Packages\\notebooks_exploration_cleaning\\extra\\data\n",
      "c:\\Users\\gustav.wiberg\\Documents\\GitHub\\Python\\Arenz_Group_Python\\tests\\Packages\\notebooks_exploration_cleaning\\extra\\Load_TDMS paths.ipynb\n",
      "c:\\Users\\gustav.wiberg\\Documents\\GitHub\\Python\\Arenz_Group_Python\\tests\\Packages\\notebooks_exploration_cleaning\\extra\\notebooks_exploration_cleaning\n",
      "c:\\Users\\gustav.wiberg\\Documents\\GitHub\\Python\\Arenz_Group_Python\\tests\\Packages\\notebooks_exploration_cleaning\\extra\\notebooks_models\n",
      "c:\\Users\\gustav.wiberg\\Documents\\GitHub\\Python\\Arenz_Group_Python\\tests\\Packages\\notebooks_exploration_cleaning\\extra\\py_scripts\n",
      "c:\\Users\\gustav.wiberg\\Documents\\GitHub\\Python\\Arenz_Group_Python\\tests\\Packages\\notebooks_exploration_cleaning\\extra\\rawdata\n"
     ]
    }
   ],
   "source": [
    "p = Path.cwd()\n",
    "paths = p.parents\n",
    "\n",
    "\n",
    "#print(p)\n",
    "\n",
    "for x in paths:\n",
    "    a= x / 'rawdata'\n",
    "    print(a.is_dir(),\"\\t\\t\",str(a) )\n",
    "    if a.is_dir():\n",
    "        break\n",
    "    \n",
    "\n",
    "#p = Path(__file__)\n",
    "#print(p)\n",
    "for child in p.iterdir(): \n",
    "    print(child)"
   ]
  },
  {
   "cell_type": "code",
   "execution_count": 18,
   "metadata": {},
   "outputs": [
    {
     "name": "stdout",
     "output_type": "stream",
     "text": [
      "c:\\Users\\gustav.wiberg\\Documents\\GitHub\\Python\\Arenz_Group_Python\\tests\\Packages\\rawdata\n",
      "c:\\Users\\gustav.wiberg\\Documents\\GitHub\\Python\\Arenz_Group_Python\\tests\\Packages\\data\n",
      "c:\\Users\\gustav.wiberg\\Documents\\GitHub\\Python\\Arenz_Group_Python\\tests\\Packages\\rawdata\n"
     ]
    }
   ],
   "source": [
    "util =Project_Paths()\n",
    "\n",
    "print(Project_Paths().rawdata_path)\n",
    "#print(util.callers())\n",
    "#print(util.data_path)\n",
    "\n",
    "#print(util._rawdata_path(\"c:\\\\\"))\n",
    "print(util.data_path)\n",
    "print(util.rawdata_path)\n",
    "#print(util._find_dir(nb_path, \"rawadata\"))\n",
    "\n",
    "#print(util.cwd)"
   ]
  },
  {
   "cell_type": "code",
   "execution_count": 19,
   "metadata": {},
   "outputs": [
    {
     "name": "stdout",
     "output_type": "stream",
     "text": [
      "-\"rawdata\" exists already as a folder\n",
      "-\"data\" exists already as a folder\n",
      "-\"py_scripts\" exists already as a folder\n",
      "-\"notebooks_models\" exists already as a folder\n",
      "-\"notebooks_exploration_cleaning\" exists already as a folder\n",
      "\n",
      "creating files:\n",
      "\n",
      "-\"notebooks_models/modelData.ipynb\" already exists\n",
      "-\"py_scripts/my_Module.py\" already exists\n",
      "-\"__init__.py\" already exists\n",
      "+\"extractData.ipynb\" was created\n",
      "-\"README.txt\" already exists\n",
      "-\"README.txt\" already exists\n",
      "-\"extracted_values.csv\" already exists\n"
     ]
    }
   ],
   "source": [
    "util = Project_Paths()\n",
    "util.create_project_structure(util.cwd)"
   ]
  },
  {
   "cell_type": "code",
   "execution_count": 20,
   "metadata": {},
   "outputs": [
    {
     "name": "stdout",
     "output_type": "stream",
     "text": [
      "c:\\Users\\gustav.wiberg\\Documents\\GitHub\\Python\\Arenz_Group_Python\\tests\\Packages\\notebooks_exploration_cleaning\\extra\\aa.d\n"
     ]
    },
    {
     "ename": "FileNotFoundError",
     "evalue": "[Errno 2] No such file or directory: 'c:\\\\Users\\\\gustav.wiberg\\\\Documents\\\\GitHub\\\\Python\\\\Arenz_Group_Python\\\\tests\\\\Packages\\\\data\\\\extracted_values.csv'",
     "output_type": "error",
     "traceback": [
      "\u001b[1;31m---------------------------------------------------------------------------\u001b[0m",
      "\u001b[1;31mFileNotFoundError\u001b[0m                         Traceback (most recent call last)",
      "Cell \u001b[1;32mIn[20], line 6\u001b[0m\n\u001b[0;32m      4\u001b[0m c \u001b[38;5;241m=\u001b[39m a\u001b[38;5;241m.\u001b[39mjoinpath(k)\n\u001b[0;32m      5\u001b[0m \u001b[38;5;28mprint\u001b[39m(c)\n\u001b[1;32m----> 6\u001b[0m \u001b[43msave_key_values\u001b[49m\u001b[43m(\u001b[49m\u001b[38;5;124;43m\"\u001b[39;49m\u001b[38;5;124;43mextracted_values.csv\u001b[39;49m\u001b[38;5;124;43m\"\u001b[39;49m\u001b[43m,\u001b[49m\u001b[38;5;124;43m\"\u001b[39;49m\u001b[38;5;124;43msample 1\u001b[39;49m\u001b[38;5;124;43m\"\u001b[39;49m\u001b[43m,\u001b[49m\u001b[43m \u001b[49m\u001b[43m[\u001b[49m\u001b[38;5;241;43m1\u001b[39;49m\u001b[43m,\u001b[49m\u001b[38;5;241;43m2\u001b[39;49m\u001b[43m,\u001b[49m\u001b[38;5;241;43m3\u001b[39;49m\u001b[43m,\u001b[49m\u001b[38;5;241;43m4\u001b[39;49m\u001b[43m,\u001b[49m\u001b[38;5;241;43m5\u001b[39;49m\u001b[43m]\u001b[49m\u001b[43m)\u001b[49m\n",
      "File \u001b[1;32mc:\\Users\\gustav.wiberg\\Documents\\GitHub\\Python\\Arenz_Group_Python\\src\\arenz_group_python\\data_treatment\\key_values_to_file.py:40\u001b[0m, in \u001b[0;36msave_key_values\u001b[1;34m(file_path, sample_name, properties)\u001b[0m\n\u001b[0;32m     38\u001b[0m \u001b[38;5;66;03m#print(p)\u001b[39;00m\n\u001b[0;32m     39\u001b[0m \u001b[38;5;28;01mif\u001b[39;00m p\u001b[38;5;241m.\u001b[39mexists:    \n\u001b[1;32m---> 40\u001b[0m     \u001b[38;5;28;01mwith\u001b[39;00m \u001b[38;5;28;43mopen\u001b[39;49m\u001b[43m(\u001b[49m\u001b[43mp\u001b[49m\u001b[43m,\u001b[49m\u001b[43m \u001b[49m\u001b[38;5;124;43m'\u001b[39;49m\u001b[38;5;124;43mr\u001b[39;49m\u001b[38;5;124;43m'\u001b[39;49m\u001b[43m,\u001b[49m\u001b[43m \u001b[49m\u001b[43mnewline\u001b[49m\u001b[38;5;241;43m=\u001b[39;49m\u001b[38;5;124;43m'\u001b[39;49m\u001b[38;5;124;43m'\u001b[39;49m\u001b[43m)\u001b[49m \u001b[38;5;28;01mas\u001b[39;00m csvfile:\n\u001b[0;32m     41\u001b[0m         \u001b[38;5;66;03m#reads the file\u001b[39;00m\n\u001b[0;32m     42\u001b[0m         spamreader \u001b[38;5;241m=\u001b[39m csv\u001b[38;5;241m.\u001b[39mreader(csvfile, delimiter\u001b[38;5;241m=\u001b[39mDELIMETER, quotechar\u001b[38;5;241m=\u001b[39m\u001b[38;5;124m'\u001b[39m\u001b[38;5;124m|\u001b[39m\u001b[38;5;124m'\u001b[39m)\n\u001b[0;32m     44\u001b[0m         all_data \u001b[38;5;241m=\u001b[39m[]\n",
      "\u001b[1;31mFileNotFoundError\u001b[0m: [Errno 2] No such file or directory: 'c:\\\\Users\\\\gustav.wiberg\\\\Documents\\\\GitHub\\\\Python\\\\Arenz_Group_Python\\\\tests\\\\Packages\\\\data\\\\extracted_values.csv'"
     ]
    }
   ],
   "source": [
    "a = Path.cwd()\n",
    "b = \"a.de\"\n",
    "k = Path(\"aa.d\")\n",
    "c = a.joinpath(k)\n",
    "print(c)\n",
    "save_key_values(\"extracted_values.csv\",\"sample 1\", [1,2,3,4,5])"
   ]
  }
 ],
 "metadata": {
  "kernelspec": {
   "display_name": "Python 3",
   "language": "python",
   "name": "python3"
  },
  "language_info": {
   "codemirror_mode": {
    "name": "ipython",
    "version": 3
   },
   "file_extension": ".py",
   "mimetype": "text/x-python",
   "name": "python",
   "nbconvert_exporter": "python",
   "pygments_lexer": "ipython3",
   "version": "3.11.5"
  }
 },
 "nbformat": 4,
 "nbformat_minor": 2
}
