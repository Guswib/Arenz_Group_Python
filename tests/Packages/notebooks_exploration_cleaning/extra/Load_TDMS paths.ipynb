{
 "cells": [
  {
   "cell_type": "code",
   "execution_count": 1,
   "metadata": {},
   "outputs": [],
   "source": [
    "from pathlib import Path\n",
    " \n",
    "# importing sys\n",
    "import sys\n",
    "nb_path = Path.cwd()"
   ]
  },
  {
   "cell_type": "code",
   "execution_count": 2,
   "metadata": {},
   "outputs": [
    {
     "name": "stdout",
     "output_type": "stream",
     "text": [
      "c:\\Users\\gustav.wiberg\\Documents\\GitHub\\Python\\Arenz_Group_Python\\tests\\Packages\\notebooks_exploration_cleaning\n",
      "c:\\Users\\gustav.wiberg\\Documents\\GitHub\\Python\\Arenz_Group_Python\\src\n",
      "path existits: True\n"
     ]
    }
   ],
   "source": [
    "#Load in local copy of arenz group\n",
    "pack_path = Path()\n",
    "for x in nb_path.parents:\n",
    "    a= x / 'src'\n",
    "    \n",
    "    if a.is_dir():\n",
    "        pack_path = a\n",
    "        break\n",
    "    \n",
    "\n",
    "#pack_path = nb_path.parent.parent.parent.parent / \"src\" #/\"arenz_group_python\"\n",
    "print(nb_path.parent)\n",
    "print(pack_path)\n",
    "print(f\"path existits: {pack_path.exists()}\")"
   ]
  },
  {
   "cell_type": "code",
   "execution_count": 3,
   "metadata": {},
   "outputs": [
    {
     "name": "stdout",
     "output_type": "stream",
     "text": [
      "loading arenz_group_python\n",
      "['c:\\\\Users\\\\gustav.wiberg\\\\Documents\\\\GitHub\\\\Python\\\\Arenz_Group_Python\\\\src\\\\arenz_group_python']\n",
      "['c:\\\\Users\\\\gustav.wiberg\\\\Documents\\\\GitHub\\\\Python\\\\Arenz_Group_Python\\\\src\\\\arenz_group_python']\n"
     ]
    }
   ],
   "source": [
    "#add\n",
    "sys.path.insert(0,str(pack_path))\n",
    "import arenz_group_python\n",
    "print(arenz_group_python.__path__)"
   ]
  },
  {
   "cell_type": "code",
   "execution_count": 4,
   "metadata": {},
   "outputs": [
    {
     "name": "stdout",
     "output_type": "stream",
     "text": [
      "['c:\\\\Users\\\\gustav.wiberg\\\\Documents\\\\GitHub\\\\Python\\\\Arenz_Group_Python\\\\src\\\\arenz_group_python\\\\data_treatment']\n"
     ]
    }
   ],
   "source": [
    "import arenz_group_python.data_treatment\n",
    "print(arenz_group_python.data_treatment.__path__)"
   ]
  },
  {
   "cell_type": "code",
   "execution_count": 5,
   "metadata": {},
   "outputs": [],
   "source": [
    "from arenz_group_python.data_treatment.ec_data import EC_Data\n",
    "from arenz_group_python import *\n",
    "from arenz_group_python import EC_Data\n",
    "from arenz_group_python import CV_Data\n",
    "from arenz_group_python import save_key_values\n",
    "from arenz_group_python import Project_Paths\n",
    "#from arenz_group_python.data_treatment.util_paths import path_util\n",
    "\n"
   ]
  },
  {
   "cell_type": "code",
   "execution_count": 6,
   "metadata": {},
   "outputs": [
    {
     "name": "stdout",
     "output_type": "stream",
     "text": [
      "c:\\Users\\gustav.wiberg\\Documents\\GitHub\\Python\\Arenz_Group_Python\\src\n"
     ]
    }
   ],
   "source": [
    "str_path = str(pack_path)\n",
    "#sys.path.append(\"C:/Users/gustav.wiberg/Documents/GitHub/Python/Arenz_Group_Python/src/ArenzGroupPython\")\n",
    "print(str_path)\n",
    "sys.path.append(str_path)\n",
    "#import ec_data\n",
    "#ec_data.reload()\n",
    " "
   ]
  },
  {
   "cell_type": "code",
   "execution_count": 7,
   "metadata": {},
   "outputs": [
    {
     "name": "stdout",
     "output_type": "stream",
     "text": [
      "False \t\t c:\\Users\\gustav.wiberg\\Documents\\GitHub\\Python\\Arenz_Group_Python\\tests\\Packages\\notebooks_exploration_cleaning\\rawdata\n",
      "True \t\t c:\\Users\\gustav.wiberg\\Documents\\GitHub\\Python\\Arenz_Group_Python\\tests\\Packages\\rawdata\n",
      "c:\\Users\\gustav.wiberg\\Documents\\GitHub\\Python\\Arenz_Group_Python\\tests\\Packages\\notebooks_exploration_cleaning\\extra\\data\n",
      "c:\\Users\\gustav.wiberg\\Documents\\GitHub\\Python\\Arenz_Group_Python\\tests\\Packages\\notebooks_exploration_cleaning\\extra\\Load_TDMS paths.ipynb\n",
      "c:\\Users\\gustav.wiberg\\Documents\\GitHub\\Python\\Arenz_Group_Python\\tests\\Packages\\notebooks_exploration_cleaning\\extra\\notebooks_exploration_cleaning\n",
      "c:\\Users\\gustav.wiberg\\Documents\\GitHub\\Python\\Arenz_Group_Python\\tests\\Packages\\notebooks_exploration_cleaning\\extra\\notebooks_models\n",
      "c:\\Users\\gustav.wiberg\\Documents\\GitHub\\Python\\Arenz_Group_Python\\tests\\Packages\\notebooks_exploration_cleaning\\extra\\py_scripts\n",
      "c:\\Users\\gustav.wiberg\\Documents\\GitHub\\Python\\Arenz_Group_Python\\tests\\Packages\\notebooks_exploration_cleaning\\extra\\rawdata\n"
     ]
    }
   ],
   "source": [
    "p = Path.cwd()\n",
    "paths = p.parents\n",
    "\n",
    "\n",
    "#print(p)\n",
    "\n",
    "for x in paths:\n",
    "    a= x / 'rawdata'\n",
    "    print(a.is_dir(),\"\\t\\t\",str(a) )\n",
    "    if a.is_dir():\n",
    "        break\n",
    "    \n",
    "\n",
    "#p = Path(__file__)\n",
    "#print(p)\n",
    "for child in p.iterdir(): \n",
    "    print(child)"
   ]
  },
  {
   "cell_type": "code",
   "execution_count": 8,
   "metadata": {},
   "outputs": [
    {
     "name": "stdout",
     "output_type": "stream",
     "text": [
      "c:\\Users\\gustav.wiberg\\Documents\\GitHub\\Python\\Arenz_Group_Python\\tests\\Packages\\rawdata\n",
      "c:\\Users\\gustav.wiberg\\Documents\\GitHub\\Python\\Arenz_Group_Python\\tests\\Packages\\data\n",
      "c:\\Users\\gustav.wiberg\\Documents\\GitHub\\Python\\Arenz_Group_Python\\tests\\Packages\\rawdata\n"
     ]
    }
   ],
   "source": [
    "util =Project_Paths()\n",
    "\n",
    "print(Project_Paths().rawdata_path)\n",
    "#print(util.callers())\n",
    "#print(util.data_path)\n",
    "\n",
    "#print(util._rawdata_path(\"c:\\\\\"))\n",
    "print(util.data_path)\n",
    "print(util.rawdata_path)\n",
    "#print(util._find_dir(nb_path, \"rawadata\"))\n",
    "\n",
    "#print(util.cwd)"
   ]
  },
  {
   "cell_type": "code",
   "execution_count": 9,
   "metadata": {},
   "outputs": [
    {
     "name": "stdout",
     "output_type": "stream",
     "text": [
      "-\"rawdata\" exists already as a folder\n",
      "-\"data\" exists already as a folder\n",
      "-\"py_scripts\" exists already as a folder\n",
      "-\"notebooks_models\" exists already as a folder\n",
      "-\"notebooks_exploration_cleaning\" exists already as a folder\n",
      "\n",
      "creating files:\n",
      "\n",
      "-\"notebooks_models/modelData.ipynb\" already exists\n",
      "-\"py_scripts/my_Module.py\" already exists\n",
      "-\"__init__.py\" already exists\n",
      "-\"extractData.ipynb\" already exists\n",
      "-\"README.md\" already exists\n",
      "-\"README.md\" already exists\n",
      "-\"extracted_values.csv\" already exists\n"
     ]
    }
   ],
   "source": [
    "util = Project_Paths()\n",
    "util.create_project_structure(util.cwd)"
   ]
  }
 ],
 "metadata": {
  "kernelspec": {
   "display_name": "Python 3",
   "language": "python",
   "name": "python3"
  },
  "language_info": {
   "codemirror_mode": {
    "name": "ipython",
    "version": 3
   },
   "file_extension": ".py",
   "mimetype": "text/x-python",
   "name": "python",
   "nbconvert_exporter": "python",
   "pygments_lexer": "ipython3",
   "version": "3.11.5"
  }
 },
 "nbformat": 4,
 "nbformat_minor": 2
}
