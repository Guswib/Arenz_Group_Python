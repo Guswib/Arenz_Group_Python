{
 "cells": [
  {
   "cell_type": "markdown",
   "metadata": {},
   "source": [
    "#Exploring the data
",
    "use this
",
    "
",
    "from arenz_group_python.ec_data import EC_Data"
   ]
  },
  {
   "cell_type": "code",
   "execution_count": null,
   "metadata": {},
   "outputs": [],
   "source": [
    "from arenz_group_python.ec_data import EC_Data
",
    "
",
    "#file1 = EC_Data("PATH_TO_FILE")
",
    "#file1.plot("E","i") for a i vs E "
   ]
  }
 ],
 "metadata": {
  "kernelspec": {
   "display_name": "Python 3",
   "language": "python",
   "name": "python3"
  },
  "language_info": {
   "name": "python",
   "version": "3.11.5"
  }
 },
 "nbformat": 4,
 "nbformat_minor": 2
}