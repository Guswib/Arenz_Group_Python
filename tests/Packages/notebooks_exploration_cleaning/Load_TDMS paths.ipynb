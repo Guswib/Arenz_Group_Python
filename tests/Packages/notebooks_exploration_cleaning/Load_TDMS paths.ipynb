{
 "cells": [
  {
   "cell_type": "code",
   "execution_count": 1,
   "metadata": {},
   "outputs": [],
   "source": [
    "from pathlib import Path\n",
    "import math\n",
    "import pathlib\n",
    "import os\n",
    "# importing sys\n",
    "import sys\n",
    "nb_path = Path.cwd()"
   ]
  },
  {
   "cell_type": "code",
   "execution_count": 2,
   "metadata": {},
   "outputs": [
    {
     "name": "stdout",
     "output_type": "stream",
     "text": [
      "c:\\Users\\gusta\\Documents\\GitHub\\Arenz_Group_Python\\tests\\Packages\n",
      "c:\\Users\\gusta\\Documents\\GitHub\\Arenz_Group_Python\\src\n",
      "path existits: True\n"
     ]
    }
   ],
   "source": [
    "pack_path = nb_path.parent.parent.parent / \"src\" #/\"arenz_group_python\"\n",
    "print(nb_path.parent)\n",
    "print(pack_path)\n",
    "print(f\"path existits: {pack_path.exists()}\")"
   ]
  },
  {
   "cell_type": "code",
   "execution_count": 3,
   "metadata": {},
   "outputs": [
    {
     "name": "stdout",
     "output_type": "stream",
     "text": [
      "loading arenz_group_python\n",
      "['c:\\\\Users\\\\gusta\\\\Documents\\\\GitHub\\\\Arenz_Group_Python\\\\src\\\\arenz_group_python']\n",
      "['c:\\\\Users\\\\gusta\\\\Documents\\\\GitHub\\\\Arenz_Group_Python\\\\src\\\\arenz_group_python']\n"
     ]
    }
   ],
   "source": [
    "#add\n",
    "sys.path.insert(0,str(pack_path))\n",
    "import arenz_group_python\n",
    "print(arenz_group_python.__path__)"
   ]
  },
  {
   "cell_type": "code",
   "execution_count": 4,
   "metadata": {},
   "outputs": [
    {
     "name": "stdout",
     "output_type": "stream",
     "text": [
      "['c:\\\\Users\\\\gusta\\\\Documents\\\\GitHub\\\\Arenz_Group_Python\\\\src\\\\arenz_group_python\\\\data_treatment']\n"
     ]
    }
   ],
   "source": [
    "import arenz_group_python.data_treatment\n",
    "print(arenz_group_python.data_treatment.__path__)"
   ]
  },
  {
   "cell_type": "code",
   "execution_count": 5,
   "metadata": {},
   "outputs": [],
   "source": [
    "from arenz_group_python.data_treatment.ec_data import EC_Data\n",
    "from arenz_group_python import *\n",
    "from arenz_group_python import EC_Data\n",
    "from arenz_group_python import CV_Data\n",
    "from arenz_group_python import save_key_values\n",
    "\n",
    "from arenz_group_python.data_treatment.util_paths import path_util\n",
    "\n"
   ]
  },
  {
   "cell_type": "code",
   "execution_count": 6,
   "metadata": {},
   "outputs": [
    {
     "name": "stdout",
     "output_type": "stream",
     "text": [
      "c:\\Users\\gusta\\Documents\\GitHub\\Arenz_Group_Python\\src\n"
     ]
    }
   ],
   "source": [
    "str_path = str(pack_path)\n",
    "#sys.path.append(\"C:/Users/gustav.wiberg/Documents/GitHub/Python/Arenz_Group_Python/src/ArenzGroupPython\")\n",
    "print(str_path)\n",
    "sys.path.append(str_path)\n",
    "#import ec_data\n",
    "#ec_data.reload()\n",
    " "
   ]
  },
  {
   "cell_type": "code",
   "execution_count": 7,
   "metadata": {},
   "outputs": [
    {
     "name": "stdout",
     "output_type": "stream",
     "text": [
      "(213.43, 'A')\n"
     ]
    }
   ],
   "source": [
    "import arenz_group_python.data_treatment.util as util\n",
    "print(util.extract_value_unit(\" 213.43 A\"))"
   ]
  },
  {
   "cell_type": "code",
   "execution_count": 8,
   "metadata": {},
   "outputs": [
    {
     "data": {
      "text/plain": [
       "[]"
      ]
     },
     "execution_count": 8,
     "metadata": {},
     "output_type": "execute_result"
    }
   ],
   "source": [
    "p = Path('.').parent\n",
    "[x for x in p.iterdir() if x.is_dir()]"
   ]
  },
  {
   "cell_type": "code",
   "execution_count": 9,
   "metadata": {},
   "outputs": [
    {
     "name": "stdout",
     "output_type": "stream",
     "text": [
      "True \t\t c:\\Users\\gusta\\Documents\\GitHub\\Arenz_Group_Python\\tests\\Packages\\rawdata\n",
      "c:\\Users\\gusta\\Documents\\GitHub\\Arenz_Group_Python\\tests\\Packages\\notebooks_exploration_cleaning\\CV_153501_ 3.ipynb\n",
      "c:\\Users\\gusta\\Documents\\GitHub\\Arenz_Group_Python\\tests\\Packages\\notebooks_exploration_cleaning\\extractData.ipynb\n",
      "c:\\Users\\gusta\\Documents\\GitHub\\Arenz_Group_Python\\tests\\Packages\\notebooks_exploration_cleaning\\Load_TDMS paths.ipynb\n"
     ]
    }
   ],
   "source": [
    "p = Path.cwd()\n",
    "paths = p.parents\n",
    "\n",
    "\n",
    "#print(p)\n",
    "\n",
    "for x in paths:\n",
    "    a= x / 'rawdata'\n",
    "    print(a.is_dir(),\"\\t\\t\",str(a) )\n",
    "    if a.is_dir():\n",
    "        break\n",
    "    \n",
    "\n",
    "#p = Path(__file__)\n",
    "#print(p)\n",
    "for child in p.iterdir(): \n",
    "    print(child)"
   ]
  },
  {
   "cell_type": "code",
   "execution_count": 16,
   "metadata": {},
   "outputs": [
    {
     "name": "stdout",
     "output_type": "stream",
     "text": [
      "C:\\Users\\gusta\\AppData\\Local\\Temp\\ipykernel_27772\\2706186342.py\n",
      "True \t\t c:\\Users\\gusta\\Documents\\GitHub\\Arenz_Group_Python\\tests\\Packages\\rawdata\n",
      "c:\\Users\\gusta\\Documents\\GitHub\\Arenz_Group_Python\\tests\\Packages\\rawdata\n",
      "False \t\t c:\\Users\\gusta\\Documents\\GitHub\\Arenz_Group_Python\\tests\\Packages\\py_script\n",
      "False \t\t c:\\Users\\gusta\\Documents\\GitHub\\Arenz_Group_Python\\tests\\py_script\n",
      "False \t\t c:\\Users\\gusta\\Documents\\GitHub\\Arenz_Group_Python\\py_script\n",
      "False \t\t c:\\Users\\gusta\\Documents\\GitHub\\py_script\n",
      "False \t\t c:\\Users\\gusta\\Documents\\py_script\n",
      "False \t\t c:\\Users\\gusta\\py_script\n",
      "False \t\t c:\\Users\\py_script\n",
      "False \t\t c:\\py_script\n",
      ".\n"
     ]
    }
   ],
   "source": [
    "util =path_util()\n",
    "print(util.callers())\n",
    "print(util.raw_data_path(nb_path))\n",
    "\n",
    "print(util._find_dir(nb_path, \"py_script\"))"
   ]
  }
 ],
 "metadata": {
  "kernelspec": {
   "display_name": "Python 3",
   "language": "python",
   "name": "python3"
  },
  "language_info": {
   "codemirror_mode": {
    "name": "ipython",
    "version": 3
   },
   "file_extension": ".py",
   "mimetype": "text/x-python",
   "name": "python",
   "nbconvert_exporter": "python",
   "pygments_lexer": "ipython3",
   "version": "3.11.5"
  }
 },
 "nbformat": 4,
 "nbformat_minor": 2
}
