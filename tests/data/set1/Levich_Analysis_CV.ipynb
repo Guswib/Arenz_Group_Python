{
 "cells": [
  {
   "cell_type": "markdown",
   "metadata": {},
   "source": [
    "# Levich and Koutechy-Levich analysis notebook for CV data.\n",
    "\n",
    "## 1. Import needed libraries"
   ]
  },
  {
   "cell_type": "code",
   "execution_count": null,
   "metadata": {},
   "outputs": [],
   "source": [
    "from pathlib import Path\n",
    "import sys\n",
    "nb_path = Path.cwd()\n",
    "from arenz_group_python import CV_Datas\n",
    "print(nb_path)"
   ]
  },
  {
   "cell_type": "markdown",
   "metadata": {},
   "source": [
    "## 2.Make a list of paths to the data files."
   ]
  },
  {
   "cell_type": "code",
   "execution_count": null,
   "metadata": {},
   "outputs": [],
   "source": [
    "paths = []\n",
    "path_to_dataSetFolder = nb_path\n",
    "#paths.append( path_to_dataSetFolder / \"CV_144913_ 3.tdms\")\n",
    "paths.append( path_to_dataSetFolder / \"CV_153559_ 3.tdms\")\n",
    "paths.append( path_to_dataSetFolder / \"CV_153541_ 3.tdms\")\n",
    "paths.append( path_to_dataSetFolder / \"CV_153333_ 3.tdms\")\n",
    "paths.append( path_to_dataSetFolder / \"CV_151300_ 3.tdms\")\n",
    "paths.append( path_to_dataSetFolder / \"CV_151725_ 3.tdms\")\n",
    "paths.append( path_to_dataSetFolder / \"CV_151512_ 3.tdms\")\n",
    "\n"
   ]
  },
  {
   "cell_type": "markdown",
   "metadata": {},
   "source": [
    "## 3. Load in the data files"
   ]
  },
  {
   "cell_type": "code",
   "execution_count": null,
   "metadata": {},
   "outputs": [],
   "source": [
    "CVs = CV_Datas(paths)"
   ]
  },
  {
   "cell_type": "markdown",
   "metadata": {},
   "source": [
    "## 4. Levich analysis"
   ]
  },
  {
   "cell_type": "code",
   "execution_count": null,
   "metadata": {},
   "outputs": [],
   "source": [
    "CVs.Levich(-0.5, \"\")\n",
    "#use the argument to normalize the data"
   ]
  },
  {
   "cell_type": "markdown",
   "metadata": {},
   "source": [
    "## 5. Koutechy-Levich analysis"
   ]
  },
  {
   "cell_type": "code",
   "execution_count": null,
   "metadata": {},
   "outputs": [],
   "source": [
    "CVs.KouLev(-0.5, \"\")\n",
    "#use the argument to normalize the data"
   ]
  },
  {
   "cell_type": "markdown",
   "metadata": {},
   "source": []
  }
 ],
 "metadata": {
  "kernelspec": {
   "display_name": "Python 3",
   "language": "python",
   "name": "python3"
  },
  "language_info": {
   "codemirror_mode": {
    "name": "ipython",
    "version": 3
   },
   "file_extension": ".py",
   "mimetype": "text/x-python",
   "name": "python",
   "nbconvert_exporter": "python",
   "pygments_lexer": "ipython3",
   "version": "3.11.5"
  }
 },
 "nbformat": 4,
 "nbformat_minor": 2
}
