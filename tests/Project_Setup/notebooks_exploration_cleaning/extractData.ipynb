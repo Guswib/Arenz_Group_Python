{
    "cells": [
        {
            "cell_type": "markdown",
            "metadata": {},
            "source": [
                "# Exploring the data\n",
                "use this notebook and others to extract data.\n",
                "\n",
                "To use with electrochemistry data, use the following import:\n",
                "from arenz_group_python import EC_Data\n",
                "\n",
                "from arenz_group_python import Project_Paths\n",
                "\n",
                "from arenz_group_python import CV_Data\n"
            ]
        },
        {
            "cell_type": "code",
            "execution_count": 1,
            "metadata": {},
            "outputs": [
                {
                    "name": "stdout",
                    "output_type": "stream",
                    "text": [
                        "loading arenz_group_python\n",
                        "['c:\\\\Users\\\\gustav.wiberg\\\\Documents\\\\GitHub\\\\Python\\\\Arenz_Group_Python\\\\.venv\\\\Lib\\\\site-packages\\\\arenz_group_python']\n"
                    ]
                }
            ],
            "source": [
                "#from arenz_group_python import EC_Data\n",
                "from arenz_group_python import Project_Paths\n",
                "#from arenz_group_python import CV_Data\n",
                "from arenz_group_python import save_key_values"
            ]
        },
        {
            "cell_type": "code",
            "execution_count": null,
            "metadata": {},
            "outputs": [],
            "source": [
                "#if there is a file in the rawdata folder:\n",
                "#PATH_TO_FILE = Project_Paths().rawdata_path / 'FILE_NAME' \n",
                "#file1 = EC_Data('PATH_TO_FILE')\n",
                "#file1.plot('E','i') # for a i vs E plot "
            ]
        },
        {
            "cell_type": "code",
            "execution_count": 5,
            "metadata": {},
            "outputs": [
                {
                    "name": "stdout",
                    "output_type": "stream",
                    "text": [
                        "sample not found -  adding row\n"
                    ]
                },
                {
                    "data": {
                        "text/plain": [
                            "True"
                        ]
                    },
                    "execution_count": 5,
                    "metadata": {},
                    "output_type": "execute_result"
                }
            ],
            "source": [
                "from arenz_group_python.data_treatment.key_values_to_file import save_key_values\n",
                "\n",
                "\n",
                "PATH_TO_EXTRACTED_DATA_FILE = Project_Paths().data_path / 'extracted_values.csv' \n",
                "save_key_values(PATH_TO_EXTRACTED_DATA_FILE, 'Sample1', [12.0, 4343, 5454.32])"
            ]
        }
    ],
    "metadata": {
        "kernelspec": {
            "display_name": "Python 3",
            "language": "python",
            "name": "python3"
        },
        "language_info": {
            "codemirror_mode": {
                "name": "ipython",
                "version": 3
            },
            "file_extension": ".py",
            "mimetype": "text/x-python",
            "name": "python",
            "nbconvert_exporter": "python",
            "pygments_lexer": "ipython3",
            "version": "3.11.5"
        }
    },
    "nbformat": 4,
    "nbformat_minor": 2
}
