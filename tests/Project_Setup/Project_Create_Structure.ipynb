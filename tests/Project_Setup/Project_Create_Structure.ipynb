{
 "cells": [
  {
   "cell_type": "markdown",
   "metadata": {},
   "source": [
    "# General installation from github\n",
    "This notebook creates a basic project structure. \n",
    "It is based on the article:\n",
    "\n",
    "https://towardsdatascience.com/its-time-to-structure-your-data-science-project-1fa064fbe46\n"
   ]
  },
  {
   "cell_type": "code",
   "execution_count": 2,
   "metadata": {},
   "outputs": [
    {
     "ename": "ImportError",
     "evalue": "cannot import name 'Project_Paths' from 'arenz_group_python' (c:\\Users\\gustav.wiberg\\Documents\\GitHub\\Python\\Arenz_Group_Python\\.venv\\Lib\\site-packages\\arenz_group_python\\__init__.py)",
     "output_type": "error",
     "traceback": [
      "\u001b[1;31m---------------------------------------------------------------------------\u001b[0m",
      "\u001b[1;31mImportError\u001b[0m                               Traceback (most recent call last)",
      "Cell \u001b[1;32mIn[2], line 1\u001b[0m\n\u001b[1;32m----> 1\u001b[0m \u001b[38;5;28;01mfrom\u001b[39;00m \u001b[38;5;21;01marenz_group_python\u001b[39;00m \u001b[38;5;28;01mimport\u001b[39;00m Project_Paths\n\u001b[0;32m      3\u001b[0m \u001b[38;5;66;03m#Path of the file.\u001b[39;00m\n\u001b[0;32m      5\u001b[0m main_dir \u001b[38;5;241m=\u001b[39m Project_Paths\u001b[38;5;241m.\u001b[39mcwd\n",
      "\u001b[1;31mImportError\u001b[0m: cannot import name 'Project_Paths' from 'arenz_group_python' (c:\\Users\\gustav.wiberg\\Documents\\GitHub\\Python\\Arenz_Group_Python\\.venv\\Lib\\site-packages\\arenz_group_python\\__init__.py)"
     ]
    }
   ],
   "source": [
    "from arenz_group_python import Project_Paths\n",
    "\n",
    "#Path of the file.\n",
    "\n",
    "main_dir = Project_Paths.cwd\n",
    "print(main_dir)"
   ]
  },
  {
   "cell_type": "code",
   "execution_count": null,
   "metadata": {},
   "outputs": [],
   "source": [
    "#Creates the folder structre\n",
    "Project_Paths().create_project_structure()"
   ]
  }
 ],
 "metadata": {
  "kernelspec": {
   "display_name": "Python 3",
   "language": "python",
   "name": "python3"
  },
  "language_info": {
   "codemirror_mode": {
    "name": "ipython",
    "version": 3
   },
   "file_extension": ".py",
   "mimetype": "text/x-python",
   "name": "python",
   "nbconvert_exporter": "python",
   "pygments_lexer": "ipython3",
   "version": "3.11.5"
  }
 },
 "nbformat": 4,
 "nbformat_minor": 2
}
