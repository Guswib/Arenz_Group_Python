{
 "cells": [
  {
   "cell_type": "markdown",
   "metadata": {},
   "source": [
    "# General installation from github\n",
    "This notebook creates a basic project structure. \n",
    "It is based on the article:\n",
    "\n",
    "https://towardsdatascience.com/its-time-to-structure-your-data-science-project-1fa064fbe46\n"
   ]
  },
  {
   "cell_type": "code",
   "execution_count": 9,
   "metadata": {},
   "outputs": [
    {
     "name": "stdout",
     "output_type": "stream",
     "text": [
      "c:\\Users\\gustav.wiberg\\Documents\\GitHub\\Python\\Arenz_Group_Python\\tests\\Project_Setup\n"
     ]
    }
   ],
   "source": [
    "from arenz_group_python import Project_Paths\n",
    "\n",
    "#Path of the file.\n",
    "\n",
    "main_dir = Project_Paths().cwd\n",
    "print(str(main_dir))"
   ]
  },
  {
   "cell_type": "code",
   "execution_count": 10,
   "metadata": {},
   "outputs": [
    {
     "name": "stdout",
     "output_type": "stream",
     "text": [
      "\n",
      "creating files:\n",
      "\n",
      "+\"notebooks_models/modelData.ipynb\" was created\n",
      "+\"py_scripts/my_Module.py\" was created\n",
      "+\"__init__.py\" was created\n",
      "+\"README.md\" was created\n",
      "+\"README.md\" was created\n",
      "+\"extracted_values.csv\" was created\n"
     ]
    }
   ],
   "source": [
    "#Creates the folder structre\n",
    "Project_Paths().create_project_structure(main_dir)"
   ]
  }
 ],
 "metadata": {
  "kernelspec": {
   "display_name": "Python 3",
   "language": "python",
   "name": "python3"
  },
  "language_info": {
   "codemirror_mode": {
    "name": "ipython",
    "version": 3
   },
   "file_extension": ".py",
   "mimetype": "text/x-python",
   "name": "python",
   "nbconvert_exporter": "python",
   "pygments_lexer": "ipython3",
   "version": "3.11.5"
  }
 },
 "nbformat": 4,
 "nbformat_minor": 2
}
