{
 "cells": [
  {
   "cell_type": "markdown",
   "metadata": {},
   "source": [
    "# General installation from github\n",
    "pip install \"Package\" @ git+\"URL of the repository#subdirectory=path\"\n",
    "\n",
    "Here, we want to install Arenz_Group Python package."
   ]
  },
  {
   "cell_type": "code",
   "execution_count": 1,
   "metadata": {},
   "outputs": [],
   "source": [
    "import sys\n",
    "path_to_executable = \"\\\"\" + str(sys.executable) +  \"\\\"\" #must be used if there are any spaces in the path"
   ]
  },
  {
   "cell_type": "markdown",
   "metadata": {},
   "source": [
    "This can take a while to install....2min or so"
   ]
  },
  {
   "cell_type": "code",
   "execution_count": 4,
   "metadata": {},
   "outputs": [
    {
     "name": "stdout",
     "output_type": "stream",
     "text": [
      "Collecting arenz_group_python@ git+https://github.com/Guswib/Arenz_Group_Python\n",
      "  Cloning https://github.com/Guswib/Arenz_Group_Python to c:\\users\\gustav.wiberg\\appdata\\local\\temp\\pip-install-864lgwjf\\arenz-group-python_bf9355a270214307bbb4251cce271625\n",
      "  Resolved https://github.com/Guswib/Arenz_Group_Python to commit 53b186d3e09dbea861f45cdb3a8cfe60826d82b7\n",
      "  Installing build dependencies: started\n",
      "  Installing build dependencies: finished with status 'done'\n",
      "  Getting requirements to build wheel: started\n",
      "  Getting requirements to build wheel: finished with status 'done'\n",
      "  Preparing metadata (pyproject.toml): started\n",
      "  Preparing metadata (pyproject.toml): finished with status 'done'\n",
      "Requirement already satisfied: nptdms in c:\\users\\gustav.wiberg\\documents\\github\\python\\arenz_group_python\\.venv\\lib\\site-packages (from arenz_group_python@ git+https://github.com/Guswib/Arenz_Group_Python) (1.9.0)\n",
      "Requirement already satisfied: matplotlib in c:\\users\\gustav.wiberg\\documents\\github\\python\\arenz_group_python\\.venv\\lib\\site-packages (from arenz_group_python@ git+https://github.com/Guswib/Arenz_Group_Python) (3.9.1)\n",
      "Requirement already satisfied: pathlib in c:\\users\\gustav.wiberg\\documents\\github\\python\\arenz_group_python\\.venv\\lib\\site-packages (from arenz_group_python@ git+https://github.com/Guswib/Arenz_Group_Python) (1.0.1)\n",
      "Requirement already satisfied: scipy in c:\\users\\gustav.wiberg\\documents\\github\\python\\arenz_group_python\\.venv\\lib\\site-packages (from arenz_group_python@ git+https://github.com/Guswib/Arenz_Group_Python) (1.14.0)\n",
      "Requirement already satisfied: contourpy>=1.0.1 in c:\\users\\gustav.wiberg\\documents\\github\\python\\arenz_group_python\\.venv\\lib\\site-packages (from matplotlib->arenz_group_python@ git+https://github.com/Guswib/Arenz_Group_Python) (1.2.1)\n",
      "Requirement already satisfied: cycler>=0.10 in c:\\users\\gustav.wiberg\\documents\\github\\python\\arenz_group_python\\.venv\\lib\\site-packages (from matplotlib->arenz_group_python@ git+https://github.com/Guswib/Arenz_Group_Python) (0.12.1)\n",
      "Requirement already satisfied: fonttools>=4.22.0 in c:\\users\\gustav.wiberg\\documents\\github\\python\\arenz_group_python\\.venv\\lib\\site-packages (from matplotlib->arenz_group_python@ git+https://github.com/Guswib/Arenz_Group_Python) (4.53.0)\n",
      "Requirement already satisfied: kiwisolver>=1.3.1 in c:\\users\\gustav.wiberg\\documents\\github\\python\\arenz_group_python\\.venv\\lib\\site-packages (from matplotlib->arenz_group_python@ git+https://github.com/Guswib/Arenz_Group_Python) (1.4.5)\n",
      "Requirement already satisfied: numpy>=1.23 in c:\\users\\gustav.wiberg\\documents\\github\\python\\arenz_group_python\\.venv\\lib\\site-packages (from matplotlib->arenz_group_python@ git+https://github.com/Guswib/Arenz_Group_Python) (2.0.0)\n",
      "Requirement already satisfied: packaging>=20.0 in c:\\users\\gustav.wiberg\\documents\\github\\python\\arenz_group_python\\.venv\\lib\\site-packages (from matplotlib->arenz_group_python@ git+https://github.com/Guswib/Arenz_Group_Python) (24.1)\n",
      "Requirement already satisfied: pillow>=8 in c:\\users\\gustav.wiberg\\documents\\github\\python\\arenz_group_python\\.venv\\lib\\site-packages (from matplotlib->arenz_group_python@ git+https://github.com/Guswib/Arenz_Group_Python) (10.4.0)\n",
      "Requirement already satisfied: pyparsing>=2.3.1 in c:\\users\\gustav.wiberg\\documents\\github\\python\\arenz_group_python\\.venv\\lib\\site-packages (from matplotlib->arenz_group_python@ git+https://github.com/Guswib/Arenz_Group_Python) (3.1.2)\n",
      "Requirement already satisfied: python-dateutil>=2.7 in c:\\users\\gustav.wiberg\\documents\\github\\python\\arenz_group_python\\.venv\\lib\\site-packages (from matplotlib->arenz_group_python@ git+https://github.com/Guswib/Arenz_Group_Python) (2.9.0.post0)\n",
      "Requirement already satisfied: six>=1.5 in c:\\users\\gustav.wiberg\\documents\\github\\python\\arenz_group_python\\.venv\\lib\\site-packages (from python-dateutil>=2.7->matplotlib->arenz_group_python@ git+https://github.com/Guswib/Arenz_Group_Python) (1.16.0)\n"
     ]
    },
    {
     "name": "stderr",
     "output_type": "stream",
     "text": [
      "  Running command git clone --filter=blob:none --quiet https://github.com/Guswib/Arenz_Group_Python 'C:\\Users\\gustav.wiberg\\AppData\\Local\\Temp\\pip-install-864lgwjf\\arenz-group-python_bf9355a270214307bbb4251cce271625'\n",
      "\n",
      "[notice] A new release of pip is available: 24.1.1 -> 24.1.2\n",
      "[notice] To update, run: python.exe -m pip install --upgrade pip\n"
     ]
    }
   ],
   "source": [
    "#works for most venv.\n",
    "\n",
    "!{path_to_executable} -m pip install arenz_group_python@git+https://github.com/Guswib/Arenz_Group_Python"
   ]
  },
  {
   "cell_type": "markdown",
   "metadata": {},
   "source": [
    "If you donot have pip or git installed in your conda env., run:\n",
    "conda install pip\n",
    "conda install git"
   ]
  },
  {
   "cell_type": "code",
   "execution_count": 3,
   "metadata": {},
   "outputs": [
    {
     "name": "stdout",
     "output_type": "stream",
     "text": [
      "\n",
      "Please wait a moment while I gather a list of all available modules...\n",
      "\n",
      "test_sqlite3: testing with version '2.6.0', sqlite_version '3.42.0'\n",
      "loading arenz_group_python\n",
      "['c:\\\\Users\\\\gustav.wiberg\\\\Documents\\\\GitHub\\\\Python\\\\Arenz_Group_Python\\\\.venv\\\\Lib\\\\site-packages\\\\arenz_group_python']\n"
     ]
    },
    {
     "name": "stderr",
     "output_type": "stream",
     "text": [
      "c:\\Users\\gustav.wiberg\\Documents\\GitHub\\Python\\Arenz_Group_Python\\.venv\\Lib\\site-packages\\_distutils_hack\\__init__.py:33: UserWarning: Setuptools is replacing distutils.\n",
      "  warnings.warn(\"Setuptools is replacing distutils.\")\n"
     ]
    },
    {
     "name": "stdout",
     "output_type": "stream",
     "text": [
      "IPython             asyncore            matplotlib          subprocess\n",
      "PIL                 atexit              matplotlib_inline   sunau\n",
      "__future__          audioop             mimetypes           symtable\n",
      "__hello__           base64              mmap                sys\n",
      "__phello__          bdb                 mmapfile            sysconfig\n",
      "_abc                binascii            mmsystem            tabnanny\n",
      "_aix_support        bisect              modulefinder        tarfile\n",
      "_ast                builtins            mpl_toolkits        telnetlib\n",
      "_asyncio            bz2                 msilib              tempfile\n",
      "_bisect             cProfile            msvcrt              test\n",
      "_blake2             calendar            multiprocessing     textwrap\n",
      "_bootsubprocess     cgi                 nest_asyncio        this\n",
      "_bz2                cgitb               netbios             threading\n",
      "_codecs             chunk               netrc               time\n",
      "_codecs_cn          cmath               nntplib             timeit\n",
      "_codecs_hk          cmd                 nptdms              timer\n",
      "_codecs_iso2022     code                nt                  tkinter\n",
      "_codecs_jp          codecs              ntpath              token\n",
      "_codecs_kr          codeop              ntsecuritycon       tokenize\n",
      "_codecs_tw          collections         nturl2path          tomllib\n",
      "_collections        colorama            numbers             tornado\n",
      "_collections_abc    colorsys            numpy               trace\n",
      "_compat_pickle      comm                odbc                traceback\n",
      "_compression        commctrl            opcode              tracemalloc\n",
      "_contextvars        compileall          operator            traitlets\n",
      "_csv                concurrent          optparse            tty\n",
      "_ctypes             configparser        os                  turtle\n",
      "_ctypes_test        contextlib          packaging           turtledemo\n",
      "_datetime           contextvars         parso               types\n",
      "_decimal            contourpy           pathlib             typing\n",
      "_distutils_hack     copy                pdb                 typing_extensions\n",
      "_elementtree        copyreg             perfmon             unicodedata\n",
      "_functools          crypt               pickle              unittest\n",
      "_hashlib            csv                 pickletools         urllib\n",
      "_heapq              ctypes              pip                 uu\n",
      "_imp                curses              pipes               uuid\n",
      "_io                 cycler              pkg_resources       venv\n",
      "_json               dataclasses         pkgutil             warnings\n",
      "_locale             datetime            platform            wave\n",
      "_lsprof             dateutil            platformdirs        wcwidth\n",
      "_lzma               dbi                 plistlib            weakref\n",
      "_markupbase         dbm                 poplib              webbrowser\n",
      "_md5                dde                 posixpath           win2kras\n",
      "_msi                debugpy             pprint              win32api\n",
      "_multibytecodec     decimal             profile             win32clipboard\n",
      "_multiprocessing    decorator           prompt_toolkit      win32com\n",
      "_opcode             difflib             pstats              win32con\n",
      "_operator           dis                 psutil              win32console\n",
      "_osx_support        distutils           pty                 win32cred\n",
      "_overlapped         doctest             pure_eval           win32crypt\n",
      "_pickle             email               py_compile          win32cryptcon\n",
      "_py_abc             encodings           pyclbr              win32event\n",
      "_pydecimal          ensurepip           pydoc               win32evtlog\n",
      "_pyio               enum                pydoc_data          win32evtlogutil\n",
      "_queue              errno               pyexpat             win32file\n",
      "_random             executing           pygments            win32gui\n",
      "_sha1               faulthandler        pylab               win32gui_struct\n",
      "_sha256             filecmp             pyparsing           win32help\n",
      "_sha3               fileinput           pythoncom           win32inet\n",
      "_sha512             fnmatch             pywin               win32inetcon\n",
      "_signal             fontTools           pywin32_bootstrap   win32job\n",
      "_sitebuiltins       fractions           pywin32_testutil    win32lz\n",
      "_socket             ftplib              pywintypes          win32net\n",
      "_sqlite3            functools           queue               win32netcon\n",
      "_sre                gc                  quopri              win32pdh\n",
      "_ssl                genericpath         random              win32pdhquery\n",
      "_stat               getopt              rasutil             win32pdhutil\n",
      "_statistics         getpass             re                  win32pipe\n",
      "_string             gettext             regcheck            win32print\n",
      "_strptime           glob                regutil             win32process\n",
      "_struct             graphlib            reprlib             win32profile\n",
      "_symtable           gzip                rlcompleter         win32ras\n",
      "_testbuffer         hashlib             runpy               win32rcparser\n",
      "_testcapi           heapq               sched               win32security\n",
      "_testconsole        hmac                scipy               win32service\n",
      "_testimportmultiple html                secrets             win32serviceutil\n",
      "_testinternalcapi   http                select              win32timezone\n",
      "_testmultiphase     idlelib             selectors           win32trace\n",
      "_thread             imaplib             servicemanager      win32traceutil\n",
      "_threading_local    imghdr              setuptools          win32transaction\n",
      "_tkinter            imp                 shelve              win32ts\n",
      "_tokenize           importlib           shlex               win32ui\n",
      "_tracemalloc        inspect             shutil              win32uiole\n",
      "_typing             io                  signal              win32verstamp\n",
      "_uuid               ipaddress           site                win32wnet\n",
      "_warnings           ipykernel           six                 winerror\n",
      "_weakref            ipykernel_launcher  smtpd               winioctlcon\n",
      "_weakrefset         isapi               smtplib             winnt\n",
      "_win32sysloader     itertools           sndhdr              winperf\n",
      "_winapi             jedi                socket              winreg\n",
      "_winxptheme         json                socketserver        winsound\n",
      "_xxsubinterpreters  jupyter             sqlite3             winxpgui\n",
      "_zoneinfo           jupyter_client      sre_compile         winxptheme\n",
      "abc                 jupyter_core        sre_constants       wsgiref\n",
      "adodbapi            keyword             sre_parse           xdrlib\n",
      "afxres              kiwisolver          ssl                 xml\n",
      "aifc                lib2to3             sspi                xmlrpc\n",
      "antigravity         linecache           sspicon             xxsubtype\n",
      "arenz_group_python  locale              stack_data          zipapp\n",
      "argparse            logging             start_pythonwin     zipfile\n",
      "array               lzma                stat                zipimport\n",
      "ast                 mailbox             statistics          zlib\n",
      "asttokens           mailcap             string              zmq\n",
      "asynchat            marshal             stringprep          zoneinfo\n",
      "asyncio             math                struct              \n",
      "\n",
      "Enter any module name to get more help.  Or, type \"modules spam\" to search\n",
      "for modules whose name or summary contain the string \"spam\".\n",
      "\n"
     ]
    }
   ],
   "source": [
    "\n",
    "help('modules')"
   ]
  }
 ],
 "metadata": {
  "kernelspec": {
   "display_name": "Python 3",
   "language": "python",
   "name": "python3"
  },
  "language_info": {
   "codemirror_mode": {
    "name": "ipython",
    "version": 3
   },
   "file_extension": ".py",
   "mimetype": "text/x-python",
   "name": "python",
   "nbconvert_exporter": "python",
   "pygments_lexer": "ipython3",
   "version": "3.11.5"
  }
 },
 "nbformat": 4,
 "nbformat_minor": 2
}
