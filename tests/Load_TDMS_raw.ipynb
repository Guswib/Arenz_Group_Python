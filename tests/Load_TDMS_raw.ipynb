{
 "cells": [
  {
   "cell_type": "code",
   "execution_count": 6,
   "metadata": {},
   "outputs": [],
   "source": [
    "import numpy as np\n",
    "import pandas as pd\n",
    "import matplotlib.pyplot as plt\n",
    "from nptdms import TdmsFile\n",
    "from pathlib import Path\n",
    "import os"
   ]
  },
  {
   "cell_type": "code",
   "execution_count": 7,
   "metadata": {},
   "outputs": [
    {
     "name": "stdout",
     "output_type": "stream",
     "text": [
      "Get current working directory :  c:\\Users\\gustav.wiberg\\Documents\\GitHub\\Python\\Arenz_Group_Python\\tests\n"
     ]
    }
   ],
   "source": [
    "print('Get current working directory : ', os.getcwd())"
   ]
  },
  {
   "cell_type": "code",
   "execution_count": 8,
   "metadata": {},
   "outputs": [
    {
     "name": "stdout",
     "output_type": "stream",
     "text": [
      "c:\\Users\\gustav.wiberg\\Documents\\GitHub\\Python\\Arenz_Group_Python\\tests\n"
     ]
    }
   ],
   "source": [
    "nb_path = Path.cwd()\n",
    "print(nb_path)"
   ]
  },
  {
   "cell_type": "code",
   "execution_count": 11,
   "metadata": {},
   "outputs": [
    {
     "name": "stdout",
     "output_type": "stream",
     "text": [
      "[0.00599781 0.00599756 0.00599771 ... 0.00031587 0.00031568 0.00031572]\n"
     ]
    }
   ],
   "source": [
    "#data import from tdms-file:\n",
    "\n",
    "test_file_path = nb_path \n",
    "#data in the folder, e.g.\n",
    "tdms_file = TdmsFile.read(\"c:/temp/Steps_134427.tdms\")\n",
    "tdms_file_groups = tdms_file.groups()\n",
    "tdms_file_df = tdms_file.as_dataframe()\n",
    "\n",
    "# grab the columns in the file\n",
    "tdms_file_groupEC_i_file0s50mV = tdms_file_groups[0]['i']\n",
    "tdms_file_groupEC_t_file0s50mV = tdms_file_groups[0]['Time']\n",
    "tdms_file_groupEC_E_file0s50mV = tdms_file_groups[0]['E']\n",
    "tdms_file_groupEC_R_file0s50mV = tdms_file_groups[0]['Z_E']\n",
    "\n",
    "# rename and create a numpy-array with the data\n",
    "current_file0s50mV = tdms_file_groupEC_i_file0s50mV.data\n",
    "time_file0s50mV = tdms_file_groupEC_t_file0s50mV.data\n",
    "potential_file0s50mV = tdms_file_groupEC_E_file0s50mV.data\n",
    "resistivity_file0s50mV = tdms_file_groupEC_R_file0s50mV.data\n",
    "\n",
    "#check if it worked, e.g.:\n",
    "print(current_file0s50mV)\n",
    "\n",
    "\n",
    "# function\n",
    "def displayText(path_to_TDMS_EC_data):\n",
    "    print( \"Geeks 4 Geeks !\")"
   ]
  },
  {
   "cell_type": "code",
   "execution_count": null,
   "metadata": {},
   "outputs": [],
   "source": [
    "pack_path = nb_path.parent / \"src\" / \"ArenzGroupPython\"\n",
    "print(nb_path.parent)\n",
    "print(pack_path)\n",
    "print(f\"path existits: {pack_path.exists()}\")\n",
    "\n",
    "str_path = str(pack_path)\n",
    "#sys.path.append(\"C:/Users/gustav.wiberg/Documents/GitHub/Python/Arenz_Group_Python/src/ArenzGroupPython\")\n",
    "print(str_path)\n",
    "sys.path.append(str_path)\n",
    "#import ec_data\n",
    "#ec_data.reload()\n",
    "from ec_data import EC_Data\n"
   ]
  }
 ],
 "metadata": {
  "kernelspec": {
   "display_name": "Python 3",
   "language": "python",
   "name": "python3"
  },
  "language_info": {
   "codemirror_mode": {
    "name": "ipython",
    "version": 3
   },
   "file_extension": ".py",
   "mimetype": "text/x-python",
   "name": "python",
   "nbconvert_exporter": "python",
   "pygments_lexer": "ipython3",
   "version": "3.11.5"
  }
 },
 "nbformat": 4,
 "nbformat_minor": 2
}
