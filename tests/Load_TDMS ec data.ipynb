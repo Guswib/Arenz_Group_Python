{
 "cells": [
  {
   "cell_type": "code",
   "execution_count": 1,
   "metadata": {},
   "outputs": [],
   "source": [
    "import numpy as np\n",
    "import pandas as pd\n",
    "import matplotlib.pyplot as plt\n",
    "from nptdms import TdmsFile\n",
    "from pathlib import Path\n",
    "import math\n",
    "import pathlib\n",
    "import os\n",
    "# importing sys\n",
    "import sys\n",
    "nb_path = Path.cwd()"
   ]
  },
  {
   "cell_type": "code",
   "execution_count": 2,
   "metadata": {},
   "outputs": [
    {
     "name": "stdout",
     "output_type": "stream",
     "text": [
      "c:\\Users\\gusta\\Documents\\GitHub\\Arenz_Group_Python\n",
      "c:\\Users\\gusta\\Documents\\GitHub\\Arenz_Group_Python\\src\n",
      "path existits: True\n"
     ]
    }
   ],
   "source": [
    "pack_path = nb_path.parent / \"src\" #/\"arenz_group_python\"\n",
    "print(nb_path.parent)\n",
    "print(pack_path)\n",
    "print(f\"path existits: {pack_path.exists()}\")"
   ]
  },
  {
   "cell_type": "code",
   "execution_count": 3,
   "metadata": {},
   "outputs": [
    {
     "name": "stdout",
     "output_type": "stream",
     "text": [
      "loading arenz_group_python\n",
      "['c:\\\\Users\\\\gusta\\\\Documents\\\\GitHub\\\\Arenz_Group_Python\\\\src\\\\arenz_group_python']\n",
      "['c:\\\\Users\\\\gusta\\\\Documents\\\\GitHub\\\\Arenz_Group_Python\\\\src\\\\arenz_group_python']\n"
     ]
    }
   ],
   "source": [
    "#add\n",
    "sys.path.insert(0,str(pack_path))\n",
    "import arenz_group_python\n",
    "print(arenz_group_python.__path__)"
   ]
  },
  {
   "cell_type": "code",
   "execution_count": 4,
   "metadata": {},
   "outputs": [
    {
     "name": "stdout",
     "output_type": "stream",
     "text": [
      "['c:\\\\Users\\\\gusta\\\\Documents\\\\GitHub\\\\Arenz_Group_Python\\\\src\\\\arenz_group_python\\\\data_treatment']\n"
     ]
    }
   ],
   "source": [
    "import arenz_group_python.data_treatment\n",
    "print(arenz_group_python.data_treatment.__path__)"
   ]
  },
  {
   "cell_type": "code",
   "execution_count": 5,
   "metadata": {},
   "outputs": [],
   "source": [
    "from arenz_group_python.data_treatment.ec_data import EC_Data\n",
    "from arenz_group_python import *\n",
    "from arenz_group_python import EC_Data\n",
    "from arenz_group_python import CV_Data\n"
   ]
  },
  {
   "cell_type": "code",
   "execution_count": 6,
   "metadata": {},
   "outputs": [
    {
     "name": "stdout",
     "output_type": "stream",
     "text": [
      "c:\\Users\\gusta\\Documents\\GitHub\\Arenz_Group_Python\\src\n"
     ]
    }
   ],
   "source": [
    "str_path = str(pack_path)\n",
    "#sys.path.append(\"C:/Users/gustav.wiberg/Documents/GitHub/Python/Arenz_Group_Python/src/ArenzGroupPython\")\n",
    "print(str_path)\n",
    "sys.path.append(str_path)\n",
    "#import ec_data\n",
    "#ec_data.reload()\n",
    " "
   ]
  },
  {
   "cell_type": "code",
   "execution_count": 7,
   "metadata": {},
   "outputs": [
    {
     "name": "stdout",
     "output_type": "stream",
     "text": [
      "(213.43, 'A')\n"
     ]
    }
   ],
   "source": [
    "import arenz_group_python.data_treatment.util as util\n",
    "print(util.extract_value_unit(\" 213.43 A\"))"
   ]
  },
  {
   "cell_type": "code",
   "execution_count": 10,
   "metadata": {},
   "outputs": [
    {
     "name": "stdout",
     "output_type": "stream",
     "text": [
      "CV_144913_ 3 : EC data sets:  3\n"
     ]
    },
    {
     "ename": "AttributeError",
     "evalue": "'str' object has no attribute 'data'",
     "output_type": "error",
     "traceback": [
      "\u001b[1;31m---------------------------------------------------------------------------\u001b[0m",
      "\u001b[1;31mAttributeError\u001b[0m                            Traceback (most recent call last)",
      "Cell \u001b[1;32mIn[10], line 3\u001b[0m\n\u001b[0;32m      1\u001b[0m test_file_path \u001b[38;5;241m=\u001b[39m nb_path \u001b[38;5;241m/\u001b[39m \u001b[38;5;124m\"\u001b[39m\u001b[38;5;124mdata\u001b[39m\u001b[38;5;124m\"\u001b[39m \u001b[38;5;241m/\u001b[39m \u001b[38;5;124m\"\u001b[39m\u001b[38;5;124mset1\u001b[39m\u001b[38;5;124m\"\u001b[39m \u001b[38;5;241m/\u001b[39m \u001b[38;5;124m\"\u001b[39m\u001b[38;5;124mCV_144913_ 3.tdms\u001b[39m\u001b[38;5;124m\"\u001b[39m\n\u001b[0;32m      2\u001b[0m data \u001b[38;5;241m=\u001b[39m EC_Data(test_file_path)\n\u001b[1;32m----> 3\u001b[0m \u001b[43mdata\u001b[49m\u001b[38;5;241;43m.\u001b[39;49m\u001b[43mplot_rawdata\u001b[49m\u001b[43m(\u001b[49m\u001b[43m)\u001b[49m\n",
      "File \u001b[1;32mc:\\Users\\gusta\\Documents\\GitHub\\Arenz_Group_Python\\src\\arenz_group_python\\data_treatment\\ec_data.py:211\u001b[0m, in \u001b[0;36mEC_Data.plot_rawdata\u001b[1;34m(self)\u001b[0m\n\u001b[0;32m    209\u001b[0m \u001b[38;5;28;01mfor\u001b[39;00m x \u001b[38;5;129;01min\u001b[39;00m \u001b[38;5;28mself\u001b[39m\u001b[38;5;241m.\u001b[39mrawdata:\n\u001b[0;32m    210\u001b[0m     \u001b[38;5;28;01mtry\u001b[39;00m:\n\u001b[1;32m--> 211\u001b[0m          plot[index]\u001b[38;5;241m.\u001b[39mplot(\u001b[38;5;28mself\u001b[39m\u001b[38;5;241m.\u001b[39mrawdata[\u001b[38;5;124m'\u001b[39m\u001b[38;5;124mTime\u001b[39m\u001b[38;5;124m'\u001b[39m]\u001b[38;5;241m.\u001b[39mdata,\u001b[43mx\u001b[49m\u001b[38;5;241;43m.\u001b[39;49m\u001b[43mdata\u001b[49m)\n\u001b[0;32m    212\u001b[0m     \u001b[38;5;28;01mfinally\u001b[39;00m:\n\u001b[0;32m    213\u001b[0m         index \u001b[38;5;241m+\u001b[39m\u001b[38;5;241m=\u001b[39m\u001b[38;5;241m1\u001b[39m\n",
      "\u001b[1;31mAttributeError\u001b[0m: 'str' object has no attribute 'data'"
     ]
    },
    {
     "data": {
      "image/png": "[encoded data removed]",
      "text/plain": [
       "<Figure size 640x480 with 3 Axes>"
      ]
     },
     "metadata": {},
     "output_type": "display_data"
    }
   ],
   "source": [
    "test_file_path = nb_path / \"data\" / \"set1\" / \"CV_144913_ 3.tdms\"\n",
    "data = EC_Data(test_file_path)\n",
    "data.plot_rawdata()"
   ]
  },
  {
   "cell_type": "code",
   "execution_count": null,
   "metadata": {},
   "outputs": [],
   "source": [
    "fig = plt.figure()\n",
    "plt.suptitle(\"CV\")\n",
    "ax = fig.subplots(1)\n",
    "fig = plt.figure()\n",
    "plt.suptitle(\"CV\")\n",
    "ax2 = fig.subplots(1)\n",
    "test_file_path = nb_path / \"data\" / \"set1\" / \"CV_144913_ 3.tdms\"\n",
    "test_file_path2 = nb_path / \"data\" / \"set1\" / \"CV_153559_ 3.tdms\"\n",
    "#print(test_file_path)\n",
    "print(f\"path existits: {test_file_path.exists()}\")\n",
    "\n",
    "ec = EC_Data(test_file_path)\n",
    "ec2 = EC_Data(test_file_path2)\n",
    "a,b = ec.plot(\"E\",\"j\",plot=ax2, legend = \"aaadsfaJ\")\n",
    "print(\"lable:\" + b.get_label())\n",
    "print()\n",
    "ax2.legend()\n",
    "\n",
    "#ax2.legend([b],[\"aAAAA\"])\n",
    "\n",
    "print(ec.setup.keys())\n",
    "print(util.extract_value_unit(ec.setup[\"Electrode.Area\"]))\n",
    "\n",
    "cv_p = CV_Data()\n",
    "cv_p.convert(ec.Time, ec.E, ec.i,y_smooth=10)\n",
    "cv_n = CV_Data()\n",
    "cv_n.conv(ec)\n",
    "\n",
    "cv_p2 = CV_Data()\n",
    "cv_p2.convert(ec2.Time, ec2.E, ec2.i,y_smooth=10)\n",
    "cv_n2 = CV_Data()\n",
    "cv_n2.convert(ec2.Time, ec2.E, ec2.i,y_smooth=10)\n",
    "\n",
    "cv_p.plot(y_smooth = 2,   dir = \"all\")\n",
    "#cv_n.plot(y_smooth = 2, plot =ax)\n",
    "\n",
    "cv_avg = cv_p #+ cv_n\n",
    "cv_avg.add(cv_n)\n",
    "cv_avg.div(2)\n",
    "\n",
    "cv_avg.plot(y_smooth = 2, plot =ax)\n",
    "\n",
    "\n",
    "cv_p2.sub(cv_p)\n",
    "\n",
    "ec = EC_Data(test_file_path)\n",
    "\n",
    "cv_p2.plot(y_smooth = 2, plot =ax)\n",
    "\n",
    "cv_p2.norm(\"area\")\n",
    "cv_p2.plot(y_smooth = 2)\n",
    "\n",
    "print(cv_p2.get_i_at_E(-0.1, \"pos\"), \"pos\")\n",
    "type(cv_p2.get_i_at_E(-0.1))"
   ]
  },
  {
   "cell_type": "code",
   "execution_count": null,
   "metadata": {},
   "outputs": [],
   "source": [
    "fig = plt.figure()\n",
    "fig.set_figheight(5)\n",
    "fig.set_figwidth(10)\n",
    "plt.suptitle(\"Tafel Analysis\")\n",
    "CV_plot, Tafel_plot = fig.subplots(1,2)\n",
    "CV_plot.title.set_text('CVs')\n",
    "\n",
    "Tafel_plot.title.set_text('Tafel Plot')\n",
    "\n",
    "paths = []\n",
    "paths.append(nb_path / \"data\" / \"set1\" / \"CV_144913_ 3.tdms\")\n",
    "paths.append( nb_path / \"data\" / \"set1\" / \"CV_153559_ 3.tdms\")\n",
    "paths.append( nb_path / \"data\" / \"set1\" / \"CV_153541_ 3.tdms\")\n",
    "paths.append( nb_path / \"data\" / \"set1\" / \"CV_153333_ 3.tdms\")\n",
    "paths.append( nb_path / \"data\" / \"set1\" / \"CV_151300_ 3.tdms\")\n",
    "paths.append( nb_path / \"data\" / \"set1\" / \"CV_151725_ 3.tdms\")\n",
    "paths.append( nb_path / \"data\" / \"set1\" / \"CV_151512_ 3.tdms\")\n",
    "\n",
    "CV_datas = [EC_Data() for i in range(len(paths))]\n",
    "index=0\n",
    "for path in paths:\n",
    "    ec = EC_Data(path)\n",
    "    cv= CV_Data()\n",
    "    cv.conv(ec)\n",
    "    #CV_datas.append(cv)\n",
    "    CV_datas[index]=cv\n",
    "    index=index+1 \n",
    "print(index)\n",
    "\n",
    "rot=[]\n",
    "y = []\n",
    "E = []\n",
    "Epot=-0.5\n",
    "y_axis_title =\"\"\n",
    "for cv in CV_datas:\n",
    "    rot.append(math.sqrt(cv._rotation))\n",
    "   \n",
    "    cv.norm(\"area\")\n",
    "    cv.plot(plot = CV_plot, legend = cv._rotation)\n",
    "    y.append(cv.get_i_at_E(Epot))\n",
    "    E.append([Epot, Epot])\n",
    "    y_axis_title= cv.i_label\n",
    "    #print(cv.setup)\n",
    "#print(rot)\n",
    "rot = np.array(rot)\n",
    "y = np.array(y)\n",
    "CV_plot.plot(E,y, \"o\")\n",
    "CV_plot.legend()\n",
    "print(rot)\n",
    "print(y[:,0])\n",
    "\n",
    "Tafel_plot.plot(rot,y,'o')\n",
    "\n",
    "Tafel_plot.set_xlabel(\"rotation$^{0.5}$\")\n",
    "Tafel_plot.set_ylabel(y_axis_title)\n",
    "m, b = np.polyfit(rot, y[:,0], 1)\n",
    "y_pos= m*rot+b\n",
    "line,=Tafel_plot.plot(rot,y_pos,'-' )\n",
    "line.set_label(f\"pos: m={m:3.3e}\")\n",
    "m, b = np.polyfit(rot, y[:,1], 1)\n",
    "y_neg= m*rot+b\n",
    "line,=Tafel_plot.plot(rot,y_neg,'-' )\n",
    "line.set_label(f\"neg: m={m:3.3e}\")\n",
    "Tafel_plot.legend()\n"
   ]
  },
  {
   "cell_type": "code",
   "execution_count": null,
   "metadata": {},
   "outputs": [],
   "source": [
    "#data import from tdms-file:\n",
    "\n",
    "test_file_path = nb_path \n",
    "#data in the folder, e.g.\n",
    "tdms_file = TdmsFile.read(\"data/Steps_102346.tdms\")\n",
    "tdms_file_groups = tdms_file.groups()\n",
    "tdms_file_df = tdms_file.as_dataframe()\n",
    "\n",
    "di = tdms_file.properties\n",
    "print(di)\n",
    "print(\"File\")\n",
    "print(tdms_file.properties['name'])\n",
    "print(\"proper\")\n",
    "for key, value in di.items():\n",
    "    print(key, value)\n",
    "#for key, value in tdms_file.properties().items():\n",
    "#    print(key, value)\n",
    "\n",
    "\n",
    "# grab the columns in the file\n",
    "tdms_file_groupEC_i_file0s50mV = tdms_file_groups[0]['i']\n",
    "tdms_file_groupEC_t_file0s50mV = tdms_file_groups[0]['Time']\n",
    "tdms_file_groupEC_E_file0s50mV = tdms_file_groups[0]['E']\n",
    "tdms_file_groupEC_R_file0s50mV = tdms_file_groups[0]['Z_E']\n",
    "\n",
    "# rename and create a numpy-array with the data\n",
    "current_file0s50mV = tdms_file_groupEC_i_file0s50mV.data\n",
    "time_file0s50mV = tdms_file_groupEC_t_file0s50mV.data\n",
    "potential_file0s50mV = tdms_file_groupEC_E_file0s50mV.data\n",
    "resistivity_file0s50mV = tdms_file_groupEC_R_file0s50mV.data\n",
    "\n",
    "#check if it worked, e.g.:\n",
    "print(current_file0s50mV)\n",
    "\n",
    "\n",
    "# function\n",
    "def displayText(path_to_TDMS_EC_data):\n",
    "    print( \"Geeks 4 Geeks !\")"
   ]
  },
  {
   "cell_type": "code",
   "execution_count": null,
   "metadata": {},
   "outputs": [],
   "source": [
    "test_file_path = pathlib.PureWindowsPath('c:\\temp\\Steps_134427.tdms')\n",
    "#print(test_file_path)pathlib.PureWindowsPath\n",
    "#print(f\"path existits: {test_file_path.exists()}\")\n",
    "\n",
    "test_dataSet = EC_Data(\"c:/temp/Steps_134427.tdms\")\n",
    "test_dataSet.plot(\"Time\",\"R_E\")\n",
    "test_dataSet.plot(\"Time\",\"Z_E\")\n",
    "test_dataSet.plot(\"Time\",\"j\")\n",
    "\n",
    "test_dataSet.plot(\"Time\",\"E\")\n",
    "test_dataSet.plot(\"Time\",\"E-IR\")\n",
    "test_dataSet.plot(\"Time\",\"E-IZ\")"
   ]
  },
  {
   "cell_type": "code",
   "execution_count": null,
   "metadata": {},
   "outputs": [],
   "source": [
    "\n",
    "test_dataSet.plot(\"Time\",\"E\")\n",
    "test_dataSet.plot(\"Time\",\"E-IR\")\n",
    "test_dataSet.plot(\"Time\",\"E-IZ\")"
   ]
  },
  {
   "cell_type": "code",
   "execution_count": null,
   "metadata": {},
   "outputs": [],
   "source": [
    "np.savetxt('data.csv', [test_dataSet.Time, test_dataSet.E, test_dataSet.i,test_dataSet.Z_E], delimiter=';', header=\"Time;E;i;Z_E;\",fmt=[\"%2.4f\",\" %2.3f\",\" %1.4e\", \"%1.4e\"])"
   ]
  },
  {
   "cell_type": "code",
   "execution_count": null,
   "metadata": {},
   "outputs": [],
   "source": [
    "E_iz,a,b=test_dataSet.get_channel(\"E-IZ\")\n",
    "E_ir,a,b=test_dataSet.get_channel(\"E-IZ\")\n",
    "print(f\"Phase_E: {len(test_dataSet.Phase_E)}\")\n",
    "E_iz,a,b=test_dataSet.get_channel(\"E-IZ\")\n",
    "print(f\"E-IZ: {len(E_iz)}\")\n",
    "print(f\"E-IZ: {len(E_ir)}\")\n",
    "data_arr= [test_dataSet.Time, test_dataSet.E, test_dataSet.i,test_dataSet.Z_E,test_dataSet.Phase_E ,E_iz, E_ir]\n",
    "\n",
    "maxIndex = math.floor(len(E_ir) / 10)\n",
    "print(f\"maxindex: {maxIndex}\")\n",
    "data_r = np.ndarray(shape=(maxIndex), dtype=float, order='F')\n",
    "data_red =[data_r, data_r, data_r, data_r, data_r, data_r]\n",
    "print(data_red)\n",
    "print(data_arr)\n",
    "\n",
    "data_i = np.ndarray(shape=(maxIndex), dtype=np.dtype(np.int64), order='F')\n",
    "r_Time = np.ndarray(shape=(maxIndex), dtype=float, order='F')\n",
    "r_E = np.ndarray(shape=(maxIndex), dtype=float, order='F')\n",
    "r_i = np.ndarray(shape=(maxIndex), dtype=float, order='F')\n",
    "r_Z = np.ndarray(shape=(maxIndex), dtype=float, order='F')\n",
    "r_p = np.ndarray(shape=(maxIndex), dtype=float, order='F')\n",
    "r_Eiz = np.ndarray(shape=(maxIndex), dtype=float, order='F')\n",
    "r_Eir = np.ndarray(shape=(maxIndex), dtype=float, order='F')\n",
    "for x in range(maxIndex):\n",
    "    r_Time[x] = test_dataSet.Time[x*10]\n",
    "    r_E[x] = test_dataSet.E[x*10]\n",
    "    r_i[x] = test_dataSet.i[x*10]\n",
    "    r_Z[x] = test_dataSet.Z_E[x*10]\n",
    "    r_p[x] = test_dataSet.Phase_E[x*10]\n",
    "    r_Eiz[x] = E_iz[x*10]\n",
    "    r_Eir[x] = E_ir[x*10]\n",
    "\n",
    "print(\"time\")\n",
    "print(r_Time[range(5)])\n",
    "data_red = np.ndarray(shape=(6, maxIndex), dtype=float, order='F')\n",
    "data_red2 =[r_Time, r_E, r_i, r_Z,r_p, r_Eiz, r_Eir]\n",
    "data_red[0]=r_Time\n",
    "data_red[1]=r_E\n",
    "data_red[2]=r_i\n",
    "data_red[3]=r_Z\n",
    "data_red[4]=r_p\n",
    "print(\"time\")\n",
    "print(data_red)\n",
    "\n",
    "data_red_t = np.transpose(data_red2)\n",
    "\n",
    "print(data_red_t)\n",
    "\n",
    " "
   ]
  },
  {
   "cell_type": "code",
   "execution_count": null,
   "metadata": {},
   "outputs": [],
   "source": [
    "\n",
    "\n",
    "FormatOfwrite = [\"%2.2f\",\" %2.3f\",\" %1.4e\", \"%1.4e\", \"%1.4e\", \"%1.4e\",\"%1.4e\"]\n",
    "#print(data_arr.dim())\n",
    "\n",
    "data_arr_t = np.transpose(data_red)\n",
    "np.savetxt(str(f'{test_dataSet.name}.csv'), data_red_t, delimiter=';\\t', header=\"Time;\\tE;\\ti;Z_E;\\tPhase_E;\\tE-i*Z; \\tE-i*R\", fmt=FormatOfwrite)"
   ]
  },
  {
   "cell_type": "markdown",
   "metadata": {},
   "source": [
    "test_file_path = pathlib.PureWindowsPath('c:\\temp\\Steps_134427.tdms')\n",
    "#print(test_file_path)pathlib.PureWindowsPath\n",
    "#print(f\"path existits: {test_file_path.exists()}\")\n",
    "\n",
    "test_dataSet = EC_Data(\"c:/temp/Steps_134427.tdms\")\n",
    "test_dataSet.plot(\"E\",\"t\")"
   ]
  }
 ],
 "metadata": {
  "kernelspec": {
   "display_name": "Python 3",
   "language": "python",
   "name": "python3"
  },
  "language_info": {
   "codemirror_mode": {
    "name": "ipython",
    "version": 3
   },
   "file_extension": ".py",
   "mimetype": "text/x-python",
   "name": "python",
   "nbconvert_exporter": "python",
   "pygments_lexer": "ipython3",
   "version": "3.11.5"
  }
 },
 "nbformat": 4,
 "nbformat_minor": 2
}
