{
 "cells": [
  {
   "cell_type": "code",
   "execution_count": 2,
   "metadata": {},
   "outputs": [
    {
     "name": "stdout",
     "output_type": "stream",
     "text": [
      "'pandas' has been imported\n",
      "'numpy' already in sys.modules\n",
      "'nptdms' has been imported\n",
      "'matplotlib' has been imported\n",
      "'pathlib' already in sys.modules\n"
     ]
    }
   ],
   "source": [
    "import importlib.util\n",
    "import sys\n",
    "\n",
    "# Required packages\n",
    "req_packages = [\"pandas\",\"numpy\",\"nptdms\",\"matplotlib\",\"pathlib\"]\n",
    "\n",
    "#Install\n",
    "\n",
    "for name in req_packages:\n",
    "#name = 'pandas'\n",
    "\n",
    "    if name in sys.modules:\n",
    "        print(f\"{name!r} already in sys.modules\")\n",
    "    elif (spec := importlib.util.find_spec(name)) is not None:\n",
    "        # If you choose to perform the actual import ...\n",
    "        module = importlib.util.module_from_spec(spec)\n",
    "        sys.modules[name] = module\n",
    "        spec.loader.exec_module(module)\n",
    "        print(f\"{name!r} has been imported\")\n",
    "    else:\n",
    "        print(f\"can't find the {name!r} module\")"
   ]
  },
  {
   "cell_type": "code",
   "execution_count": 4,
   "metadata": {},
   "outputs": [
    {
     "name": "stdout",
     "output_type": "stream",
     "text": [
      "[]\n"
     ]
    }
   ],
   "source": [
    "from setuptools import setup, find_packages\n",
    "print(find_packages(\"src\"))"
   ]
  },
  {
   "cell_type": "code",
   "execution_count": null,
   "metadata": {},
   "outputs": [],
   "source": []
  }
 ],
 "metadata": {
  "kernelspec": {
   "display_name": "Python 3",
   "language": "python",
   "name": "python3"
  },
  "language_info": {
   "codemirror_mode": {
    "name": "ipython",
    "version": 3
   },
   "file_extension": ".py",
   "mimetype": "text/x-python",
   "name": "python",
   "nbconvert_exporter": "python",
   "pygments_lexer": "ipython3",
   "version": "3.11.5"
  }
 },
 "nbformat": 4,
 "nbformat_minor": 2
}
