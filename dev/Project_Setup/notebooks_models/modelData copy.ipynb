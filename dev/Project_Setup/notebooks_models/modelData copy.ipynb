{
 "cells": [
  {
   "cell_type": "code",
   "execution_count": 3,
   "metadata": {},
   "outputs": [
    {
     "name": "stdout",
     "output_type": "stream",
     "text": [
      "c:\\Users\\gusta\\Documents\\GitHub\\Arenz_Group_Python\\dev\\Project_Setup\\notebooks_models\n",
      "c:\\Users\\gusta\\Documents\\GitHub\\Arenz_Group_Python\\dev\\Project_Setup\\notebooks_models\n",
      "+\".env\" was created\n"
     ]
    }
   ],
   "source": [
    "from arenz_group_python.project.make_files import make_env_file\n",
    "from arenz_group_python import Project_Paths\n",
    "from pathlib import Path\n",
    "print(Path.cwd())\n",
    "print(Project_Paths().cwd)\n",
    "make_env_file(Project_Paths().cwd)"
   ]
  }
 ],
 "metadata": {
  "kernelspec": {
   "display_name": ".venv",
   "language": "python",
   "name": "python3"
  },
  "language_info": {
   "codemirror_mode": {
    "name": "ipython",
    "version": 3
   },
   "file_extension": ".py",
   "mimetype": "text/x-python",
   "name": "python",
   "nbconvert_exporter": "python",
   "pygments_lexer": "ipython3",
   "version": "3.12.1"
  }
 },
 "nbformat": 4,
 "nbformat_minor": 2
}
