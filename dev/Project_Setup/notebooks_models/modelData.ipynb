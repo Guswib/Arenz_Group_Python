{
 "cells": [
  {
   "cell_type": "code",
   "execution_count": null,
   "metadata": {},
   "outputs": [],
   "source": [
    "from arenz_group_python import Project_Paths\n",
    "\n",
    "pp = Project_Paths()\n",
    "project_name = 'projectname'\n",
    "user_initials = '' #This is optional, but it can speed up things\n",
    "path_to_server = 'X:/EXP_DB'\n",
    "pp.copyDirs(path_to_server, user_initials , project_name )"
   ]
  }
 ],
 "metadata": {
  "language_info": {
   "name": "python"
  }
 },
 "nbformat": 4,
 "nbformat_minor": 2
}
