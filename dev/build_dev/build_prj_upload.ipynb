{
 "cells": [
  {
   "cell_type": "markdown",
   "metadata": {},
   "source": [
    "# Upload to pyli\n",
    "\n",
    "Once you have an account you can upload your distributions to PyPI using twine.\n",
    "\n",
    "The process for uploading a release is the same regardless of whether or not the project already exists on PyPI - if it doesn’t exist yet, it will be automatically created when the first release is uploaded.\n",
    "\n",
    "For the second and subsequent releases, PyPI only requires that the version number of the new release differ from any previous releases."
   ]
  },
  {
   "cell_type": "code",
   "execution_count": 1,
   "metadata": {},
   "outputs": [],
   "source": [
    "\n",
    "from pathlib import Path\n",
    "p_prj = Path(\".\").cwd().parent.parent\n",
    "p=p_prj/ \"dist\" / \"*\"\n",
    "p_conf=p_prj / \".pypirc\""
   ]
  },
  {
   "cell_type": "code",
   "execution_count": 2,
   "metadata": {},
   "outputs": [],
   "source": [
    "!twine upload {p} --config-file {p_conf}"
   ]
  }
 ],
 "metadata": {
  "kernelspec": {
   "display_name": "Python 3",
   "language": "python",
   "name": "python3"
  },
  "language_info": {
   "codemirror_mode": {
    "name": "ipython",
    "version": 3
   },
   "file_extension": ".py",
   "mimetype": "text/x-python",
   "name": "python",
   "nbconvert_exporter": "python",
   "pygments_lexer": "ipython3",
   "version": "3.11.5"
  }
 },
 "nbformat": 4,
 "nbformat_minor": 2
}
