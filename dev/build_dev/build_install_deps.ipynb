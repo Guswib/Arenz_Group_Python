{
 "cells": [
  {
   "cell_type": "markdown",
   "metadata": {},
   "source": [
    "# General installation from github\n",
    "pip install \"Package\" @ git+\"URL of the repository#subdirectory=path\"\n",
    "\n",
    "Here, we want to install Arenz_Group Python package."
   ]
  },
  {
   "cell_type": "code",
   "execution_count": 4,
   "metadata": {},
   "outputs": [
    {
     "name": "stdout",
     "output_type": "stream",
     "text": [
      "Requirement already satisfied: pip in c:\\users\\gustav.wiberg\\documents\\github\\python\\arenz_group_python\\.venv\\lib\\site-packages (24.1.1)Note: you may need to restart the kernel to use updated packages.\n",
      "\n",
      "Collecting pip\n",
      "  Downloading pip-24.2-py3-none-any.whl.metadata (3.6 kB)\n",
      "Downloading pip-24.2-py3-none-any.whl (1.8 MB)\n",
      "   ---------------------------------------- 0.0/1.8 MB ? eta -:--:--\n",
      "   ----------- ---------------------------- 0.5/1.8 MB 10.9 MB/s eta 0:00:01\n",
      "   ----------------------- ---------------- 1.1/1.8 MB 11.3 MB/s eta 0:00:01\n",
      "   ----------------------------------- ---- 1.6/1.8 MB 11.4 MB/s eta 0:00:01\n",
      "   ---------------------------------------- 1.8/1.8 MB 11.6 MB/s eta 0:00:00\n",
      "Installing collected packages: pip\n",
      "  Attempting uninstall: pip\n",
      "    Found existing installation: pip 24.1.1\n",
      "    Uninstalling pip-24.1.1:\n",
      "      Successfully uninstalled pip-24.1.1\n",
      "Successfully installed pip-24.2\n",
      "Requirement already satisfied: toml in c:\\users\\gustav.wiberg\\documents\\github\\python\\arenz_group_python\\.venv\\lib\\site-packages (0.10.2)\n",
      "Note: you may need to restart the kernel to use updated packages.\n"
     ]
    }
   ],
   "source": [
    "%pip install --upgrade pip\n",
    "%pip install toml"
   ]
  },
  {
   "cell_type": "code",
   "execution_count": 1,
   "metadata": {},
   "outputs": [
    {
     "name": "stdout",
     "output_type": "stream",
     "text": [
      "Collecting twine\n",
      "  Using cached twine-5.1.1-py3-none-any.whl.metadata (3.5 kB)\n",
      "Collecting pkginfo>=1.8.1 (from twine)\n",
      "  Using cached pkginfo-1.11.1-py3-none-any.whl.metadata (11 kB)\n",
      "Collecting readme-renderer>=35.0 (from twine)\n",
      "  Using cached readme_renderer-44.0-py3-none-any.whl.metadata (2.8 kB)\n",
      "Collecting requests>=2.20 (from twine)\n",
      "  Using cached requests-2.32.3-py3-none-any.whl.metadata (4.6 kB)\n",
      "Collecting requests-toolbelt!=0.9.0,>=0.8.0 (from twine)\n",
      "  Using cached requests_toolbelt-1.0.0-py2.py3-none-any.whl.metadata (14 kB)\n",
      "Collecting urllib3>=1.26.0 (from twine)\n",
      "  Using cached urllib3-2.2.2-py3-none-any.whl.metadata (6.4 kB)\n",
      "Collecting importlib-metadata>=3.6 (from twine)\n",
      "  Downloading importlib_metadata-8.4.0-py3-none-any.whl.metadata (4.7 kB)\n",
      "Collecting keyring>=15.1 (from twine)\n",
      "  Using cached keyring-25.3.0-py3-none-any.whl.metadata (20 kB)\n",
      "Collecting rfc3986>=1.4.0 (from twine)\n",
      "  Using cached rfc3986-2.0.0-py2.py3-none-any.whl.metadata (6.6 kB)\n",
      "Collecting rich>=12.0.0 (from twine)\n",
      "  Downloading rich-13.8.0-py3-none-any.whl.metadata (18 kB)\n",
      "Collecting pkginfo>=1.8.1 (from twine)\n",
      "  Using cached pkginfo-1.10.0-py3-none-any.whl.metadata (11 kB)\n",
      "Collecting zipp>=0.5 (from importlib-metadata>=3.6->twine)\n",
      "  Downloading zipp-3.20.1-py3-none-any.whl.metadata (3.7 kB)\n",
      "Collecting jaraco.classes (from keyring>=15.1->twine)\n",
      "  Using cached jaraco.classes-3.4.0-py3-none-any.whl.metadata (2.6 kB)\n",
      "Collecting jaraco.functools (from keyring>=15.1->twine)\n",
      "  Using cached jaraco.functools-4.0.2-py3-none-any.whl.metadata (2.8 kB)\n",
      "Collecting jaraco.context (from keyring>=15.1->twine)\n",
      "  Using cached jaraco.context-6.0.1-py3-none-any.whl.metadata (4.1 kB)\n",
      "Collecting pywin32-ctypes>=0.2.0 (from keyring>=15.1->twine)\n",
      "  Using cached pywin32_ctypes-0.2.3-py3-none-any.whl.metadata (3.9 kB)\n",
      "Collecting nh3>=0.2.14 (from readme-renderer>=35.0->twine)\n",
      "  Using cached nh3-0.2.18-cp37-abi3-win_amd64.whl.metadata (1.8 kB)\n",
      "Collecting docutils>=0.21.2 (from readme-renderer>=35.0->twine)\n",
      "  Using cached docutils-0.21.2-py3-none-any.whl.metadata (2.8 kB)\n",
      "Requirement already satisfied: Pygments>=2.5.1 in c:\\users\\gustav.wiberg\\documents\\github\\python\\arenz_group_python\\.venv\\lib\\site-packages (from readme-renderer>=35.0->twine) (2.18.0)\n",
      "Collecting charset-normalizer<4,>=2 (from requests>=2.20->twine)\n",
      "  Downloading charset_normalizer-3.3.2-cp311-cp311-win_amd64.whl.metadata (34 kB)\n",
      "Collecting idna<4,>=2.5 (from requests>=2.20->twine)\n",
      "  Downloading idna-3.8-py3-none-any.whl.metadata (9.9 kB)\n",
      "Collecting certifi>=2017.4.17 (from requests>=2.20->twine)\n",
      "  Downloading certifi-2024.8.30-py3-none-any.whl.metadata (2.2 kB)\n",
      "Collecting markdown-it-py>=2.2.0 (from rich>=12.0.0->twine)\n",
      "  Using cached markdown_it_py-3.0.0-py3-none-any.whl.metadata (6.9 kB)\n",
      "Collecting mdurl~=0.1 (from markdown-it-py>=2.2.0->rich>=12.0.0->twine)\n",
      "  Using cached mdurl-0.1.2-py3-none-any.whl.metadata (1.6 kB)\n",
      "Collecting more-itertools (from jaraco.classes->keyring>=15.1->twine)\n",
      "  Using cached more_itertools-10.4.0-py3-none-any.whl.metadata (36 kB)\n",
      "Collecting backports.tarfile (from jaraco.context->keyring>=15.1->twine)\n",
      "  Downloading backports.tarfile-1.2.0-py3-none-any.whl.metadata (2.0 kB)\n",
      "Using cached twine-5.1.1-py3-none-any.whl (38 kB)\n",
      "Downloading importlib_metadata-8.4.0-py3-none-any.whl (26 kB)\n",
      "Using cached keyring-25.3.0-py3-none-any.whl (38 kB)\n",
      "Using cached pkginfo-1.10.0-py3-none-any.whl (30 kB)\n",
      "Using cached readme_renderer-44.0-py3-none-any.whl (13 kB)\n",
      "Using cached requests-2.32.3-py3-none-any.whl (64 kB)\n",
      "Using cached requests_toolbelt-1.0.0-py2.py3-none-any.whl (54 kB)\n",
      "Using cached rfc3986-2.0.0-py2.py3-none-any.whl (31 kB)\n",
      "Downloading rich-13.8.0-py3-none-any.whl (241 kB)\n",
      "   ---------------------------------------- 0.0/241.6 kB ? eta -:--:--\n",
      "   --------------------------------------- 241.6/241.6 kB 14.5 MB/s eta 0:00:00\n",
      "Using cached urllib3-2.2.2-py3-none-any.whl (121 kB)\n",
      "Downloading certifi-2024.8.30-py3-none-any.whl (167 kB)\n",
      "   ---------------------------------------- 0.0/167.3 kB ? eta -:--:--\n",
      "   ---------------------------------------- 167.3/167.3 kB 9.8 MB/s eta 0:00:00\n",
      "Downloading charset_normalizer-3.3.2-cp311-cp311-win_amd64.whl (99 kB)\n",
      "   ---------------------------------------- 0.0/99.9 kB ? eta -:--:--\n",
      "   ---------------------------------------- 99.9/99.9 kB 6.0 MB/s eta 0:00:00\n",
      "Using cached docutils-0.21.2-py3-none-any.whl (587 kB)\n",
      "Downloading idna-3.8-py3-none-any.whl (66 kB)\n",
      "   ---------------------------------------- 0.0/66.9 kB ? eta -:--:--\n",
      "   ---------------------------------------- 66.9/66.9 kB ? eta 0:00:00\n",
      "Using cached markdown_it_py-3.0.0-py3-none-any.whl (87 kB)\n",
      "Using cached nh3-0.2.18-cp37-abi3-win_amd64.whl (579 kB)\n",
      "Using cached pywin32_ctypes-0.2.3-py3-none-any.whl (30 kB)\n",
      "Downloading zipp-3.20.1-py3-none-any.whl (9.0 kB)\n",
      "Using cached jaraco.classes-3.4.0-py3-none-any.whl (6.8 kB)\n",
      "Using cached jaraco.context-6.0.1-py3-none-any.whl (6.8 kB)\n",
      "Using cached jaraco.functools-4.0.2-py3-none-any.whl (9.9 kB)\n",
      "Using cached mdurl-0.1.2-py3-none-any.whl (10.0 kB)\n",
      "Downloading backports.tarfile-1.2.0-py3-none-any.whl (30 kB)\n",
      "Using cached more_itertools-10.4.0-py3-none-any.whl (60 kB)\n",
      "Installing collected packages: nh3, zipp, urllib3, rfc3986, pywin32-ctypes, pkginfo, more-itertools, mdurl, idna, docutils, charset-normalizer, certifi, backports.tarfile, requests, readme-renderer, markdown-it-py, jaraco.functools, jaraco.context, jaraco.classes, importlib-metadata, rich, requests-toolbelt, keyring, twine\n",
      "Successfully installed backports.tarfile-1.2.0 certifi-2024.8.30 charset-normalizer-3.3.2 docutils-0.21.2 idna-3.8 importlib-metadata-8.4.0 jaraco.classes-3.4.0 jaraco.context-6.0.1 jaraco.functools-4.0.2 keyring-25.3.0 markdown-it-py-3.0.0 mdurl-0.1.2 more-itertools-10.4.0 nh3-0.2.18 pkginfo-1.10.0 pywin32-ctypes-0.2.3 readme-renderer-44.0 requests-2.32.3 requests-toolbelt-1.0.0 rfc3986-2.0.0 rich-13.8.0 twine-5.1.1 urllib3-2.2.2 zipp-3.20.1\n",
      "Note: you may need to restart the kernel to use updated packages.\n"
     ]
    },
    {
     "name": "stderr",
     "output_type": "stream",
     "text": [
      "\n",
      "[notice] A new release of pip is available: 24.1.1 -> 24.2\n",
      "[notice] To update, run: python.exe -m pip install --upgrade pip\n"
     ]
    }
   ],
   "source": [
    "%pip install twine"
   ]
  }
 ],
 "metadata": {
  "kernelspec": {
   "display_name": "Python 3",
   "language": "python",
   "name": "python3"
  },
  "language_info": {
   "codemirror_mode": {
    "name": "ipython",
    "version": 3
   },
   "file_extension": ".py",
   "mimetype": "text/x-python",
   "name": "python",
   "nbconvert_exporter": "python",
   "pygments_lexer": "ipython3",
   "version": "3.11.5"
  }
 },
 "nbformat": 4,
 "nbformat_minor": 2
}
