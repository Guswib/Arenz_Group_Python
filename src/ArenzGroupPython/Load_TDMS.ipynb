{
 "cells": [
  {
   "cell_type": "code",
   "execution_count": 1,
   "metadata": {},
   "outputs": [],
   "source": [
    "import numpy as np\n",
    "import pandas as pd\n",
    "import matplotlib.pyplot as plt\n",
    "from nptdms import TdmsFile\n",
    "from pathlib import Path\n",
    "import os\n",
    "# importing sys\n",
    "import sys"
   ]
  },
  {
   "cell_type": "code",
   "execution_count": 2,
   "metadata": {},
   "outputs": [
    {
     "name": "stdout",
     "output_type": "stream",
     "text": [
      "Get current working directory :  c:\\Users\\gustav.wiberg\\Documents\\GitHub\\Python\\Arenz_Group_Python\\src\\ArenzGroupPython\n"
     ]
    }
   ],
   "source": [
    "print('Get current working directory : ', os.getcwd())\n",
    "nb_path = Path.cwd()\n",
    "pack_path = nb_path.parent / 'src'/ 'ArenzGroupPython'\n",
    "\n",
    "#C:\\Users\\gustav.wiberg\\Documents\\GitHub\\Python\\Arenz_Group_Python\\src\\ArenzGroupPython\n",
    "f = pack_path.glob('**/*')\n",
    "for x in f:\n",
    "    print(x)\n",
    "\n",
    "\n",
    "# adding Folder_2/subfolder to the system path\n",
    "sys.path.insert(0, pack_path)\n",
    "\n",
    "# importing the hello\n",
    "#from EC_data \n",
    "#import EC_data\n"
   ]
  },
  {
   "cell_type": "code",
   "execution_count": 3,
   "metadata": {},
   "outputs": [
    {
     "name": "stdout",
     "output_type": "stream",
     "text": [
      "c:\\Users\\gustav.wiberg\\Documents\\GitHub\\Python\\Arenz_Group_Python\\src\\src\\ArenzGroupPython\n"
     ]
    }
   ],
   "source": [
    "str_path = str(pack_path)\n",
    "#sys.path.append(\"C:/Users/gustav.wiberg/Documents/GitHub/Python/Arenz_Group_Python/src/ArenzGroupPython\")\n",
    "print(str_path)\n",
    "sys.path.append(str_path)\n",
    "#import ec_data\n",
    "#ec_data.reload()\n",
    "from ec_data import EC_Data\n",
    "\n"
   ]
  },
  {
   "cell_type": "code",
   "execution_count": 4,
   "metadata": {},
   "outputs": [
    {
     "name": "stdout",
     "output_type": "stream",
     "text": [
      "c:\\Users\\gustav.wiberg\\Documents\\GitHub\\Python\\Arenz_Group_Python\\tests\\data\\Steps_102346.tdms\n",
      "True\n"
     ]
    },
    {
     "ename": "TypeError",
     "evalue": "list indices must be integers or slices, not str",
     "output_type": "error",
     "traceback": [
      "\u001b[1;31m---------------------------------------------------------------------------\u001b[0m",
      "\u001b[1;31mTypeError\u001b[0m                                 Traceback (most recent call last)",
      "Cell \u001b[1;32mIn[4], line 5\u001b[0m\n\u001b[0;32m      3\u001b[0m \u001b[38;5;28mprint\u001b[39m(test_file_path\u001b[38;5;241m.\u001b[39mexists())\n\u001b[0;32m      4\u001b[0m \u001b[38;5;66;03m#data in the folder, e.g.\u001b[39;00m\n\u001b[1;32m----> 5\u001b[0m test_dataSet \u001b[38;5;241m=\u001b[39m \u001b[43mEC_Data\u001b[49m\u001b[43m(\u001b[49m\u001b[43mtest_file_path\u001b[49m\u001b[43m)\u001b[49m\n",
      "File \u001b[1;32mc:\\Users\\gustav.wiberg\\Documents\\GitHub\\Python\\Arenz_Group_Python\\src\\ArenzGroupPython\\ec_data.py:11\u001b[0m, in \u001b[0;36mEC_Data.__init__\u001b[1;34m(self, path)\u001b[0m\n\u001b[0;32m      9\u001b[0m \u001b[38;5;28mself\u001b[39m\u001b[38;5;241m.\u001b[39mpath \u001b[38;5;241m=\u001b[39m \u001b[38;5;28mstr\u001b[39m(path)\n\u001b[0;32m     10\u001b[0m \u001b[38;5;28mself\u001b[39m\u001b[38;5;241m.\u001b[39mTime \u001b[38;5;241m=\u001b[39m tdms_file_groups[\u001b[38;5;241m0\u001b[39m][\u001b[38;5;124m'\u001b[39m\u001b[38;5;124mTime\u001b[39m\u001b[38;5;124m'\u001b[39m]\u001b[38;5;241m.\u001b[39mdata\n\u001b[1;32m---> 11\u001b[0m \u001b[38;5;28mself\u001b[39m\u001b[38;5;241m.\u001b[39mi \u001b[38;5;241m=\u001b[39m \u001b[43mtdms_file_groups\u001b[49m\u001b[43m[\u001b[49m\u001b[38;5;124;43m'\u001b[39;49m\u001b[38;5;124;43mEC\u001b[39;49m\u001b[38;5;124;43m'\u001b[39;49m\u001b[43m]\u001b[49m[\u001b[38;5;124m'\u001b[39m\u001b[38;5;124mi\u001b[39m\u001b[38;5;124m'\u001b[39m]\u001b[38;5;241m.\u001b[39mdata\n\u001b[0;32m     12\u001b[0m \u001b[38;5;28mself\u001b[39m\u001b[38;5;241m.\u001b[39mE \u001b[38;5;241m=\u001b[39m tdms_file_groups[\u001b[38;5;124m'\u001b[39m\u001b[38;5;124mEC\u001b[39m\u001b[38;5;124m'\u001b[39m][\u001b[38;5;124m'\u001b[39m\u001b[38;5;124mE\u001b[39m\u001b[38;5;124m'\u001b[39m]\u001b[38;5;241m.\u001b[39mdata\n\u001b[0;32m     13\u001b[0m \u001b[38;5;28mself\u001b[39m\u001b[38;5;241m.\u001b[39mname \u001b[38;5;241m=\u001b[39m tdms_file\u001b[38;5;241m.\u001b[39mproperties[\u001b[38;5;124m'\u001b[39m\u001b[38;5;124mname\u001b[39m\u001b[38;5;124m'\u001b[39m]\n",
      "\u001b[1;31mTypeError\u001b[0m: list indices must be integers or slices, not str"
     ]
    }
   ],
   "source": [
    "test_file_path = nb_path.parent.parent / 'tests' / 'data'/ 'Steps_102346.tdms'\n",
    "print(test_file_path)\n",
    "print(test_file_path.exists())\n",
    "#data in the folder, e.g.\n",
    "test_dataSet = EC_Data(test_file_path)"
   ]
  },
  {
   "cell_type": "code",
   "execution_count": null,
   "metadata": {},
   "outputs": [
    {
     "name": "stdout",
     "output_type": "stream",
     "text": [
      "OrderedDict([('name', 'Steps_102346'), ('Author', 'Zahra'), ('dateTime', numpy.datetime64('2023-09-14T08:23:46.759740')), ('dateTime(local time)', '2023-09-14 10:23:46.759 (GMT2)'), ('Title', 'EC4 DAQ Data File'), ('Description', 'This is a data file generated by EC4 DAQ'), ('PotentiostatType', 'Single'), ('PotentiostatAddOn', 'SWE')])\n",
      "File\n",
      "Steps_102346\n",
      "proper\n",
      "name Steps_102346\n",
      "Author Zahra\n",
      "dateTime 2023-09-14T08:23:46.759740\n",
      "dateTime(local time) 2023-09-14 10:23:46.759 (GMT2)\n",
      "Title EC4 DAQ Data File\n",
      "Description This is a data file generated by EC4 DAQ\n",
      "PotentiostatType Single\n",
      "PotentiostatAddOn SWE\n",
      "[15.847611 16.624392 16.950584 16.9443   16.942226 16.943878 16.945587\n",
      " 16.95111  16.94917  16.945236 16.950302 16.945389 16.945179 16.942831\n",
      " 16.943993 16.95038  16.94652  16.944551 16.943066 16.945429 16.945261\n",
      " 16.945368 16.945742 16.943792 16.94656  16.943192 16.947432 16.944065\n",
      " 16.944963 16.943758 16.947475 16.945644 16.945553 16.945438 16.946281\n",
      " 16.949127 16.944056 16.949541 16.946938 16.942926 16.946592 16.94462\n",
      " 16.948936 16.944956 16.945934 16.94634  16.943321 16.946047 16.948133\n",
      " 16.9474   16.94599  16.947645 16.945852 16.946878 16.947456 16.944849\n",
      " 16.943537 16.947542 16.94774  16.9425   16.945543 16.945322 16.947008\n",
      " 16.94935  16.945791 16.943306 16.947536 16.944893 16.945923 16.94769\n",
      " 16.942017 16.94534  16.949484 16.945438 16.951033 16.941177 16.944674\n",
      " 16.945318 16.943895 16.94566  16.9457   16.946512 16.942461 16.945282\n",
      " 16.94515  16.94376  16.946709 16.943485 16.947252 16.946718 16.948917\n",
      " 16.943125 16.947662 16.947742 16.946012 16.949203 16.944242 16.947273\n",
      " 16.945051 16.944489 16.944914 16.944633 16.94497  16.945526 16.944054\n",
      " 16.945572 16.945593 16.945555 16.944897 16.946213 16.94488  16.94546\n",
      " 16.949877 16.943005 16.948105 16.945257 16.947113 16.946606 16.94432\n",
      " 16.946629 16.947945 16.945335 16.948812 16.942472 16.94691  16.942753\n",
      " 16.94623  16.947718 16.94253  16.947397 16.945211 16.945292 16.942081\n",
      " 16.944958 16.943096 16.947126 16.94538  16.950836 16.949286 16.946629\n",
      " 16.947176 16.949017 16.944796 16.950558 16.945312 16.946285 16.94417\n",
      " 16.945192 16.945593 16.944513]\n"
     ]
    }
   ],
   "source": [
    "#data import from tdms-file:\n",
    "\n",
    "test_file_path = nb_path \n",
    "#data in the folder, e.g.\n",
    "tdms_file = TdmsFile.read(\"data/Steps_102346.tdms\")\n",
    "tdms_file_groups = tdms_file.groups()\n",
    "tdms_file_df = tdms_file.as_dataframe()\n",
    "\n",
    "di = tdms_file.properties\n",
    "print(di)\n",
    "print(\"File\")\n",
    "print(tdms_file.properties['name'])\n",
    "print(\"proper\")\n",
    "for key, value in di.items():\n",
    "    print(key, value)\n",
    "#for key, value in tdms_file.properties().items():\n",
    "#    print(key, value)\n",
    "\n",
    "\n",
    "# grab the columns in the file\n",
    "tdms_file_groupEC_i_file0s50mV = tdms_file_groups[0]['i']\n",
    "tdms_file_groupEC_t_file0s50mV = tdms_file_groups[0]['Time']\n",
    "tdms_file_groupEC_E_file0s50mV = tdms_file_groups[0]['E']\n",
    "tdms_file_groupEC_R_file0s50mV = tdms_file_groups[0]['Z_E']\n",
    "\n",
    "# rename and create a numpy-array with the data\n",
    "current_file0s50mV = tdms_file_groupEC_i_file0s50mV.data\n",
    "time_file0s50mV = tdms_file_groupEC_t_file0s50mV.data\n",
    "potential_file0s50mV = tdms_file_groupEC_E_file0s50mV.data\n",
    "resistivity_file0s50mV = tdms_file_groupEC_R_file0s50mV.data\n",
    "\n",
    "#check if it worked, e.g.:\n",
    "print(current_file0s50mV)\n",
    "\n",
    "\n",
    "# function\n",
    "def displayText(path_to_TDMS_EC_data):\n",
    "    print( \"Geeks 4 Geeks !\")"
   ]
  },
  {
   "cell_type": "code",
   "execution_count": null,
   "metadata": {},
   "outputs": [],
   "source": []
  }
 ],
 "metadata": {
  "kernelspec": {
   "display_name": "Python 3",
   "language": "python",
   "name": "python3"
  },
  "language_info": {
   "codemirror_mode": {
    "name": "ipython",
    "version": 3
   },
   "file_extension": ".py",
   "mimetype": "text/x-python",
   "name": "python",
   "nbconvert_exporter": "python",
   "pygments_lexer": "ipython3",
   "version": "3.11.5"
  }
 },
 "nbformat": 4,
 "nbformat_minor": 2
}
